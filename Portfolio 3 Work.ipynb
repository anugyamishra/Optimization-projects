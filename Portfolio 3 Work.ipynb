{
 "cells": [
  {
   "cell_type": "code",
   "execution_count": 1,
   "id": "fb0d0ac1-fea3-4fd1-9987-46616bc1f8ac",
   "metadata": {},
   "outputs": [],
   "source": [
    "%matplotlib inline\n",
    "import matplotlib.pyplot as plt\n",
    "import numpy as np\n",
    "import pandas as pd\n",
    "from io import StringIO\n",
    "from scipy.stats import norm\n",
    "\n",
    "from pylab import *\n",
    "from pyomo.environ import *"
   ]
  },
  {
   "cell_type": "markdown",
   "id": "92525f97-139a-4366-82df-e624738f9622",
   "metadata": {},
   "source": [
    "### Question 1"
   ]
  },
  {
   "cell_type": "markdown",
   "id": "3a691cd8-c6f0-4135-acd8-210a7ad45041",
   "metadata": {},
   "source": [
    "Product Mix Problem\n",
    "\n",
    "Your company grows two types of plants, A and B (e.g., roses and begonias).  \n",
    "\n",
    "Both plant types require two types of fertilizer throughout the growing season, Fertilizer 1 and Fertilizer 2.\n",
    "A single plant A will require 2 pounds of fertilizer 1 and 1 pound of fertilizer 2.\n",
    "A single plant B will require 1 pound of fertilizer 1 and 2 pounds of fertilizer 2.\n",
    "Your distributer has 4000 pounds of fertilizer 1 and 5000 pounds of fertilizer 2 available for delivery at the beginning of the season.\n",
    "\n",
    "You know that every plant A you grow will ener dollarsate $2.25 profit, and every plant B you grow will ener dollars te $2.60 profit.\n",
    "\n",
    "How much do you plant? (What is your business decision?) How much profit does this get you?\n"
   ]
  },
  {
   "cell_type": "code",
   "execution_count": 2,
   "id": "e6802fc6-72c7-4120-8547-b6a187cf7dd9",
   "metadata": {},
   "outputs": [
    {
     "name": "stdout",
     "output_type": "stream",
     "text": [
      "Model Roses and Begonias\n",
      "\n",
      "  Variables:\n",
      "    r : Size=1, Index=None\n",
      "        Key  : Lower : Value  : Upper : Fixed : Stale : Domain\n",
      "        None :     0 : 1000.0 :  None : False : False : NonNegativeIntegers\n",
      "    b : Size=1, Index=None\n",
      "        Key  : Lower : Value  : Upper : Fixed : Stale : Domain\n",
      "        None :     0 : 2000.0 :  None : False : False : NonNegativeIntegers\n",
      "\n",
      "  Objectives:\n",
      "    profit : Size=1, Index=None, Active=True\n",
      "        Key  : Active : Value\n",
      "        None :   True : 7450.0\n",
      "\n",
      "  Constraints:\n",
      "    f1 : Size=1\n",
      "        Key  : Lower : Body   : Upper\n",
      "        None :  None : 4000.0 : 4000.0\n",
      "    f2 : Size=1\n",
      "        Key  : Lower : Body   : Upper\n",
      "        None :  None : 5000.0 : 5000.0\n"
     ]
    }
   ],
   "source": [
    "model = ConcreteModel(\"Roses and Begonias\")\n",
    "\n",
    "#DVs\n",
    "model.r = Var(domain=NonNegativeIntegers)\n",
    "model.b = Var(domain=NonNegativeIntegers)\n",
    "\n",
    "#ObjFct\n",
    "model.profit= Objective(expr = 2.25*model.r + 2.6*model.b, sense =maximize) \n",
    "\n",
    "#Cons\n",
    "model.f1 = Constraint(expr = 2*model.r + model.b <= 4000)   \n",
    "model.f2 = Constraint(expr = model.r + 2*model.b<= 5000)\n",
    "\n",
    "SolverFactory('glpk').solve(model)  \n",
    "\n",
    "model.display()"
   ]
  },
  {
   "cell_type": "code",
   "execution_count": 3,
   "id": "1a2ac4ce-a595-4504-8730-ef312ad0d97e",
   "metadata": {},
   "outputs": [
    {
     "name": "stdout",
     "output_type": "stream",
     "text": [
      "\n",
      "Profit: 7450.0\n",
      "R to plant: 1000.0\n",
      "B to plant: 2000.0\n",
      "F1: 4000.0\n",
      "F2:5000.0\n",
      "\n"
     ]
    }
   ],
   "source": [
    "print(f'''\n",
    "Profit: {model.profit()}\n",
    "R to plant: {model.r()}\n",
    "B to plant: {model.b()}\n",
    "F1: {model.f1()}\n",
    "F2:{model.f2()}\n",
    "''')"
   ]
  },
  {
   "cell_type": "markdown",
   "id": "5766ff99-6783-475c-9a6e-e3260ac8f873",
   "metadata": {},
   "source": [
    "### Question 2"
   ]
  },
  {
   "cell_type": "markdown",
   "id": "f20c56ea-ef17-4168-805e-40e2d5cfd996",
   "metadata": {},
   "source": [
    "Product Mix Continued\n",
    "\n",
    "If your fertilizer storage capacity is 8000 pounds, what is your new product mix, and how much of each fertilizer should you order?  What would you be willing to pay for additional storage capacity?\n",
    "\n",
    "Now how much do you plant?\n"
   ]
  },
  {
   "cell_type": "code",
   "execution_count": 5,
   "id": "b68977a3-1439-42de-9766-734292d6e0d5",
   "metadata": {},
   "outputs": [
    {
     "name": "stdout",
     "output_type": "stream",
     "text": [
      "Model Roses and Begonias Continued\n",
      "\n",
      "  Variables:\n",
      "    r : Size=1, Index=None\n",
      "        Key  : Lower : Value : Upper : Fixed : Stale : Domain\n",
      "        None :     0 : 332.0 :  None : False : False : NonNegativeIntegers\n",
      "    b : Size=1, Index=None\n",
      "        Key  : Lower : Value  : Upper : Fixed : Stale : Domain\n",
      "        None :     0 : 2334.0 :  None : False : False : NonNegativeIntegers\n",
      "\n",
      "  Objectives:\n",
      "    profit : Size=1, Index=None, Active=True\n",
      "        Key  : Active : Value\n",
      "        None :   True : 6815.400000000001\n",
      "\n",
      "  Constraints:\n",
      "    f1 : Size=1\n",
      "        Key  : Lower : Body   : Upper\n",
      "        None :  None : 2998.0 : 4000.0\n",
      "    f2 : Size=1\n",
      "        Key  : Lower : Body   : Upper\n",
      "        None :  None : 5000.0 : 5000.0\n",
      "    TotalStorage : Size=1\n",
      "        Key  : Lower : Body   : Upper\n",
      "        None :  None : 7998.0 : 8000.0\n"
     ]
    }
   ],
   "source": [
    "model = ConcreteModel(\"Roses and Begonias Continued\")\n",
    "\n",
    "#DVs\n",
    "model.r = Var(domain=NonNegativeIntegers) \n",
    "model.b = Var(domain=NonNegativeIntegers)\n",
    "\n",
    "#ObjFct\n",
    "model.profit= Objective(expr = 2.25*model.r + 2.6*model.b, sense =maximize) \n",
    "\n",
    "#Cons\n",
    "model.f1 = Constraint(expr = 2*model.r + model.b <= 4000)  \n",
    "model.f2 = Constraint(expr = model.r + 2*model.b<= 5000)\n",
    "model.TotalStorage = Constraint(expr= 3*model.r+3*model.b <= 8000)\n",
    "\n",
    "SolverFactory('glpk').solve(model)  \n",
    "\n",
    "model.display()"
   ]
  },
  {
   "cell_type": "code",
   "execution_count": 6,
   "id": "898367cb-110f-4f3f-bbcb-4b624bb24f4d",
   "metadata": {},
   "outputs": [
    {
     "name": "stdout",
     "output_type": "stream",
     "text": [
      "\n",
      "Profit: 6815.400000000001\n",
      "R to plant: 332.0\n",
      "B to plant: 2334.0\n",
      "F1: 2998.0\n",
      "F2:5000.0\n",
      "TotalStorage:7998.0\n",
      "\n"
     ]
    }
   ],
   "source": [
    "print(f'''\n",
    "Profit: {model.profit()}\n",
    "R to plant: {model.r()}\n",
    "B to plant: {model.b()}\n",
    "F1: {model.f1()}\n",
    "F2:{model.f2()}\n",
    "TotalStorage:{model.TotalStorage()}\n",
    "''')"
   ]
  },
  {
   "cell_type": "markdown",
   "id": "3725b7da-383c-46da-b7df-8c5f52835339",
   "metadata": {},
   "source": [
    "### Question 3"
   ]
  },
  {
   "cell_type": "markdown",
   "id": "614e0649-ee25-4bec-bdae-6263023d1bc5",
   "metadata": {},
   "source": [
    "The Dual Problem\n",
    "\n",
    "Configure the Dual of the Product Mix Continued Problem, and find the solution.\n"
   ]
  },
  {
   "cell_type": "code",
   "execution_count": 2,
   "id": "e3e592f5-34ae-4975-9234-810a67d417bf",
   "metadata": {},
   "outputs": [
    {
     "name": "stdout",
     "output_type": "stream",
     "text": [
      "Model Dual Problem Product Mix\n",
      "\n",
      "  Variables:\n",
      "    f1Price : Size=1, Index=None\n",
      "        Key  : Lower : Value : Upper : Fixed : Stale : Domain\n",
      "        None :     0 :   0.0 :  None : False : False : NonNegativeReals\n",
      "    f2Price : Size=1, Index=None\n",
      "        Key  : Lower : Value : Upper : Fixed : Stale : Domain\n",
      "        None :     0 :  0.35 :  None : False : False : NonNegativeReals\n",
      "    TotalStoragePrice : Size=1, Index=None\n",
      "        Key  : Lower : Value             : Upper : Fixed : Stale : Domain\n",
      "        None :     0 : 0.633333333333333 :  None : False : False : NonNegativeReals\n",
      "\n",
      "  Objectives:\n",
      "    constraint : Size=1, Index=None, Active=True\n",
      "        Key  : Active : Value\n",
      "        None :   True : 6816.666666666663\n",
      "\n",
      "  Constraints:\n",
      "    R : Size=1\n",
      "        Key  : Lower : Body              : Upper\n",
      "        None :  2.25 : 2.249999999999999 :  None\n",
      "    B : Size=1\n",
      "        Key  : Lower : Body               : Upper\n",
      "        None :   2.6 : 2.5999999999999988 :  None\n"
     ]
    }
   ],
   "source": [
    "model = ConcreteModel(\"Dual Problem Product Mix\")\n",
    "\n",
    "#DVs\n",
    "model.f1Price = Var(domain=NonNegativeReals) \n",
    "model.f2Price = Var(domain=NonNegativeReals)\n",
    "model.TotalStoragePrice = Var(domain=NonNegativeReals)\n",
    "\n",
    "#ObjFct\n",
    "model.constraint= Objective(expr = 4000*model.f1Price + 5000*model.f2Price + 8000*model.TotalStoragePrice, sense =minimize)\n",
    "\n",
    "#Cons\n",
    "model.R = Constraint(expr = 2*model.f1Price + model.f2Price + 3*model.TotalStoragePrice >= 2.25)  \n",
    "model.B = Constraint(expr = 1*model.f1Price + 2*model.f2Price + 3*model.TotalStoragePrice >= 2.60)  \n",
    "\n",
    "SolverFactory('glpk').solve(model)  #glpk is free to download\n",
    "\n",
    "model.display()"
   ]
  },
  {
   "cell_type": "code",
   "execution_count": 13,
   "id": "ce344880-275a-4c49-a175-f4c956416273",
   "metadata": {},
   "outputs": [
    {
     "name": "stdout",
     "output_type": "stream",
     "text": [
      "\n",
      "Profit: 6816.67\n",
      "F1 Shadow Price: 0.0\n",
      "F2 Shadow Price: 0.35\n",
      "Total Storage Shadow Price: 0.63\n",
      "R: 2.25\n",
      "B:2.6\n",
      "\n"
     ]
    }
   ],
   "source": [
    "print(f'''\n",
    "Profit: {round(model.constraint(),2)}\n",
    "F1 Shadow Price: {round(model.f1Price(),2)}\n",
    "F2 Shadow Price: {round(model.f2Price(),2)}\n",
    "Total Storage Shadow Price: {round(model.TotalStoragePrice(),2)}\n",
    "R: {round(model.R(),3)}\n",
    "B:{round(model.B(),3)}\n",
    "''')"
   ]
  },
  {
   "cell_type": "markdown",
   "id": "57b9bfae-39b0-495d-9bf0-db486c512b1f",
   "metadata": {},
   "source": [
    "### Question 4"
   ]
  },
  {
   "cell_type": "markdown",
   "id": "7c8f8bd7-81c1-491d-b2a2-9741d3d73856",
   "metadata": {},
   "source": [
    "Product Mix Challenge\n",
    "\n",
    "You manufacture two products, A and B, each of which you sell for $1 profit.  Product A requires 5 blobs and 3 globs, and product B requires 3 blobs and 5 globs.  Your supplier has 120 blobs and 120 globs available.  To maximize profit, how much of each product should you produce? How much profit can you make?\n"
   ]
  },
  {
   "cell_type": "code",
   "execution_count": 14,
   "id": "6aee1811-3f6f-41c5-8b7d-864b1e91dac2",
   "metadata": {},
   "outputs": [
    {
     "name": "stdout",
     "output_type": "stream",
     "text": [
      "Model Product Mix Challenge\n",
      "\n",
      "  Variables:\n",
      "    ProdA : Size=1, Index=None\n",
      "        Key  : Lower : Value : Upper : Fixed : Stale : Domain\n",
      "        None :     0 :  15.0 :  None : False : False : NonNegativeIntegers\n",
      "    ProdB : Size=1, Index=None\n",
      "        Key  : Lower : Value : Upper : Fixed : Stale : Domain\n",
      "        None :     0 :  15.0 :  None : False : False : NonNegativeIntegers\n",
      "\n",
      "  Objectives:\n",
      "    profit : Size=1, Index=None, Active=True\n",
      "        Key  : Active : Value\n",
      "        None :   True :  30.0\n",
      "\n",
      "  Constraints:\n",
      "    blobs : Size=1\n",
      "        Key  : Lower : Body  : Upper\n",
      "        None :  None : 120.0 : 120.0\n",
      "    globs : Size=1\n",
      "        Key  : Lower : Body  : Upper\n",
      "        None :  None : 120.0 : 120.0\n"
     ]
    }
   ],
   "source": [
    "model = ConcreteModel(\"Product Mix Challenge\")\n",
    "\n",
    "#DVs\n",
    "model.ProdA = Var(domain=NonNegativeIntegers) \n",
    "model.ProdB = Var(domain=NonNegativeIntegers)\n",
    "\n",
    "#ObjFct\n",
    "model.profit= Objective(expr = 1*model.ProdA + 1*model.ProdB, sense =maximize) \n",
    "\n",
    "#Cons\n",
    "model.blobs = Constraint(expr = 5*model.ProdA + 3*model.ProdB <= 120)  \n",
    "model.globs = Constraint(expr = 3*model.ProdA + 5*model.ProdB <= 120)\n",
    "\n",
    "SolverFactory('glpk').solve(model)  \n",
    "\n",
    "model.display()"
   ]
  },
  {
   "cell_type": "code",
   "execution_count": 16,
   "id": "b6e7bfcc-6640-453b-8b1b-73beb6c8b8c0",
   "metadata": {},
   "outputs": [
    {
     "name": "stdout",
     "output_type": "stream",
     "text": [
      "\n",
      "Profit: 30.0\n",
      "ProdA to produce: 15.0\n",
      "ProdB to produce: 15.0\n",
      "Blobs used: 120.0\n",
      "Globs used:120.0\n",
      "\n"
     ]
    }
   ],
   "source": [
    "print(f'''\n",
    "Profit: {model.profit()}\n",
    "ProdA to produce: {model.ProdA()}\n",
    "ProdB to produce: {model.ProdB()}\n",
    "Blobs used: {model.blobs()}\n",
    "Globs used:{model.globs()}\n",
    "''')"
   ]
  },
  {
   "cell_type": "markdown",
   "id": "bdd23630-e2f5-4cd0-ab39-f018ce3b266d",
   "metadata": {},
   "source": [
    "### Question 5"
   ]
  },
  {
   "cell_type": "markdown",
   "id": "4c992217-d1b2-4175-b28f-86cc5abf5886",
   "metadata": {},
   "source": [
    "Golf Bags\n",
    "\n",
    "Your company manufactures two types of golf bags, Standard and Deluxe.  You make $10 profit per Standard bag, and $9 profit per Deluxe bag that you sell.\n",
    "\n",
    "Production times (in minutes) of each bag type are shown below, based on data you have collected from your assembly line.\n",
    "\n",
    "    \tCutting and Dyeing\tSewing\tFinishing\tInspection and Packaging\n",
    "Standard\t42\t             30     \t60\t             6\n",
    "Deluxe\t    60\t             50\t        40\t             15\n",
    "\n",
    "Over the next 3 months, you estimate you have 630 hours of cutting and dyeing time, 600 hours of sewing time, 708 hours of finishing time, and 135 hours of inspection and packaging time available.\n",
    "\n",
    "How many of each bag type should you manufacture over the next three months in order to maximize profit?\n"
   ]
  },
  {
   "cell_type": "code",
   "execution_count": 17,
   "id": "e117eef3-a2c0-430a-b0dd-dddcd024fd09",
   "metadata": {},
   "outputs": [
    {
     "name": "stdout",
     "output_type": "stream",
     "text": [
      "Model Golf Bags\n",
      "\n",
      "  Variables:\n",
      "    Standard : Size=1, Index=None\n",
      "        Key  : Lower : Value : Upper : Fixed : Stale : Domain\n",
      "        None :     0 : 540.0 :  None : False : False : NonNegativeIntegers\n",
      "    Deluxe : Size=1, Index=None\n",
      "        Key  : Lower : Value : Upper : Fixed : Stale : Domain\n",
      "        None :     0 : 252.0 :  None : False : False : NonNegativeIntegers\n",
      "\n",
      "  Objectives:\n",
      "    profit : Size=1, Index=None, Active=True\n",
      "        Key  : Active : Value\n",
      "        None :   True : 7668.0\n",
      "\n",
      "  Constraints:\n",
      "    CnD : Size=1\n",
      "        Key  : Lower : Body    : Upper\n",
      "        None :  None : 37800.0 : 37800.0\n",
      "    S : Size=1\n",
      "        Key  : Lower : Body    : Upper\n",
      "        None :  None : 28800.0 : 36000.0\n",
      "    F : Size=1\n",
      "        Key  : Lower : Body    : Upper\n",
      "        None :  None : 42480.0 : 42480.0\n",
      "    InP : Size=1\n",
      "        Key  : Lower : Body   : Upper\n",
      "        None :  None : 7020.0 : 8100.0\n"
     ]
    }
   ],
   "source": [
    "model = ConcreteModel(\"Golf Bags\")\n",
    "\n",
    "#DVs\n",
    "model.Standard = Var(domain = NonNegativeIntegers)\n",
    "model.Deluxe = Var(domain = NonNegativeIntegers)\n",
    "\n",
    "#Objective\n",
    "model.profit = Objective(expr= 10*model.Standard + 9*model.Deluxe, sense = maximize)\n",
    "\n",
    "#Cons\n",
    "model.CnD = Constraint(expr = 42*model.Standard + 60*model.Deluxe <= 37800)\n",
    "model.S = Constraint(expr = 30*model.Standard + 50*model.Deluxe <= 36000)\n",
    "model.F = Constraint(expr = 60*model.Standard + 40*model.Deluxe <= 42480)\n",
    "model.InP = Constraint(expr = 6*model.Standard + 15*model.Deluxe <= 8100)\n",
    "\n",
    "SolverFactory('glpk').solve(model)  \n",
    "\n",
    "model.display()"
   ]
  },
  {
   "cell_type": "code",
   "execution_count": 19,
   "id": "51df6345-74a0-47a3-bada-aabe37501ac5",
   "metadata": {},
   "outputs": [
    {
     "name": "stdout",
     "output_type": "stream",
     "text": [
      "\n",
      "Profit: 7668.0\n",
      "Standard Golf Bags to produce: 540.0\n",
      "Deluxe Golf Bags to produce: 252.0\n",
      "Cutting and Dyeing minutes used: 37800.0\n",
      "Sewing minutes used:28800.0\n",
      "Finishing minutes used:42480.0\n",
      "Inspection and Packaging minutes used:7020.0\n",
      "\n"
     ]
    }
   ],
   "source": [
    "print(f'''\n",
    "Profit: {model.profit()}\n",
    "Standard Golf Bags to produce: {model.Standard()}\n",
    "Deluxe Golf Bags to produce: {model.Deluxe()}\n",
    "Cutting and Dyeing minutes used: {model.CnD()}\n",
    "Sewing minutes used:{model.S()}\n",
    "Finishing minutes used:{model.F()}\n",
    "Inspection and Packaging minutes used:{model.InP()}\n",
    "''')"
   ]
  },
  {
   "cell_type": "markdown",
   "id": "5f69e4ce-4f6b-41ba-a558-228ba07fc6c7",
   "metadata": {},
   "source": [
    "### Question 6"
   ]
  },
  {
   "cell_type": "markdown",
   "id": "b2ab0f33-dc05-4bb5-898b-db2836bb65e2",
   "metadata": {},
   "source": [
    "Baseball Gloves\n",
    "\n",
    "Your company manufactures two types of baseball mitts, Fielder and Catcher.  The Fielder gloves generate $5 profit, and the Catcher gloves generate $8 profit.\n",
    "\n",
    "Production times (in minutes) of each glove type are shown below, based on data you have collected from your assembly line.\n",
    "\n",
    "\t     Cutting and Sewing\t     Finishing\t  Packaging and Shipping\n",
    "Fielder\t     60\t                    30\t                12.5\n",
    "Catcher\t     90\t                    20              \t15\n",
    "\n",
    "Over the next month, you estimate you have 900 hours of cutting and sewing time available, 300 hours of finishing time, and 100 hours of packaging and shipping time available.  \n",
    "\n",
    "How many of each glove type should you manufacture over the next month in order to maximize profit?\n"
   ]
  },
  {
   "cell_type": "code",
   "execution_count": 23,
   "id": "51b96df2-2bc5-466d-b442-55658f993fb7",
   "metadata": {},
   "outputs": [
    {
     "name": "stdout",
     "output_type": "stream",
     "text": [
      "Model Baseball Gloves\n",
      "\n",
      "  Variables:\n",
      "    Fielder : Size=1, Index=None\n",
      "        Key  : Lower : Value : Upper : Fixed : Stale : Domain\n",
      "        None :     0 :   0.0 :  None : False : False : NonNegativeIntegers\n",
      "    Catcher : Size=1, Index=None\n",
      "        Key  : Lower : Value : Upper : Fixed : Stale : Domain\n",
      "        None :     0 : 400.0 :  None : False : False : NonNegativeIntegers\n",
      "\n",
      "  Objectives:\n",
      "    profit : Size=1, Index=None, Active=True\n",
      "        Key  : Active : Value\n",
      "        None :   True : 3200.0\n",
      "\n",
      "  Constraints:\n",
      "    CnS : Size=1\n",
      "        Key  : Lower : Body    : Upper\n",
      "        None :  None : 36000.0 : 54000.0\n",
      "    Fn : Size=1\n",
      "        Key  : Lower : Body   : Upper\n",
      "        None :  None : 8000.0 : 18000.0\n",
      "    PnS : Size=1\n",
      "        Key  : Lower : Body   : Upper\n",
      "        None :  None : 6000.0 : 6000.0\n"
     ]
    }
   ],
   "source": [
    "model = ConcreteModel(\"Baseball Gloves\")\n",
    "\n",
    "#DVs\n",
    "\n",
    "model.Fielder = Var(domain = NonNegativeIntegers)\n",
    "model.Catcher = Var(domain = NonNegativeIntegers)\n",
    "\n",
    "#Objective\n",
    "model.profit = Objective(expr= 5*model.Fielder + 8*model.Catcher, sense = maximize)\n",
    "\n",
    "#Cons\n",
    "model.CnS = Constraint(expr = 60*model.Fielder + 90*model.Catcher <= 54000)\n",
    "model.Fn = Constraint(expr = 30*model.Fielder + 20*model.Catcher <= 18000)\n",
    "model.PnS = Constraint(expr = 12.5*model.Fielder + 15*model.Catcher <= 6000)\n",
    "\n",
    "SolverFactory('glpk').solve(model)  \n",
    "\n",
    "model.display()"
   ]
  },
  {
   "cell_type": "code",
   "execution_count": 24,
   "id": "e4253577-0963-4555-b0c9-dff3fa9b1c40",
   "metadata": {},
   "outputs": [
    {
     "name": "stdout",
     "output_type": "stream",
     "text": [
      "\n",
      "Profit: 3200.0\n",
      "Fielder gloves to produce: 0.0\n",
      "Catcher gloves to produce: 400.0\n",
      "Cutting and Sewing minutes used: 36000.0\n",
      "Finishing minutes used:8000.0\n",
      "Packaging and Shipping minutes used:6000.0\n",
      "\n"
     ]
    }
   ],
   "source": [
    "print(f'''\n",
    "Profit: {model.profit()}\n",
    "Fielder gloves to produce: {model.Fielder()}\n",
    "Catcher gloves to produce: {model.Catcher()}\n",
    "Cutting and Sewing minutes used: {model.CnS()}\n",
    "Finishing minutes used:{model.Fn()}\n",
    "Packaging and Shipping minutes used:{model.PnS()}\n",
    "''')"
   ]
  },
  {
   "cell_type": "markdown",
   "id": "765ae58a-051c-4184-bab3-51d27e5832e4",
   "metadata": {},
   "source": [
    "### Question 7"
   ]
  },
  {
   "cell_type": "markdown",
   "id": "8d280a96-a07f-4125-b6e3-ce811b27d07a",
   "metadata": {},
   "source": [
    "Bike Frames\n",
    "\n",
    "Your company produces bike frames using two different material blend, Professional grade and Standard grade.  The cost per yard of the blends are $7.50 per yard for Standard and $9.00 per yard for Professional.  \n",
    "\n",
    "The material content (in percent) of your blends are given in the following table:\n",
    "\n",
    "\t        Standard    Professional\n",
    "Fiberglass\t    0.84\t   0.58\n",
    "Carbon Fiber\t0.1        0.3\n",
    "Kevlar\t        0.06\t   0.12\n",
    "\n",
    "You have a new contract to produce bike frames that require 30 total yards of material per frame.  The frames must have a carbon fiber content of at least 20%, and a Kevlar content of not more than 10%.  How many yards of each material blend (Standard and Professional) should go into each frame in order to minimize cost?\n"
   ]
  },
  {
   "cell_type": "code",
   "execution_count": 27,
   "id": "678f85e9-a089-4b99-a466-9530048280a5",
   "metadata": {},
   "outputs": [
    {
     "name": "stdout",
     "output_type": "stream",
     "text": [
      "Model Bike Frames\n",
      "\n",
      "  Variables:\n",
      "    Standard : Size=1, Index=None\n",
      "        Key  : Lower : Value : Upper : Fixed : Stale : Domain\n",
      "        None :     0 :  15.0 :  None : False : False : NonNegativeIntegers\n",
      "    Professional : Size=1, Index=None\n",
      "        Key  : Lower : Value : Upper : Fixed : Stale : Domain\n",
      "        None :     0 :  15.0 :  None : False : False : NonNegativeIntegers\n",
      "\n",
      "  Objectives:\n",
      "    cost : Size=1, Index=None, Active=True\n",
      "        Key  : Active : Value\n",
      "        None :   True : 247.5\n",
      "\n",
      "  Constraints:\n",
      "    TotalYards : Size=1\n",
      "        Key  : Lower : Body : Upper\n",
      "        None :  30.0 : 30.0 :  30.0\n",
      "    CarbonFiber : Size=1\n",
      "        Key  : Lower : Body : Upper\n",
      "        None :   6.0 :  6.0 :  None\n",
      "    Kevlar : Size=1\n",
      "        Key  : Lower : Body               : Upper\n",
      "        None :  None : 2.6999999999999997 :   3.0\n"
     ]
    }
   ],
   "source": [
    "model = ConcreteModel(\"Bike Frames\")\n",
    "\n",
    "#DVs\n",
    "\n",
    "model.Standard = Var(domain = NonNegativeIntegers)\n",
    "model.Professional = Var(domain = NonNegativeIntegers)\n",
    "\n",
    "#Objective\n",
    "model.cost = Objective(expr= 7.5*model.Standard + 9*model.Professional, sense = minimize)\n",
    "\n",
    "#Cons\n",
    "model.TotalYards = Constraint(expr = model.Standard + model.Professional == 30)\n",
    "model.CarbonFiber = Constraint(expr = 0.1*model.Standard + 0.3*model.Professional >= 30*0.2)\n",
    "model.Kevlar = Constraint(expr = 0.06*model.Standard + 0.12*model.Professional <= 30*0.1)\n",
    "\n",
    "SolverFactory('glpk').solve(model)  \n",
    "\n",
    "model.display()"
   ]
  },
  {
   "cell_type": "code",
   "execution_count": 33,
   "id": "14cbed64-8d8f-4aa8-a026-783adb9e1bf3",
   "metadata": {},
   "outputs": [
    {
     "name": "stdout",
     "output_type": "stream",
     "text": [
      "\n",
      "Cost: 247.5\n",
      "Total yards of Standard Blend per Bike Frame: 15.0\n",
      "Total yards of Professional Blend per Bike Frame: 15.0\n",
      "Total yards: 30.0\n",
      "Total CarbonFiber content:6.0\n",
      "Total Kevlar content:2.7\n",
      "Total Fiberglass content: 21.3\n",
      "\n"
     ]
    }
   ],
   "source": [
    "print(f'''\n",
    "Cost: {model.cost()}\n",
    "Total yards of Standard Blend per Bike Frame: {model.Standard()}\n",
    "Total yards of Professional Blend per Bike Frame: {model.Professional()}\n",
    "Total yards: {model.TotalYards()}\n",
    "Total CarbonFiber content:{model.CarbonFiber()}\n",
    "Total Kevlar content:{round(model.Kevlar(),2)}\n",
    "Total Fiberglass content: {model.TotalYards()-model.CarbonFiber()-model.Kevlar()}\n",
    "''')"
   ]
  },
  {
   "cell_type": "markdown",
   "id": "57e91a91-335a-4bd8-a0a9-888a5ae48584",
   "metadata": {},
   "source": [
    "### Question 8"
   ]
  },
  {
   "cell_type": "markdown",
   "id": "77bbad09-e5a6-48fe-8a92-8070d33bb010",
   "metadata": {},
   "source": [
    "Investment Portfolios\n",
    "\n",
    "Your company manages investments for your clients, where you build portfolios based on anticipated yield and risk.  (Yield and risk are generally based on historical performance of the investment instruments.)\n",
    "\n",
    "The three instruments you are considering for a client are growth, income, and money market funds, which you determine to have risks of .1, .05, and .01 respectively.  Furthermore, you project the yields of these funds to be 20%, 10%, and 6% respectively.  \n",
    "\n",
    "Your client insists that you diversify, with at least 10% in each of the growth and income funds, and at least 20% in the money market fund.\n",
    "\n",
    "Your client wants to assume no more that 5% risk, where overall risk is calculated based on a weighted average of the risks of each individual instrument, and where the weightings are the percents of the investment that go towards each instrument.\n",
    "\n",
    "If your client has $1,000,000 to invest, how should you allocate his funds?\n",
    "\n",
    "Crossed out: How much can your yield estimates for each instrument change (individually) before you have to change this allocation?\n"
   ]
  },
  {
   "cell_type": "code",
   "execution_count": 37,
   "id": "3d00d6fc-2b67-4504-ac9a-7303af31d1e1",
   "metadata": {},
   "outputs": [
    {
     "name": "stdout",
     "output_type": "stream",
     "text": [
      "Model Investment Portfolios\n",
      "\n",
      "  Variables:\n",
      "    Gro : Size=1, Index=None\n",
      "        Key  : Lower : Value    : Upper : Fixed : Stale : Domain\n",
      "        None :     0 : 400000.0 :  None : False : False : NonNegativeIntegers\n",
      "    Inc : Size=1, Index=None\n",
      "        Key  : Lower : Value    : Upper : Fixed : Stale : Domain\n",
      "        None :     0 : 100000.0 :  None : False : False : NonNegativeIntegers\n",
      "    MMF : Size=1, Index=None\n",
      "        Key  : Lower : Value    : Upper : Fixed : Stale : Domain\n",
      "        None :     0 : 500000.0 :  None : False : False : NonNegativeIntegers\n",
      "\n",
      "  Objectives:\n",
      "    yields : Size=1, Index=None, Active=True\n",
      "        Key  : Active : Value\n",
      "        None :   True : 120000.0\n",
      "\n",
      "  Constraints:\n",
      "    TotalInv : Size=1\n",
      "        Key  : Lower     : Body      : Upper\n",
      "        None : 1000000.0 : 1000000.0 : 1000000.0\n",
      "    Risk : Size=1\n",
      "        Key  : Lower : Body    : Upper\n",
      "        None :  None : 50000.0 : 50000.0\n",
      "    MinGro : Size=1\n",
      "        Key  : Lower    : Body     : Upper\n",
      "        None : 100000.0 : 400000.0 :  None\n",
      "    MinInc : Size=1\n",
      "        Key  : Lower    : Body     : Upper\n",
      "        None : 100000.0 : 100000.0 :  None\n",
      "    MinMMF : Size=1\n",
      "        Key  : Lower    : Body     : Upper\n",
      "        None : 200000.0 : 500000.0 :  None\n"
     ]
    }
   ],
   "source": [
    "model = ConcreteModel(\"Investment Portfolios\")\n",
    "\n",
    "#DVs\n",
    "\n",
    "model.Gro = Var(domain = NonNegativeIntegers)\n",
    "model.Inc = Var(domain = NonNegativeIntegers)\n",
    "model.MMF = Var(domain = NonNegativeIntegers)\n",
    "\n",
    "\n",
    "#Objective\n",
    "model.yields = Objective(expr= 0.2*model.Gro + 0.1*model.Inc + .06*model.MMF, sense = maximize)\n",
    "\n",
    "#Cons\n",
    "model.TotalInv = Constraint(expr = model.Gro + model.Inc + model.MMF == 1000000)\n",
    "model.Risk = Constraint(expr = 0.1*model.Gro + 0.05*model.Inc + 0.01*model.MMF <= 0.05*1000000)\n",
    "model.MinGro = Constraint(expr = model.Gro >= 0.1*1000000)\n",
    "model.MinInc = Constraint(expr = model.Inc >= 0.1*1000000)\n",
    "model.MinMMF = Constraint(expr = model.MMF >= 0.2*1000000)\n",
    "SolverFactory('glpk').solve(model)  \n",
    "\n",
    "model.display()"
   ]
  },
  {
   "cell_type": "code",
   "execution_count": 38,
   "id": "cec90beb-b514-4d80-97cf-8a9ea34f45e5",
   "metadata": {},
   "outputs": [
    {
     "name": "stdout",
     "output_type": "stream",
     "text": [
      "\n",
      "Total yield: 120000.0\n",
      "Investment in Growth Fund: 400000.0\n",
      "Investment in Income Fund: 100000.0\n",
      "Investment in Money Market Fund: 500000.0\n",
      "Total Risk:50000.0\n",
      "\n"
     ]
    }
   ],
   "source": [
    "print(f'''\n",
    "Total yield: {model.yields()}\n",
    "Investment in Growth Fund: {model.Gro()}\n",
    "Investment in Income Fund: {model.Inc()}\n",
    "Investment in Money Market Fund: {model.MMF()}\n",
    "Total Risk:{model.Risk()}\n",
    "''')"
   ]
  },
  {
   "cell_type": "markdown",
   "id": "875375c1-f108-46b6-97b2-0462a5e2a3fa",
   "metadata": {},
   "source": [
    "### Question 9"
   ]
  },
  {
   "cell_type": "markdown",
   "id": "26510f21-de36-40cb-afd8-c06c0a5291f4",
   "metadata": {},
   "source": [
    "Your company is prepared to undertake several new projects over the next five years.  Each Division has submitted a number of project proposals that include the annual budgets and anticipated profit.  \n",
    "\n",
    "What project selection should your company choose?  (You decide what criterion to use, but recall that this is not the Daniels College of Philanthropy.)\n",
    "\n"
   ]
  },
  {
   "cell_type": "code",
   "execution_count": 48,
   "id": "6161aa9c-042d-47c3-b257-b64434bd09ef",
   "metadata": {},
   "outputs": [],
   "source": [
    "profit = pd.read_excel('INFO4590P3PyomoData.xlsx',index_col=0)  \n",
    "\n",
    "data = pd.read_excel('INFO4590P3PyomoData.xlsx',sheet_name=\"PSData\",index_col=0)"
   ]
  },
  {
   "cell_type": "code",
   "execution_count": 49,
   "id": "7003dc36-bf4c-4ebb-92dc-a228006ddd89",
   "metadata": {},
   "outputs": [
    {
     "data": {
      "text/html": [
       "<div>\n",
       "<style scoped>\n",
       "    .dataframe tbody tr th:only-of-type {\n",
       "        vertical-align: middle;\n",
       "    }\n",
       "\n",
       "    .dataframe tbody tr th {\n",
       "        vertical-align: top;\n",
       "    }\n",
       "\n",
       "    .dataframe thead th {\n",
       "        text-align: right;\n",
       "    }\n",
       "</style>\n",
       "<table border=\"1\" class=\"dataframe\">\n",
       "  <thead>\n",
       "    <tr style=\"text-align: right;\">\n",
       "      <th></th>\n",
       "      <th>P1</th>\n",
       "      <th>P2</th>\n",
       "      <th>P3</th>\n",
       "      <th>P4</th>\n",
       "      <th>P5</th>\n",
       "      <th>P6</th>\n",
       "      <th>P7</th>\n",
       "      <th>P8</th>\n",
       "      <th>P9</th>\n",
       "      <th>P10</th>\n",
       "      <th>P11</th>\n",
       "      <th>P12</th>\n",
       "      <th>P13</th>\n",
       "      <th>P14</th>\n",
       "      <th>P15</th>\n",
       "    </tr>\n",
       "  </thead>\n",
       "  <tbody>\n",
       "    <tr>\n",
       "      <th>Profit</th>\n",
       "      <td>1500</td>\n",
       "      <td>2000</td>\n",
       "      <td>2500</td>\n",
       "      <td>7000</td>\n",
       "      <td>4000</td>\n",
       "      <td>3000</td>\n",
       "      <td>4500</td>\n",
       "      <td>3500</td>\n",
       "      <td>1500</td>\n",
       "      <td>2000</td>\n",
       "      <td>2500</td>\n",
       "      <td>7000</td>\n",
       "      <td>4000</td>\n",
       "      <td>3000</td>\n",
       "      <td>4500</td>\n",
       "    </tr>\n",
       "  </tbody>\n",
       "</table>\n",
       "</div>"
      ],
      "text/plain": [
       "          P1    P2    P3    P4    P5    P6    P7    P8    P9   P10   P11  \\\n",
       "Profit  1500  2000  2500  7000  4000  3000  4500  3500  1500  2000  2500   \n",
       "\n",
       "         P12   P13   P14   P15  \n",
       "Profit  7000  4000  3000  4500  "
      ]
     },
     "execution_count": 49,
     "metadata": {},
     "output_type": "execute_result"
    }
   ],
   "source": [
    "profit"
   ]
  },
  {
   "cell_type": "code",
   "execution_count": 50,
   "id": "bbad40f7-b8ae-49b3-9fa8-3f4773e94b69",
   "metadata": {},
   "outputs": [
    {
     "data": {
      "text/html": [
       "<div>\n",
       "<style scoped>\n",
       "    .dataframe tbody tr th:only-of-type {\n",
       "        vertical-align: middle;\n",
       "    }\n",
       "\n",
       "    .dataframe tbody tr th {\n",
       "        vertical-align: top;\n",
       "    }\n",
       "\n",
       "    .dataframe thead th {\n",
       "        text-align: right;\n",
       "    }\n",
       "</style>\n",
       "<table border=\"1\" class=\"dataframe\">\n",
       "  <thead>\n",
       "    <tr style=\"text-align: right;\">\n",
       "      <th></th>\n",
       "      <th>P1</th>\n",
       "      <th>P2</th>\n",
       "      <th>P3</th>\n",
       "      <th>P4</th>\n",
       "      <th>P5</th>\n",
       "      <th>P6</th>\n",
       "      <th>P7</th>\n",
       "      <th>P8</th>\n",
       "      <th>P9</th>\n",
       "      <th>P10</th>\n",
       "      <th>P11</th>\n",
       "      <th>P12</th>\n",
       "      <th>P13</th>\n",
       "      <th>P14</th>\n",
       "      <th>P15</th>\n",
       "      <th>FUNDS</th>\n",
       "    </tr>\n",
       "  </thead>\n",
       "  <tbody>\n",
       "    <tr>\n",
       "      <th>2016</th>\n",
       "      <td>400</td>\n",
       "      <td>500</td>\n",
       "      <td>200</td>\n",
       "      <td>300</td>\n",
       "      <td>450</td>\n",
       "      <td>650</td>\n",
       "      <td>350</td>\n",
       "      <td>300</td>\n",
       "      <td>500</td>\n",
       "      <td>600</td>\n",
       "      <td>150</td>\n",
       "      <td>250</td>\n",
       "      <td>220</td>\n",
       "      <td>170</td>\n",
       "      <td>420</td>\n",
       "      <td>3500</td>\n",
       "    </tr>\n",
       "    <tr>\n",
       "      <th>2017</th>\n",
       "      <td>230</td>\n",
       "      <td>270</td>\n",
       "      <td>430</td>\n",
       "      <td>220</td>\n",
       "      <td>500</td>\n",
       "      <td>450</td>\n",
       "      <td>530</td>\n",
       "      <td>700</td>\n",
       "      <td>800</td>\n",
       "      <td>250</td>\n",
       "      <td>500</td>\n",
       "      <td>340</td>\n",
       "      <td>400</td>\n",
       "      <td>300</td>\n",
       "      <td>400</td>\n",
       "      <td>4500</td>\n",
       "    </tr>\n",
       "    <tr>\n",
       "      <th>2018</th>\n",
       "      <td>330</td>\n",
       "      <td>260</td>\n",
       "      <td>430</td>\n",
       "      <td>270</td>\n",
       "      <td>400</td>\n",
       "      <td>320</td>\n",
       "      <td>330</td>\n",
       "      <td>260</td>\n",
       "      <td>430</td>\n",
       "      <td>270</td>\n",
       "      <td>400</td>\n",
       "      <td>320</td>\n",
       "      <td>250</td>\n",
       "      <td>300</td>\n",
       "      <td>260</td>\n",
       "      <td>4000</td>\n",
       "    </tr>\n",
       "    <tr>\n",
       "      <th>2019</th>\n",
       "      <td>400</td>\n",
       "      <td>500</td>\n",
       "      <td>200</td>\n",
       "      <td>300</td>\n",
       "      <td>450</td>\n",
       "      <td>650</td>\n",
       "      <td>350</td>\n",
       "      <td>300</td>\n",
       "      <td>500</td>\n",
       "      <td>600</td>\n",
       "      <td>150</td>\n",
       "      <td>250</td>\n",
       "      <td>220</td>\n",
       "      <td>170</td>\n",
       "      <td>420</td>\n",
       "      <td>3450</td>\n",
       "    </tr>\n",
       "    <tr>\n",
       "      <th>2020</th>\n",
       "      <td>230</td>\n",
       "      <td>270</td>\n",
       "      <td>430</td>\n",
       "      <td>220</td>\n",
       "      <td>500</td>\n",
       "      <td>450</td>\n",
       "      <td>530</td>\n",
       "      <td>700</td>\n",
       "      <td>800</td>\n",
       "      <td>250</td>\n",
       "      <td>500</td>\n",
       "      <td>340</td>\n",
       "      <td>270</td>\n",
       "      <td>300</td>\n",
       "      <td>400</td>\n",
       "      <td>4500</td>\n",
       "    </tr>\n",
       "  </tbody>\n",
       "</table>\n",
       "</div>"
      ],
      "text/plain": [
       "       P1   P2   P3   P4   P5   P6   P7   P8   P9  P10  P11  P12  P13  P14  \\\n",
       "2016  400  500  200  300  450  650  350  300  500  600  150  250  220  170   \n",
       "2017  230  270  430  220  500  450  530  700  800  250  500  340  400  300   \n",
       "2018  330  260  430  270  400  320  330  260  430  270  400  320  250  300   \n",
       "2019  400  500  200  300  450  650  350  300  500  600  150  250  220  170   \n",
       "2020  230  270  430  220  500  450  530  700  800  250  500  340  270  300   \n",
       "\n",
       "      P15  FUNDS  \n",
       "2016  420   3500  \n",
       "2017  400   4500  \n",
       "2018  260   4000  \n",
       "2019  420   3450  \n",
       "2020  400   4500  "
      ]
     },
     "execution_count": 50,
     "metadata": {},
     "output_type": "execute_result"
    }
   ],
   "source": [
    "data"
   ]
  },
  {
   "cell_type": "code",
   "execution_count": 51,
   "id": "7266f4e2-c803-454c-a598-ae643aada26d",
   "metadata": {},
   "outputs": [],
   "source": [
    "model = ConcreteModel()\n",
    "\n",
    "P = profit.keys()  # keys=column headers, column can also be used instead of keys\n",
    "\n",
    "model.x = Var(P,domain = Binary)\n",
    "\n",
    "model.Profit = Objective(expr = sum([model.x[p]*profit.loc['Profit',p] for p in P]), sense = maximize) \n"
   ]
  },
  {
   "cell_type": "code",
   "execution_count": 52,
   "id": "cefff22f-99ad-4f61-b482-d0e6fed3dbef",
   "metadata": {},
   "outputs": [],
   "source": [
    "I = data.index  \n",
    "model.cons = ConstraintList()\n",
    "\n",
    "for i in I:\n",
    "    model.cons.add(sum([model.x[p]*data.loc[i,p] for p in P]) <= data.loc[i,'FUNDS'])"
   ]
  },
  {
   "cell_type": "code",
   "execution_count": 53,
   "id": "86d9bcd4-7040-42bf-b931-b5096bc863a5",
   "metadata": {},
   "outputs": [
    {
     "data": {
      "text/plain": [
       "{'Problem': [{'Name': 'unknown', 'Lower bound': 43000.0, 'Upper bound': 43000.0, 'Number of objectives': 1, 'Number of constraints': 5, 'Number of variables': 15, 'Number of nonzeros': 75, 'Sense': 'maximize'}], 'Solver': [{'Status': 'ok', 'Termination condition': 'optimal', 'Statistics': {'Branch and bound': {'Number of bounded subproblems': '25', 'Number of created subproblems': '25'}}, 'Error rc': 0, 'Time': 0.09816598892211914}], 'Solution': [OrderedDict([('number of solutions', 0), ('number of solutions displayed', 0)])]}"
      ]
     },
     "execution_count": 53,
     "metadata": {},
     "output_type": "execute_result"
    }
   ],
   "source": [
    "SolverFactory('glpk').solve(model)"
   ]
  },
  {
   "cell_type": "code",
   "execution_count": 54,
   "id": "1a1ba123-d6f2-4b12-9dde-7ff14bd8eb7d",
   "metadata": {},
   "outputs": [
    {
     "name": "stdout",
     "output_type": "stream",
     "text": [
      "Model unknown\n",
      "\n",
      "  Variables:\n",
      "    x : Size=15, Index={P5, P4, P9, P12, P13, P6, P10, P2, P11, P15, P14, P1, P7, P3, P8}\n",
      "        Key : Lower : Value : Upper : Fixed : Stale : Domain\n",
      "         P1 :     0 :   0.0 :     1 : False : False : Binary\n",
      "        P10 :     0 :   0.0 :     1 : False : False : Binary\n",
      "        P11 :     0 :   0.0 :     1 : False : False : Binary\n",
      "        P12 :     0 :   1.0 :     1 : False : False : Binary\n",
      "        P13 :     0 :   1.0 :     1 : False : False : Binary\n",
      "        P14 :     0 :   1.0 :     1 : False : False : Binary\n",
      "        P15 :     0 :   1.0 :     1 : False : False : Binary\n",
      "         P2 :     0 :   0.0 :     1 : False : False : Binary\n",
      "         P3 :     0 :   1.0 :     1 : False : False : Binary\n",
      "         P4 :     0 :   1.0 :     1 : False : False : Binary\n",
      "         P5 :     0 :   1.0 :     1 : False : False : Binary\n",
      "         P6 :     0 :   1.0 :     1 : False : False : Binary\n",
      "         P7 :     0 :   1.0 :     1 : False : False : Binary\n",
      "         P8 :     0 :   1.0 :     1 : False : False : Binary\n",
      "         P9 :     0 :   0.0 :     1 : False : False : Binary\n",
      "\n",
      "  Objectives:\n",
      "    Profit : Size=1, Index=None, Active=True\n",
      "        Key  : Active : Value\n",
      "        None :   True : 43000.0\n",
      "\n",
      "  Constraints:\n",
      "    cons : Size=5\n",
      "        Key : Lower : Body   : Upper\n",
      "          1 :  None : 3310.0 : 3500.0\n",
      "          2 :  None : 4270.0 : 4500.0\n",
      "          3 :  None : 3140.0 : 4000.0\n",
      "          4 :  None : 3310.0 : 3450.0\n",
      "          5 :  None : 4140.0 : 4500.0\n"
     ]
    }
   ],
   "source": [
    "model.display()"
   ]
  },
  {
   "cell_type": "markdown",
   "id": "9cd470b1-b2d5-4677-b302-c15c0daabc5c",
   "metadata": {},
   "source": [
    "### Question 10"
   ]
  },
  {
   "cell_type": "markdown",
   "id": "f69ce98f-f21a-4b08-9180-cf6e327dd3c1",
   "metadata": {},
   "source": [
    "Production Scheduling\n",
    "\n",
    "Your company manufactures printer cases on two different injection molding machines.  The M-100 has a capacity of 25 cases per hour, and the M-200 has a capacity of 40 cases per hour.  \n",
    "\n",
    "Both machines use the same chemicals in the manufacturing process; the M-100 uses 40 pounds of material per hour, and the M-200 uses 50 pounds per hour.\n",
    "\n",
    "Your client has asked you to produce as many cases as possible next week, and they will pay $18 for every case you can deliver.\n",
    "\n",
    "Unfortunately, you had scheduled maintenance down-time for both of your machines next week, so the M-100 will only be available for 15 hours maximum, and the M-200 will only be available for 10 hours maximum.  However, due to the high setup costs, if you run either machine during the week, they must run for a minimum of 5 hours.\n",
    "\n",
    "The operating costs of the machines are $50/hour for the M-100 and $75/hour for the M-200.\n",
    "\n",
    "Your chemical supplier has 1000 pounds of chemicals available next week at a cost of $6 per pound.  \n",
    "\n",
    "What is your business decision for next week, and how much profit will it generate?\n"
   ]
  },
  {
   "cell_type": "code",
   "execution_count": 13,
   "id": "9c323e57-2299-4685-8969-771c0e7eb02e",
   "metadata": {},
   "outputs": [],
   "source": [
    "modelPrS = ConcreteModel(\"Production Scheduling\")\n",
    "\n",
    "#DVs\n",
    "modelPrS.M100 = Var(domain=NonNegativeIntegers) \n",
    "modelPrS.M200 = Var(domain=NonNegativeIntegers)\n"
   ]
  },
  {
   "cell_type": "code",
   "execution_count": 14,
   "id": "d6db37b2-0139-410b-85d2-17107f33292b",
   "metadata": {},
   "outputs": [],
   "source": [
    "#Obj Fct\n",
    "\n",
    "modelPrS.profit= Objective(expr = (18-2-9.6)*modelPrS.M100 + (18-1.875-7.5)*modelPrS.M200, sense =maximize) "
   ]
  },
  {
   "cell_type": "code",
   "execution_count": 15,
   "id": "daaedbe0-82ca-43d4-aa41-7ffea486f1f4",
   "metadata": {},
   "outputs": [
    {
     "data": {
      "text/plain": [
       "{'Problem': [{'Name': 'unknown', 'Lower bound': 5446.8, 'Upper bound': 5446.8, 'Number of objectives': 1, 'Number of constraints': 5, 'Number of variables': 2, 'Number of nonzeros': 6, 'Sense': 'maximize'}], 'Solver': [{'Status': 'ok', 'Termination condition': 'optimal', 'Statistics': {'Branch and bound': {'Number of bounded subproblems': '3', 'Number of created subproblems': '3'}}, 'Error rc': 0, 'Time': 0.07184624671936035}], 'Solution': [OrderedDict([('number of solutions', 0), ('number of solutions displayed', 0)])]}"
      ]
     },
     "execution_count": 15,
     "metadata": {},
     "output_type": "execute_result"
    }
   ],
   "source": [
    "#Cons\n",
    "modelPrS.Chemical = Constraint(expr = 1.6*modelPrS.M100 + 1.25*modelPrS.M200 <= 1000)   \n",
    "modelPrS.MinHours1 = Constraint(expr = modelPrS.M100>= 5*25)\n",
    "modelPrS.MinHours2 = Constraint(expr = modelPrS.M200>= 5*40)\n",
    "modelPrS.MaxHours1 = Constraint(expr = modelPrS.M100<= 15*25)\n",
    "modelPrS.MaxHours2 = Constraint(expr = modelPrS.M200<= 10*40)\n",
    "\n",
    "\n",
    "SolverFactory('glpk').solve(modelPrS)  \n"
   ]
  },
  {
   "cell_type": "code",
   "execution_count": 16,
   "id": "e8f14f13-f0b4-4e8e-ad72-c831078f7687",
   "metadata": {},
   "outputs": [
    {
     "name": "stdout",
     "output_type": "stream",
     "text": [
      "Model Production Scheduling\n",
      "\n",
      "  Variables:\n",
      "    M100 : Size=1, Index=None\n",
      "        Key  : Lower : Value : Upper : Fixed : Stale : Domain\n",
      "        None :     0 : 312.0 :  None : False : False : NonNegativeIntegers\n",
      "    M200 : Size=1, Index=None\n",
      "        Key  : Lower : Value : Upper : Fixed : Stale : Domain\n",
      "        None :     0 : 400.0 :  None : False : False : NonNegativeIntegers\n",
      "\n",
      "  Objectives:\n",
      "    profit : Size=1, Index=None, Active=True\n",
      "        Key  : Active : Value\n",
      "        None :   True : 5446.8\n",
      "\n",
      "  Constraints:\n",
      "    Chemical : Size=1\n",
      "        Key  : Lower : Body  : Upper\n",
      "        None :  None : 999.2 : 1000.0\n",
      "    MinHours1 : Size=1\n",
      "        Key  : Lower : Body  : Upper\n",
      "        None : 125.0 : 312.0 :  None\n",
      "    MinHours2 : Size=1\n",
      "        Key  : Lower : Body  : Upper\n",
      "        None : 200.0 : 400.0 :  None\n",
      "    MaxHours1 : Size=1\n",
      "        Key  : Lower : Body  : Upper\n",
      "        None :  None : 312.0 : 375.0\n",
      "    MaxHours2 : Size=1\n",
      "        Key  : Lower : Body  : Upper\n",
      "        None :  None : 400.0 : 400.0\n"
     ]
    }
   ],
   "source": [
    "modelPrS.display()"
   ]
  },
  {
   "cell_type": "markdown",
   "id": "c9885c50-2968-49c4-b21b-e6cdf958336d",
   "metadata": {},
   "source": [
    "### Question 11"
   ]
  },
  {
   "cell_type": "markdown",
   "id": "ef31f2d2-0ed1-4b6b-bd7b-82f326d85c88",
   "metadata": {},
   "source": [
    "Assembly Line Equipment"
   ]
  },
  {
   "cell_type": "code",
   "execution_count": 2,
   "id": "b68e3049-c8ee-4375-af09-22e407257042",
   "metadata": {
    "tags": []
   },
   "outputs": [],
   "source": [
    "cost = pd.read_excel('INFO4590P3PyomoData.xlsx',sheet_name=\"ALECost\",index_col=0)  \n",
    "\n",
    "data3 = pd.read_excel('INFO4590P3PyomoData.xlsx',sheet_name=\"ALEData\",index_col=0)\n"
   ]
  },
  {
   "cell_type": "code",
   "execution_count": 3,
   "id": "abb93a87-250a-45f1-839e-aca29a87bba2",
   "metadata": {
    "tags": []
   },
   "outputs": [
    {
     "data": {
      "text/html": [
       "<div>\n",
       "<style scoped>\n",
       "    .dataframe tbody tr th:only-of-type {\n",
       "        vertical-align: middle;\n",
       "    }\n",
       "\n",
       "    .dataframe tbody tr th {\n",
       "        vertical-align: top;\n",
       "    }\n",
       "\n",
       "    .dataframe thead th {\n",
       "        text-align: right;\n",
       "    }\n",
       "</style>\n",
       "<table border=\"1\" class=\"dataframe\">\n",
       "  <thead>\n",
       "    <tr style=\"text-align: right;\">\n",
       "      <th></th>\n",
       "      <th>M-I</th>\n",
       "      <th>M-II</th>\n",
       "      <th>M-III</th>\n",
       "    </tr>\n",
       "  </thead>\n",
       "  <tbody>\n",
       "    <tr>\n",
       "      <th>Cost</th>\n",
       "      <td>18500</td>\n",
       "      <td>25000</td>\n",
       "      <td>35000</td>\n",
       "    </tr>\n",
       "  </tbody>\n",
       "</table>\n",
       "</div>"
      ],
      "text/plain": [
       "        M-I   M-II  M-III\n",
       "Cost  18500  25000  35000"
      ]
     },
     "execution_count": 3,
     "metadata": {},
     "output_type": "execute_result"
    }
   ],
   "source": [
    "cost"
   ]
  },
  {
   "cell_type": "code",
   "execution_count": 4,
   "id": "78ce5820-7b5c-4185-8433-9cccc4c728ee",
   "metadata": {
    "tags": []
   },
   "outputs": [
    {
     "data": {
      "text/html": [
       "<div>\n",
       "<style scoped>\n",
       "    .dataframe tbody tr th:only-of-type {\n",
       "        vertical-align: middle;\n",
       "    }\n",
       "\n",
       "    .dataframe tbody tr th {\n",
       "        vertical-align: top;\n",
       "    }\n",
       "\n",
       "    .dataframe thead th {\n",
       "        text-align: right;\n",
       "    }\n",
       "</style>\n",
       "<table border=\"1\" class=\"dataframe\">\n",
       "  <thead>\n",
       "    <tr style=\"text-align: right;\">\n",
       "      <th></th>\n",
       "      <th>M-I</th>\n",
       "      <th>M-II</th>\n",
       "      <th>M-III</th>\n",
       "      <th>ProdGoal</th>\n",
       "    </tr>\n",
       "  </thead>\n",
       "  <tbody>\n",
       "    <tr>\n",
       "      <th>Type1</th>\n",
       "      <td>100</td>\n",
       "      <td>265</td>\n",
       "      <td>200</td>\n",
       "      <td>3200</td>\n",
       "    </tr>\n",
       "    <tr>\n",
       "      <th>Type2</th>\n",
       "      <td>130</td>\n",
       "      <td>235</td>\n",
       "      <td>160</td>\n",
       "      <td>2500</td>\n",
       "    </tr>\n",
       "    <tr>\n",
       "      <th>Type3</th>\n",
       "      <td>140</td>\n",
       "      <td>170</td>\n",
       "      <td>260</td>\n",
       "      <td>3500</td>\n",
       "    </tr>\n",
       "    <tr>\n",
       "      <th>Type4</th>\n",
       "      <td>210</td>\n",
       "      <td>220</td>\n",
       "      <td>180</td>\n",
       "      <td>3000</td>\n",
       "    </tr>\n",
       "    <tr>\n",
       "      <th>Type5</th>\n",
       "      <td>80</td>\n",
       "      <td>120</td>\n",
       "      <td>220</td>\n",
       "      <td>2500</td>\n",
       "    </tr>\n",
       "  </tbody>\n",
       "</table>\n",
       "</div>"
      ],
      "text/plain": [
       "       M-I  M-II  M-III  ProdGoal\n",
       "Type1  100   265    200      3200\n",
       "Type2  130   235    160      2500\n",
       "Type3  140   170    260      3500\n",
       "Type4  210   220    180      3000\n",
       "Type5   80   120    220      2500"
      ]
     },
     "execution_count": 4,
     "metadata": {},
     "output_type": "execute_result"
    }
   ],
   "source": [
    "data3"
   ]
  },
  {
   "cell_type": "code",
   "execution_count": 5,
   "id": "83ed100f-63dd-42ca-95f2-d0499408191c",
   "metadata": {
    "tags": []
   },
   "outputs": [],
   "source": [
    "modelALE = ConcreteModel()\n",
    "\n",
    "C = cost.keys()  \n",
    "\n",
    "modelALE.x = Var(C,domain = NonNegativeIntegers)\n",
    "\n",
    "modelALE.Cost = Objective(expr = sum([modelALE.x[c]*cost.loc['Cost',c] for c in C]), sense = minimize) "
   ]
  },
  {
   "cell_type": "code",
   "execution_count": 6,
   "id": "cd500ca2-ec20-4b5e-bbef-a3caea4f227a",
   "metadata": {
    "tags": []
   },
   "outputs": [],
   "source": [
    "I = data3.index  \n",
    "modelALE.cons = ConstraintList()\n",
    "\n",
    "for i in I:\n",
    "    modelALE.cons.add(sum([modelALE.x[c]*data3.loc[i,c] for c in C]) >= data3.loc[i,'ProdGoal'])"
   ]
  },
  {
   "cell_type": "code",
   "execution_count": 7,
   "id": "383783e6-0e78-4f27-a73a-eaf02901d656",
   "metadata": {
    "tags": []
   },
   "outputs": [
    {
     "data": {
      "text/plain": [
       "{'Problem': [{'Name': 'unknown', 'Lower bound': 481000.0, 'Upper bound': 481000.0, 'Number of objectives': 1, 'Number of constraints': 5, 'Number of variables': 3, 'Number of nonzeros': 15, 'Sense': 'minimize'}], 'Solver': [{'Status': 'ok', 'Termination condition': 'optimal', 'Statistics': {'Branch and bound': {'Number of bounded subproblems': '13', 'Number of created subproblems': '13'}}, 'Error rc': 0, 'Time': 0.07260608673095703}], 'Solution': [OrderedDict([('number of solutions', 0), ('number of solutions displayed', 0)])]}"
      ]
     },
     "execution_count": 7,
     "metadata": {},
     "output_type": "execute_result"
    }
   ],
   "source": [
    "SolverFactory('glpk').solve(modelALE)"
   ]
  },
  {
   "cell_type": "code",
   "execution_count": 10,
   "id": "7c1cb1ba-3762-4cd5-96d9-be53b5123049",
   "metadata": {},
   "outputs": [
    {
     "name": "stdout",
     "output_type": "stream",
     "text": [
      "Model unknown\n",
      "\n",
      "  Variables:\n",
      "    x : Size=3, Index={M-II, M-III, M-I}\n",
      "        Key   : Lower : Value : Upper : Fixed : Stale : Domain\n",
      "          M-I :     0 :   6.0 :  None : False : False : NonNegativeIntegers\n",
      "         M-II :     0 :   5.0 :  None : False : False : NonNegativeIntegers\n",
      "        M-III :     0 :   7.0 :  None : False : False : NonNegativeIntegers\n",
      "\n",
      "  Objectives:\n",
      "    Cost : Size=1, Index=None, Active=True\n",
      "        Key  : Active : Value\n",
      "        None :   True : 481000.0\n",
      "\n",
      "  Constraints:\n",
      "    cons : Size=5\n",
      "        Key : Lower  : Body   : Upper\n",
      "          1 : 3200.0 : 3325.0 :  None\n",
      "          2 : 2500.0 : 3075.0 :  None\n",
      "          3 : 3500.0 : 3510.0 :  None\n",
      "          4 : 3000.0 : 3620.0 :  None\n",
      "          5 : 2500.0 : 2620.0 :  None\n"
     ]
    }
   ],
   "source": [
    "modelALE.display()"
   ]
  },
  {
   "cell_type": "markdown",
   "id": "cda55b93-d8a6-4931-8962-feefea6efecc",
   "metadata": {},
   "source": [
    "### Question 12"
   ]
  },
  {
   "cell_type": "markdown",
   "id": "9d378446-ad18-4504-ab60-4d308c9172a4",
   "metadata": {},
   "source": [
    "Manufacturing and Distribution"
   ]
  },
  {
   "cell_type": "code",
   "execution_count": 3,
   "id": "daca5636-b704-4d68-b5ed-59140fe786b0",
   "metadata": {},
   "outputs": [],
   "source": [
    "ScostMD = pd.read_excel('INFO4590P3PyomoData.xlsx',sheet_name=\"MDSCost\",index_col=0) \n",
    "\n",
    "McostMD = pd.read_excel('INFO4590P3PyomoData.xlsx',sheet_name=\"MDMCost\",index_col=0) \n",
    "\n",
    "dataMD1 = pd.read_excel('INFO4590P3PyomoData.xlsx',sheet_name=\"MDData1\",index_col=0)\n",
    "\n",
    "dataMD2 = pd.read_excel('INFO4590P3PyomoData.xlsx',sheet_name=\"MDData2\",index_col=0)"
   ]
  },
  {
   "cell_type": "code",
   "execution_count": 4,
   "id": "1fed1003-3f12-4930-9c06-045453ce05b0",
   "metadata": {},
   "outputs": [
    {
     "data": {
      "text/html": [
       "<div>\n",
       "<style scoped>\n",
       "    .dataframe tbody tr th:only-of-type {\n",
       "        vertical-align: middle;\n",
       "    }\n",
       "\n",
       "    .dataframe tbody tr th {\n",
       "        vertical-align: top;\n",
       "    }\n",
       "\n",
       "    .dataframe thead th {\n",
       "        text-align: right;\n",
       "    }\n",
       "</style>\n",
       "<table border=\"1\" class=\"dataframe\">\n",
       "  <thead>\n",
       "    <tr style=\"text-align: right;\">\n",
       "      <th></th>\n",
       "      <th>Tacoma</th>\n",
       "      <th>San Diego</th>\n",
       "      <th>Dallas</th>\n",
       "      <th>Denver</th>\n",
       "      <th>St. Louis</th>\n",
       "      <th>Tampa</th>\n",
       "      <th>Baltimore</th>\n",
       "    </tr>\n",
       "  </thead>\n",
       "  <tbody>\n",
       "    <tr>\n",
       "      <th>Macon</th>\n",
       "      <td>2.50</td>\n",
       "      <td>2.75</td>\n",
       "      <td>1.75</td>\n",
       "      <td>2.00</td>\n",
       "      <td>2.1</td>\n",
       "      <td>1.80</td>\n",
       "      <td>1.65</td>\n",
       "    </tr>\n",
       "    <tr>\n",
       "      <th>Louisville</th>\n",
       "      <td>1.85</td>\n",
       "      <td>1.90</td>\n",
       "      <td>1.50</td>\n",
       "      <td>1.60</td>\n",
       "      <td>1.0</td>\n",
       "      <td>1.90</td>\n",
       "      <td>1.85</td>\n",
       "    </tr>\n",
       "    <tr>\n",
       "      <th>Detroit</th>\n",
       "      <td>2.30</td>\n",
       "      <td>2.25</td>\n",
       "      <td>1.85</td>\n",
       "      <td>1.25</td>\n",
       "      <td>1.5</td>\n",
       "      <td>2.25</td>\n",
       "      <td>2.00</td>\n",
       "    </tr>\n",
       "    <tr>\n",
       "      <th>Phoenix</th>\n",
       "      <td>1.90</td>\n",
       "      <td>0.90</td>\n",
       "      <td>1.60</td>\n",
       "      <td>1.75</td>\n",
       "      <td>2.0</td>\n",
       "      <td>2.50</td>\n",
       "      <td>2.65</td>\n",
       "    </tr>\n",
       "  </tbody>\n",
       "</table>\n",
       "</div>"
      ],
      "text/plain": [
       "            Tacoma  San Diego  Dallas  Denver  St. Louis  Tampa  Baltimore\n",
       "Macon         2.50       2.75    1.75    2.00        2.1   1.80       1.65\n",
       "Louisville    1.85       1.90    1.50    1.60        1.0   1.90       1.85\n",
       "Detroit       2.30       2.25    1.85    1.25        1.5   2.25       2.00\n",
       "Phoenix       1.90       0.90    1.60    1.75        2.0   2.50       2.65"
      ]
     },
     "execution_count": 4,
     "metadata": {},
     "output_type": "execute_result"
    }
   ],
   "source": [
    "ScostMD"
   ]
  },
  {
   "cell_type": "code",
   "execution_count": 5,
   "id": "48db512e-5bcb-4304-9cb0-adb02d727160",
   "metadata": {},
   "outputs": [
    {
     "data": {
      "text/html": [
       "<div>\n",
       "<style scoped>\n",
       "    .dataframe tbody tr th:only-of-type {\n",
       "        vertical-align: middle;\n",
       "    }\n",
       "\n",
       "    .dataframe tbody tr th {\n",
       "        vertical-align: top;\n",
       "    }\n",
       "\n",
       "    .dataframe thead th {\n",
       "        text-align: right;\n",
       "    }\n",
       "</style>\n",
       "<table border=\"1\" class=\"dataframe\">\n",
       "  <thead>\n",
       "    <tr style=\"text-align: right;\">\n",
       "      <th></th>\n",
       "      <th>Cost/Unit</th>\n",
       "    </tr>\n",
       "  </thead>\n",
       "  <tbody>\n",
       "    <tr>\n",
       "      <th>Macon</th>\n",
       "      <td>35.50</td>\n",
       "    </tr>\n",
       "    <tr>\n",
       "      <th>Louisville</th>\n",
       "      <td>37.50</td>\n",
       "    </tr>\n",
       "    <tr>\n",
       "      <th>Detroit</th>\n",
       "      <td>39.00</td>\n",
       "    </tr>\n",
       "    <tr>\n",
       "      <th>Phoenix</th>\n",
       "      <td>36.25</td>\n",
       "    </tr>\n",
       "  </tbody>\n",
       "</table>\n",
       "</div>"
      ],
      "text/plain": [
       "            Cost/Unit\n",
       "Macon           35.50\n",
       "Louisville      37.50\n",
       "Detroit         39.00\n",
       "Phoenix         36.25"
      ]
     },
     "execution_count": 5,
     "metadata": {},
     "output_type": "execute_result"
    }
   ],
   "source": [
    "McostMD"
   ]
  },
  {
   "cell_type": "code",
   "execution_count": 6,
   "id": "de5bfcf7-466b-47f8-82dc-73af255332e9",
   "metadata": {},
   "outputs": [
    {
     "data": {
      "text/html": [
       "<div>\n",
       "<style scoped>\n",
       "    .dataframe tbody tr th:only-of-type {\n",
       "        vertical-align: middle;\n",
       "    }\n",
       "\n",
       "    .dataframe tbody tr th {\n",
       "        vertical-align: top;\n",
       "    }\n",
       "\n",
       "    .dataframe thead th {\n",
       "        text-align: right;\n",
       "    }\n",
       "</style>\n",
       "<table border=\"1\" class=\"dataframe\">\n",
       "  <thead>\n",
       "    <tr style=\"text-align: right;\">\n",
       "      <th></th>\n",
       "      <th>Tacoma</th>\n",
       "      <th>San Diego</th>\n",
       "      <th>Dallas</th>\n",
       "      <th>Denver</th>\n",
       "      <th>St. Louis</th>\n",
       "      <th>Tampa</th>\n",
       "      <th>Baltimore</th>\n",
       "    </tr>\n",
       "  </thead>\n",
       "  <tbody>\n",
       "    <tr>\n",
       "      <th>Total Demand</th>\n",
       "      <td>8500</td>\n",
       "      <td>14500</td>\n",
       "      <td>13500</td>\n",
       "      <td>12600</td>\n",
       "      <td>18000</td>\n",
       "      <td>15000</td>\n",
       "      <td>9000</td>\n",
       "    </tr>\n",
       "    <tr>\n",
       "      <th>Min Demand</th>\n",
       "      <td>6800</td>\n",
       "      <td>11600</td>\n",
       "      <td>10800</td>\n",
       "      <td>10080</td>\n",
       "      <td>14400</td>\n",
       "      <td>12000</td>\n",
       "      <td>7200</td>\n",
       "    </tr>\n",
       "  </tbody>\n",
       "</table>\n",
       "</div>"
      ],
      "text/plain": [
       "              Tacoma  San Diego  Dallas  Denver  St. Louis  Tampa  Baltimore\n",
       "Total Demand    8500      14500   13500   12600      18000  15000       9000\n",
       "Min Demand      6800      11600   10800   10080      14400  12000       7200"
      ]
     },
     "execution_count": 6,
     "metadata": {},
     "output_type": "execute_result"
    }
   ],
   "source": [
    "dataMD1"
   ]
  },
  {
   "cell_type": "code",
   "execution_count": 7,
   "id": "df8d3df0-84f6-4937-9c82-5b66aadca791",
   "metadata": {},
   "outputs": [
    {
     "data": {
      "text/html": [
       "<div>\n",
       "<style scoped>\n",
       "    .dataframe tbody tr th:only-of-type {\n",
       "        vertical-align: middle;\n",
       "    }\n",
       "\n",
       "    .dataframe tbody tr th {\n",
       "        vertical-align: top;\n",
       "    }\n",
       "\n",
       "    .dataframe thead th {\n",
       "        text-align: right;\n",
       "    }\n",
       "</style>\n",
       "<table border=\"1\" class=\"dataframe\">\n",
       "  <thead>\n",
       "    <tr style=\"text-align: right;\">\n",
       "      <th></th>\n",
       "      <th>Capacity</th>\n",
       "    </tr>\n",
       "  </thead>\n",
       "  <tbody>\n",
       "    <tr>\n",
       "      <th>Macon</th>\n",
       "      <td>18000</td>\n",
       "    </tr>\n",
       "    <tr>\n",
       "      <th>Louisville</th>\n",
       "      <td>15000</td>\n",
       "    </tr>\n",
       "    <tr>\n",
       "      <th>Detroit</th>\n",
       "      <td>25000</td>\n",
       "    </tr>\n",
       "    <tr>\n",
       "      <th>Phoenix</th>\n",
       "      <td>20000</td>\n",
       "    </tr>\n",
       "  </tbody>\n",
       "</table>\n",
       "</div>"
      ],
      "text/plain": [
       "            Capacity\n",
       "Macon          18000\n",
       "Louisville     15000\n",
       "Detroit        25000\n",
       "Phoenix        20000"
      ]
     },
     "execution_count": 7,
     "metadata": {},
     "output_type": "execute_result"
    }
   ],
   "source": [
    "dataMD2"
   ]
  },
  {
   "cell_type": "code",
   "execution_count": 8,
   "id": "e12c1428-5f16-4ee6-9c2b-56fa7c55b5f8",
   "metadata": {},
   "outputs": [
    {
     "name": "stderr",
     "output_type": "stream",
     "text": [
      "C:\\Users\\amara\\AppData\\Local\\Temp\\ipykernel_9984\\2163315576.py:10: DeprecationWarning: Calling np.sum(generator) is deprecated, and in the future will give a different result. Use np.sum(np.fromiter(generator)) or the python sum builtin instead.\n",
      "  modelMD.Cost = Objective(expr = sum(sum([modelMD.x[p,c] for c in Ci])*McostMD.loc[p,'Cost/Unit'] for p in P) + sum(sum([modelMD.x[p,c]*ScostMD.loc[p,c] for c in Ci]) for p in P), sense = minimize)\n",
      "C:\\Users\\amara\\AppData\\Local\\Temp\\ipykernel_9984\\2163315576.py:10: DeprecationWarning: Calling np.sum(generator) is deprecated, and in the future will give a different result. Use np.sum(np.fromiter(generator)) or the python sum builtin instead.\n",
      "  modelMD.Cost = Objective(expr = sum(sum([modelMD.x[p,c] for c in Ci])*McostMD.loc[p,'Cost/Unit'] for p in P) + sum(sum([modelMD.x[p,c]*ScostMD.loc[p,c] for c in Ci]) for p in P), sense = minimize)\n"
     ]
    }
   ],
   "source": [
    "modelMD = ConcreteModel()\n",
    "\n",
    "Ci = ScostMD.keys()  # distributor\n",
    "P = ScostMD.index    # plant\n",
    "\n",
    "#DVs\n",
    "modelMD.x = Var( P,Ci,domain = NonNegativeIntegers)\n",
    "\n",
    "#\n",
    "modelMD.Cost = Objective(expr = sum(sum([modelMD.x[p,c] for c in Ci])*McostMD.loc[p,'Cost/Unit'] for p in P) + \n",
    "                         sum(sum([modelMD.x[p,c]*ScostMD.loc[p,c] for c in Ci]) for p in P), sense = minimize)\n",
    "#modelCR.SCost = Objective(expr = sum(sum([modelMD.x[c,p]*costMD.loc['Cost',c] for c in Ci]) for p in P), sense = minimize)\n"
   ]
  },
  {
   "cell_type": "code",
   "execution_count": 9,
   "id": "f2d860ce-dedc-4ca6-83a2-a64f65402082",
   "metadata": {},
   "outputs": [],
   "source": [
    "#I1 = dataMD1.index \n",
    "modelMD.cons = ConstraintList()\n",
    "\n",
    "for c in Ci:\n",
    "    modelMD.cons.add(sum([modelMD.x[p,c] for p in P]) >= dataMD1.loc['Min Demand',c])\n",
    "\n",
    "for p in P:\n",
    "    modelMD.cons.add(sum([modelMD.x[p,c] for c in Ci])<= dataMD2.loc[p,'Capacity'])"
   ]
  },
  {
   "cell_type": "code",
   "execution_count": 10,
   "id": "8015b57e-6353-4233-80e2-939c227bceff",
   "metadata": {},
   "outputs": [
    {
     "data": {
      "text/plain": [
       "{'Problem': [{'Name': 'unknown', 'Lower bound': 2805450.0, 'Upper bound': 2805450.0, 'Number of objectives': 1, 'Number of constraints': 11, 'Number of variables': 28, 'Number of nonzeros': 56, 'Sense': 'minimize'}], 'Solver': [{'Status': 'ok', 'Termination condition': 'optimal', 'Statistics': {'Branch and bound': {'Number of bounded subproblems': '1', 'Number of created subproblems': '1'}}, 'Error rc': 0, 'Time': 0.06254076957702637}], 'Solution': [OrderedDict([('number of solutions', 0), ('number of solutions displayed', 0)])]}"
      ]
     },
     "execution_count": 10,
     "metadata": {},
     "output_type": "execute_result"
    }
   ],
   "source": [
    "SolverFactory('glpk').solve(modelMD)"
   ]
  },
  {
   "cell_type": "code",
   "execution_count": 11,
   "id": "94c5d779-d1ff-4d9a-b163-baf4fb3e5b1c",
   "metadata": {},
   "outputs": [
    {
     "name": "stdout",
     "output_type": "stream",
     "text": [
      "Model unknown\n",
      "\n",
      "  Variables:\n",
      "    x : Size=28, Index={Phoenix, Macon, Detroit, Louisville}*{Denver, Tacoma, St. Louis, Dallas, Tampa, San Diego, Baltimore}\n",
      "        Key                         : Lower : Value   : Upper : Fixed : Stale : Domain\n",
      "           ('Detroit', 'Baltimore') :     0 :  1200.0 :  None : False : False : NonNegativeIntegers\n",
      "              ('Detroit', 'Dallas') :     0 :  8600.0 :  None : False : False : NonNegativeIntegers\n",
      "              ('Detroit', 'Denver') :     0 : 10080.0 :  None : False : False : NonNegativeIntegers\n",
      "           ('Detroit', 'San Diego') :     0 :     0.0 :  None : False : False : NonNegativeIntegers\n",
      "           ('Detroit', 'St. Louis') :     0 :     0.0 :  None : False : False : NonNegativeIntegers\n",
      "              ('Detroit', 'Tacoma') :     0 :     0.0 :  None : False : False : NonNegativeIntegers\n",
      "               ('Detroit', 'Tampa') :     0 :     0.0 :  None : False : False : NonNegativeIntegers\n",
      "        ('Louisville', 'Baltimore') :     0 :     0.0 :  None : False : False : NonNegativeIntegers\n",
      "           ('Louisville', 'Dallas') :     0 :   600.0 :  None : False : False : NonNegativeIntegers\n",
      "           ('Louisville', 'Denver') :     0 :     0.0 :  None : False : False : NonNegativeIntegers\n",
      "        ('Louisville', 'San Diego') :     0 :     0.0 :  None : False : False : NonNegativeIntegers\n",
      "        ('Louisville', 'St. Louis') :     0 : 14400.0 :  None : False : False : NonNegativeIntegers\n",
      "           ('Louisville', 'Tacoma') :     0 :     0.0 :  None : False : False : NonNegativeIntegers\n",
      "            ('Louisville', 'Tampa') :     0 :     0.0 :  None : False : False : NonNegativeIntegers\n",
      "             ('Macon', 'Baltimore') :     0 :  6000.0 :  None : False : False : NonNegativeIntegers\n",
      "                ('Macon', 'Dallas') :     0 :     0.0 :  None : False : False : NonNegativeIntegers\n",
      "                ('Macon', 'Denver') :     0 :     0.0 :  None : False : False : NonNegativeIntegers\n",
      "             ('Macon', 'San Diego') :     0 :     0.0 :  None : False : False : NonNegativeIntegers\n",
      "             ('Macon', 'St. Louis') :     0 :     0.0 :  None : False : False : NonNegativeIntegers\n",
      "                ('Macon', 'Tacoma') :     0 :     0.0 :  None : False : False : NonNegativeIntegers\n",
      "                 ('Macon', 'Tampa') :     0 : 12000.0 :  None : False : False : NonNegativeIntegers\n",
      "           ('Phoenix', 'Baltimore') :     0 :     0.0 :  None : False : False : NonNegativeIntegers\n",
      "              ('Phoenix', 'Dallas') :     0 :  1600.0 :  None : False : False : NonNegativeIntegers\n",
      "              ('Phoenix', 'Denver') :     0 :     0.0 :  None : False : False : NonNegativeIntegers\n",
      "           ('Phoenix', 'San Diego') :     0 : 11600.0 :  None : False : False : NonNegativeIntegers\n",
      "           ('Phoenix', 'St. Louis') :     0 :     0.0 :  None : False : False : NonNegativeIntegers\n",
      "              ('Phoenix', 'Tacoma') :     0 :  6800.0 :  None : False : False : NonNegativeIntegers\n",
      "               ('Phoenix', 'Tampa') :     0 :     0.0 :  None : False : False : NonNegativeIntegers\n",
      "\n",
      "  Objectives:\n",
      "    Cost : Size=1, Index=None, Active=True\n",
      "        Key  : Active : Value\n",
      "        None :   True : 2805450.0\n",
      "\n",
      "  Constraints:\n",
      "    cons : Size=11\n",
      "        Key : Lower   : Body    : Upper\n",
      "          1 :  6800.0 :  6800.0 :    None\n",
      "          2 : 11600.0 : 11600.0 :    None\n",
      "          3 : 10800.0 : 10800.0 :    None\n",
      "          4 : 10080.0 : 10080.0 :    None\n",
      "          5 : 14400.0 : 14400.0 :    None\n",
      "          6 : 12000.0 : 12000.0 :    None\n",
      "          7 :  7200.0 :  7200.0 :    None\n",
      "          8 :    None : 18000.0 : 18000.0\n",
      "          9 :    None : 15000.0 : 15000.0\n",
      "         10 :    None : 19880.0 : 25000.0\n",
      "         11 :    None : 20000.0 : 20000.0\n"
     ]
    }
   ],
   "source": [
    "modelMD.display()"
   ]
  },
  {
   "cell_type": "markdown",
   "id": "74daa2ec-b1c4-4e7d-baa7-6d3a3efe0efa",
   "metadata": {},
   "source": [
    "### Question 13"
   ]
  },
  {
   "cell_type": "markdown",
   "id": "122c88d4-6b10-4f6e-a0eb-3d6b26908a27",
   "metadata": {},
   "source": [
    "Crushing More Rocks"
   ]
  },
  {
   "cell_type": "code",
   "execution_count": 47,
   "id": "68c8846b-4a7c-41b2-ba89-eea02f1b1c95",
   "metadata": {},
   "outputs": [],
   "source": [
    "costCR = pd.read_excel('INFO4590P3PyomoData.xlsx',sheet_name=\"CRCost\",index_col=0)  \n",
    "\n",
    "dataCR = pd.read_excel('INFO4590P3PyomoData.xlsx',sheet_name=\"CRData\",index_col=0)"
   ]
  },
  {
   "cell_type": "code",
   "execution_count": 48,
   "id": "4f0abe00-3f22-44c1-a1e3-a3396da31832",
   "metadata": {},
   "outputs": [
    {
     "data": {
      "text/html": [
       "<div>\n",
       "<style scoped>\n",
       "    .dataframe tbody tr th:only-of-type {\n",
       "        vertical-align: middle;\n",
       "    }\n",
       "\n",
       "    .dataframe tbody tr th {\n",
       "        vertical-align: top;\n",
       "    }\n",
       "\n",
       "    .dataframe thead th {\n",
       "        text-align: right;\n",
       "    }\n",
       "</style>\n",
       "<table border=\"1\" class=\"dataframe\">\n",
       "  <thead>\n",
       "    <tr style=\"text-align: right;\">\n",
       "      <th></th>\n",
       "      <th>Fine</th>\n",
       "      <th>Medium</th>\n",
       "      <th>Coarse</th>\n",
       "    </tr>\n",
       "  </thead>\n",
       "  <tbody>\n",
       "    <tr>\n",
       "      <th>Cost</th>\n",
       "      <td>8</td>\n",
       "      <td>5</td>\n",
       "      <td>3</td>\n",
       "    </tr>\n",
       "  </tbody>\n",
       "</table>\n",
       "</div>"
      ],
      "text/plain": [
       "      Fine  Medium  Coarse\n",
       "Cost     8       5       3"
      ]
     },
     "execution_count": 48,
     "metadata": {},
     "output_type": "execute_result"
    }
   ],
   "source": [
    "costCR"
   ]
  },
  {
   "cell_type": "code",
   "execution_count": 49,
   "id": "e40f9a03-777d-4dad-aed4-97af22421195",
   "metadata": {},
   "outputs": [
    {
     "data": {
      "text/html": [
       "<div>\n",
       "<style scoped>\n",
       "    .dataframe tbody tr th:only-of-type {\n",
       "        vertical-align: middle;\n",
       "    }\n",
       "\n",
       "    .dataframe tbody tr th {\n",
       "        vertical-align: top;\n",
       "    }\n",
       "\n",
       "    .dataframe thead th {\n",
       "        text-align: right;\n",
       "    }\n",
       "</style>\n",
       "<table border=\"1\" class=\"dataframe\">\n",
       "  <thead>\n",
       "    <tr style=\"text-align: right;\">\n",
       "      <th></th>\n",
       "      <th>Fine</th>\n",
       "      <th>Medium</th>\n",
       "      <th>Coarse</th>\n",
       "      <th>Available</th>\n",
       "    </tr>\n",
       "  </thead>\n",
       "  <tbody>\n",
       "    <tr>\n",
       "      <th>Limestone</th>\n",
       "      <td>0.5</td>\n",
       "      <td>0.2</td>\n",
       "      <td>0.05</td>\n",
       "      <td>50</td>\n",
       "    </tr>\n",
       "    <tr>\n",
       "      <th>Chat</th>\n",
       "      <td>0.3</td>\n",
       "      <td>0.4</td>\n",
       "      <td>0.20</td>\n",
       "      <td>60</td>\n",
       "    </tr>\n",
       "    <tr>\n",
       "      <th>Redi-Mix</th>\n",
       "      <td>0.2</td>\n",
       "      <td>0.3</td>\n",
       "      <td>0.35</td>\n",
       "      <td>70</td>\n",
       "    </tr>\n",
       "    <tr>\n",
       "      <th>Rough</th>\n",
       "      <td>0.0</td>\n",
       "      <td>0.1</td>\n",
       "      <td>0.40</td>\n",
       "      <td>30</td>\n",
       "    </tr>\n",
       "  </tbody>\n",
       "</table>\n",
       "</div>"
      ],
      "text/plain": [
       "           Fine  Medium  Coarse  Available\n",
       "Limestone   0.5     0.2    0.05         50\n",
       "Chat        0.3     0.4    0.20         60\n",
       "Redi-Mix    0.2     0.3    0.35         70\n",
       "Rough       0.0     0.1    0.40         30"
      ]
     },
     "execution_count": 49,
     "metadata": {},
     "output_type": "execute_result"
    }
   ],
   "source": [
    "dataCR"
   ]
  },
  {
   "cell_type": "code",
   "execution_count": 50,
   "id": "99890241-58b9-44f5-881e-1a67fb9f1823",
   "metadata": {},
   "outputs": [],
   "source": [
    "modelCR = ConcreteModel()\n",
    "\n",
    "C2 = costCR.keys()  \n",
    "\n",
    "modelCR.x = Var(C2,domain = NonNegativeIntegers)\n",
    "\n",
    "modelCR.Cost = Objective(expr = sum([modelCR.x[c]*costCR.loc['Cost',c] for c in C2]), sense = minimize) "
   ]
  },
  {
   "cell_type": "code",
   "execution_count": 51,
   "id": "d088f77d-5a7a-421f-985e-9d1f08b3185a",
   "metadata": {},
   "outputs": [],
   "source": [
    "I = dataCR.index  \n",
    "modelCR.cons = ConstraintList()\n",
    "\n",
    "for i in I:\n",
    "    modelCR.cons.add(sum([modelCR.x[c]*dataCR.loc[i,c] for c in C2]) >= dataCR.loc[i,'Available'])\n",
    "for c in C2:\n",
    "    modelCR.cons.add(modelCR.x[c] >=50)"
   ]
  },
  {
   "cell_type": "code",
   "execution_count": 52,
   "id": "18c05e7e-21d0-417a-8513-387880bc7bf3",
   "metadata": {},
   "outputs": [
    {
     "data": {
      "text/plain": [
       "{'Problem': [{'Name': 'unknown', 'Lower bound': 1153.0, 'Upper bound': 1153.0, 'Number of objectives': 1, 'Number of constraints': 7, 'Number of variables': 3, 'Number of nonzeros': 14, 'Sense': 'minimize'}], 'Solver': [{'Status': 'ok', 'Termination condition': 'optimal', 'Statistics': {'Branch and bound': {'Number of bounded subproblems': '5', 'Number of created subproblems': '5'}}, 'Error rc': 0, 'Time': 0.06146883964538574}], 'Solution': [OrderedDict([('number of solutions', 0), ('number of solutions displayed', 0)])]}"
      ]
     },
     "execution_count": 52,
     "metadata": {},
     "output_type": "execute_result"
    }
   ],
   "source": [
    "SolverFactory('glpk').solve(modelCR)"
   ]
  },
  {
   "cell_type": "code",
   "execution_count": 53,
   "id": "470c4c63-ec44-4021-8cf4-bedbd71b7f19",
   "metadata": {},
   "outputs": [
    {
     "name": "stdout",
     "output_type": "stream",
     "text": [
      "Model unknown\n",
      "\n",
      "  Variables:\n",
      "    x : Size=3, Index={Coarse, Fine, Medium}\n",
      "        Key    : Lower : Value : Upper : Fixed : Stale : Domain\n",
      "        Coarse :     0 : 118.0 :  None : False : False : NonNegativeIntegers\n",
      "          Fine :     0 :  68.0 :  None : False : False : NonNegativeIntegers\n",
      "        Medium :     0 :  51.0 :  None : False : False : NonNegativeIntegers\n",
      "\n",
      "  Objectives:\n",
      "    Cost : Size=1, Index=None, Active=True\n",
      "        Key  : Active : Value\n",
      "        None :   True : 1153.0\n",
      "\n",
      "  Constraints:\n",
      "    cons : Size=7\n",
      "        Key : Lower : Body               : Upper\n",
      "          1 :  50.0 :               50.1 :  None\n",
      "          2 :  60.0 :               64.4 :  None\n",
      "          3 :  70.0 :  70.19999999999999 :  None\n",
      "          4 :  30.0 : 52.300000000000004 :  None\n",
      "          5 :  50.0 :               68.0 :  None\n",
      "          6 :  50.0 :               51.0 :  None\n",
      "          7 :  50.0 :              118.0 :  None\n"
     ]
    }
   ],
   "source": [
    "modelCR.display()"
   ]
  },
  {
   "cell_type": "markdown",
   "id": "8488d709-f3d6-463d-919b-d98ea6743b06",
   "metadata": {},
   "source": [
    "### Question 14"
   ]
  },
  {
   "cell_type": "markdown",
   "id": "1850704d-fe80-4454-a057-cddaa30bfc66",
   "metadata": {},
   "source": [
    "Hospital Scheduling"
   ]
  },
  {
   "cell_type": "code",
   "execution_count": 54,
   "id": "803435cb-57bb-4346-8909-285047a1b9a2",
   "metadata": {},
   "outputs": [],
   "source": [
    "profitHS = pd.read_excel('INFO4590P3PyomoData.xlsx',sheet_name=\"HSProfit\",index_col=0)  \n",
    "\n",
    "dataHS = pd.read_excel('INFO4590P3PyomoData.xlsx',sheet_name=\"HSData\",index_col=0)\n"
   ]
  },
  {
   "cell_type": "code",
   "execution_count": 55,
   "id": "8b3fb106-1664-47da-b8ad-2dce81a09f82",
   "metadata": {},
   "outputs": [
    {
     "data": {
      "text/html": [
       "<div>\n",
       "<style scoped>\n",
       "    .dataframe tbody tr th:only-of-type {\n",
       "        vertical-align: middle;\n",
       "    }\n",
       "\n",
       "    .dataframe tbody tr th {\n",
       "        vertical-align: top;\n",
       "    }\n",
       "\n",
       "    .dataframe thead th {\n",
       "        text-align: right;\n",
       "    }\n",
       "</style>\n",
       "<table border=\"1\" class=\"dataframe\">\n",
       "  <thead>\n",
       "    <tr style=\"text-align: right;\">\n",
       "      <th></th>\n",
       "      <th>Face Lift</th>\n",
       "      <th>Lipo</th>\n",
       "      <th>Implants</th>\n",
       "    </tr>\n",
       "  </thead>\n",
       "  <tbody>\n",
       "    <tr>\n",
       "      <th>Profit</th>\n",
       "      <td>240</td>\n",
       "      <td>225</td>\n",
       "      <td>425</td>\n",
       "    </tr>\n",
       "  </tbody>\n",
       "</table>\n",
       "</div>"
      ],
      "text/plain": [
       "        Face Lift  Lipo  Implants\n",
       "Profit        240   225       425"
      ]
     },
     "execution_count": 55,
     "metadata": {},
     "output_type": "execute_result"
    }
   ],
   "source": [
    "profitHS"
   ]
  },
  {
   "cell_type": "code",
   "execution_count": 56,
   "id": "fd2d1f8d-99a5-4b8b-85ad-53f78b901ee3",
   "metadata": {},
   "outputs": [
    {
     "data": {
      "text/html": [
       "<div>\n",
       "<style scoped>\n",
       "    .dataframe tbody tr th:only-of-type {\n",
       "        vertical-align: middle;\n",
       "    }\n",
       "\n",
       "    .dataframe tbody tr th {\n",
       "        vertical-align: top;\n",
       "    }\n",
       "\n",
       "    .dataframe thead th {\n",
       "        text-align: right;\n",
       "    }\n",
       "</style>\n",
       "<table border=\"1\" class=\"dataframe\">\n",
       "  <thead>\n",
       "    <tr style=\"text-align: right;\">\n",
       "      <th></th>\n",
       "      <th>Face Lift</th>\n",
       "      <th>Lipo</th>\n",
       "      <th>Implants</th>\n",
       "      <th>Available</th>\n",
       "    </tr>\n",
       "  </thead>\n",
       "  <tbody>\n",
       "    <tr>\n",
       "      <th>Days of Stay</th>\n",
       "      <td>3</td>\n",
       "      <td>5.0</td>\n",
       "      <td>6</td>\n",
       "      <td>490</td>\n",
       "    </tr>\n",
       "    <tr>\n",
       "      <th>Surgical Suite Hours</th>\n",
       "      <td>2</td>\n",
       "      <td>1.5</td>\n",
       "      <td>3</td>\n",
       "      <td>165</td>\n",
       "    </tr>\n",
       "  </tbody>\n",
       "</table>\n",
       "</div>"
      ],
      "text/plain": [
       "                       Face Lift  Lipo  Implants  Available\n",
       "Days of Stay                   3   5.0         6        490\n",
       "Surgical Suite Hours           2   1.5         3        165"
      ]
     },
     "execution_count": 56,
     "metadata": {},
     "output_type": "execute_result"
    }
   ],
   "source": [
    "dataHS"
   ]
  },
  {
   "cell_type": "code",
   "execution_count": 58,
   "id": "96e9a075-6f54-4a51-9f4d-c999192ae861",
   "metadata": {},
   "outputs": [],
   "source": [
    "modelHS = ConcreteModel()\n",
    "\n",
    "PHS = profitHS.keys()  \n",
    "\n",
    "modelHS.x = Var(PHS,domain = NonNegativeIntegers)\n",
    "\n",
    "modelHS.Profit = Objective(expr = sum([modelHS.x[p]*profitHS.loc['Profit',p] for p in PHS]), sense = maximize)"
   ]
  },
  {
   "cell_type": "code",
   "execution_count": 59,
   "id": "a8b45e8f-e6c5-4eef-b5e0-b8ab67f860a0",
   "metadata": {},
   "outputs": [],
   "source": [
    "IHS = dataHS.index  \n",
    "modelHS.cons = ConstraintList()\n",
    "\n",
    "for i in IHS:\n",
    "    modelHS.cons.add(sum([modelHS.x[p]*dataHS.loc[i,p] for p in PHS]) <= dataHS.loc[i,'Available'])\n"
   ]
  },
  {
   "cell_type": "code",
   "execution_count": 60,
   "id": "1f58f9d8-6e2a-4b6a-9241-bdbd9cd03df3",
   "metadata": {},
   "outputs": [
    {
     "data": {
      "text/plain": [
       "{'Problem': [{'Name': 'unknown', 'Lower bound': 24375.0, 'Upper bound': 24375.0, 'Number of objectives': 1, 'Number of constraints': 2, 'Number of variables': 3, 'Number of nonzeros': 6, 'Sense': 'maximize'}], 'Solver': [{'Status': 'ok', 'Termination condition': 'optimal', 'Statistics': {'Branch and bound': {'Number of bounded subproblems': '1', 'Number of created subproblems': '1'}}, 'Error rc': 0, 'Time': 0.07189297676086426}], 'Solution': [OrderedDict([('number of solutions', 0), ('number of solutions displayed', 0)])]}"
      ]
     },
     "execution_count": 60,
     "metadata": {},
     "output_type": "execute_result"
    }
   ],
   "source": [
    "SolverFactory('glpk').solve(modelHS)"
   ]
  },
  {
   "cell_type": "code",
   "execution_count": 61,
   "id": "ac179d93-d61b-4b19-9305-6f93e5ebdd41",
   "metadata": {},
   "outputs": [
    {
     "name": "stdout",
     "output_type": "stream",
     "text": [
      "Model unknown\n",
      "\n",
      "  Variables:\n",
      "    x : Size=3, Index={Lipo, Face Lift, Implants}\n",
      "        Key       : Lower : Value : Upper : Fixed : Stale : Domain\n",
      "        Face Lift :     0 :   0.0 :  None : False : False : NonNegativeIntegers\n",
      "         Implants :     0 :  15.0 :  None : False : False : NonNegativeIntegers\n",
      "             Lipo :     0 :  80.0 :  None : False : False : NonNegativeIntegers\n",
      "\n",
      "  Objectives:\n",
      "    Profit : Size=1, Index=None, Active=True\n",
      "        Key  : Active : Value\n",
      "        None :   True : 24375.0\n",
      "\n",
      "  Constraints:\n",
      "    cons : Size=2\n",
      "        Key : Lower : Body  : Upper\n",
      "          1 :  None : 490.0 : 490.0\n",
      "          2 :  None : 165.0 : 165.0\n"
     ]
    }
   ],
   "source": [
    "modelHS.display()"
   ]
  },
  {
   "cell_type": "markdown",
   "id": "4e0e2a60-2c61-42ee-830d-925339bc544e",
   "metadata": {},
   "source": [
    "### Question 15"
   ]
  },
  {
   "cell_type": "markdown",
   "id": "6efd11dd-7dea-4a39-aabf-9968b41d776f",
   "metadata": {},
   "source": [
    "Butter"
   ]
  },
  {
   "cell_type": "code",
   "execution_count": 17,
   "id": "10a8b1a6-b088-4005-93bf-cde2162923c4",
   "metadata": {},
   "outputs": [],
   "source": [
    "profitB = pd.read_excel('INFO4590P3PyomoData.xlsx',sheet_name=\"BProfit\",index_col=0)  \n",
    "\n",
    "dataB = pd.read_excel('INFO4590P3PyomoData.xlsx',sheet_name=\"BData\",index_col=0)\n"
   ]
  },
  {
   "cell_type": "code",
   "execution_count": 18,
   "id": "23901f39-6f9d-41bb-9a81-13921b316322",
   "metadata": {},
   "outputs": [
    {
     "data": {
      "text/html": [
       "<div>\n",
       "<style scoped>\n",
       "    .dataframe tbody tr th:only-of-type {\n",
       "        vertical-align: middle;\n",
       "    }\n",
       "\n",
       "    .dataframe tbody tr th {\n",
       "        vertical-align: top;\n",
       "    }\n",
       "\n",
       "    .dataframe thead th {\n",
       "        text-align: right;\n",
       "    }\n",
       "</style>\n",
       "<table border=\"1\" class=\"dataframe\">\n",
       "  <thead>\n",
       "    <tr style=\"text-align: right;\">\n",
       "      <th></th>\n",
       "      <th>PB</th>\n",
       "      <th>AB</th>\n",
       "    </tr>\n",
       "  </thead>\n",
       "  <tbody>\n",
       "    <tr>\n",
       "      <th>Profit</th>\n",
       "      <td>1.1</td>\n",
       "      <td>1.3</td>\n",
       "    </tr>\n",
       "  </tbody>\n",
       "</table>\n",
       "</div>"
      ],
      "text/plain": [
       "         PB   AB\n",
       "Profit  1.1  1.3"
      ]
     },
     "execution_count": 18,
     "metadata": {},
     "output_type": "execute_result"
    }
   ],
   "source": [
    "profitB"
   ]
  },
  {
   "cell_type": "code",
   "execution_count": 19,
   "id": "0734febe-6dea-45e1-8fed-5d010e3b1406",
   "metadata": {},
   "outputs": [
    {
     "data": {
      "text/html": [
       "<div>\n",
       "<style scoped>\n",
       "    .dataframe tbody tr th:only-of-type {\n",
       "        vertical-align: middle;\n",
       "    }\n",
       "\n",
       "    .dataframe tbody tr th {\n",
       "        vertical-align: top;\n",
       "    }\n",
       "\n",
       "    .dataframe thead th {\n",
       "        text-align: right;\n",
       "    }\n",
       "</style>\n",
       "<table border=\"1\" class=\"dataframe\">\n",
       "  <thead>\n",
       "    <tr style=\"text-align: right;\">\n",
       "      <th></th>\n",
       "      <th>PB</th>\n",
       "      <th>AB</th>\n",
       "      <th>Available</th>\n",
       "    </tr>\n",
       "  </thead>\n",
       "  <tbody>\n",
       "    <tr>\n",
       "      <th>Packaging Capacity</th>\n",
       "      <td>0.005</td>\n",
       "      <td>0.004</td>\n",
       "      <td>40</td>\n",
       "    </tr>\n",
       "    <tr>\n",
       "      <th>Sterilization Capacity</th>\n",
       "      <td>0.004</td>\n",
       "      <td>0.006</td>\n",
       "      <td>40</td>\n",
       "    </tr>\n",
       "  </tbody>\n",
       "</table>\n",
       "</div>"
      ],
      "text/plain": [
       "                           PB     AB  Available\n",
       "Packaging Capacity      0.005  0.004         40\n",
       "Sterilization Capacity  0.004  0.006         40"
      ]
     },
     "execution_count": 19,
     "metadata": {},
     "output_type": "execute_result"
    }
   ],
   "source": [
    "dataB"
   ]
  },
  {
   "cell_type": "code",
   "execution_count": 20,
   "id": "8311db33-fd2d-4209-be6e-073088abc9e3",
   "metadata": {},
   "outputs": [],
   "source": [
    "modelB = ConcreteModel()\n",
    "BP = profitB.keys()\n",
    "\n",
    "modelB.x = Var(BP,domain = NonNegativeIntegers)\n",
    "\n",
    "modelB.Profit = Objective(expr = sum([modelB.x[p]*profitB.loc['Profit',p] for p in BP]), sense = maximize)\n"
   ]
  },
  {
   "cell_type": "code",
   "execution_count": 21,
   "id": "6bd692d4-b350-41e1-9450-9f6b3629accc",
   "metadata": {},
   "outputs": [
    {
     "data": {
      "text/plain": [
       "<pyomo.core.base.constraint._GeneralConstraintData at 0x2159355b340>"
      ]
     },
     "execution_count": 21,
     "metadata": {},
     "output_type": "execute_result"
    }
   ],
   "source": [
    "IB = dataB.index  \n",
    "modelB.cons = ConstraintList()\n",
    "\n",
    "for i in IB:\n",
    "    modelB.cons.add(sum([modelB.x[p]*dataB.loc[i,p] for p in BP]) <= dataB.loc[i,'Available'])\n",
    "modelB.cons.add(modelB.x['AB']>=5000)"
   ]
  },
  {
   "cell_type": "code",
   "execution_count": 22,
   "id": "66444458-04f1-48b4-8562-62bc36e58932",
   "metadata": {},
   "outputs": [
    {
     "data": {
      "text/plain": [
       "{'Problem': [{'Name': 'unknown', 'Lower bound': 9250.0, 'Upper bound': 9250.0, 'Number of objectives': 1, 'Number of constraints': 3, 'Number of variables': 2, 'Number of nonzeros': 5, 'Sense': 'maximize'}], 'Solver': [{'Status': 'ok', 'Termination condition': 'optimal', 'Statistics': {'Branch and bound': {'Number of bounded subproblems': '1', 'Number of created subproblems': '1'}}, 'Error rc': 0, 'Time': 0.11942028999328613}], 'Solution': [OrderedDict([('number of solutions', 0), ('number of solutions displayed', 0)])]}"
      ]
     },
     "execution_count": 22,
     "metadata": {},
     "output_type": "execute_result"
    }
   ],
   "source": [
    "SolverFactory('glpk').solve(modelB)"
   ]
  },
  {
   "cell_type": "code",
   "execution_count": 23,
   "id": "06cd020c-c7e9-4009-ba5f-4953723a84b8",
   "metadata": {},
   "outputs": [
    {
     "name": "stdout",
     "output_type": "stream",
     "text": [
      "Model unknown\n",
      "\n",
      "  Variables:\n",
      "    x : Size=2, Index={PB, AB}\n",
      "        Key : Lower : Value  : Upper : Fixed : Stale : Domain\n",
      "         AB :     0 : 5000.0 :  None : False : False : NonNegativeIntegers\n",
      "         PB :     0 : 2500.0 :  None : False : False : NonNegativeIntegers\n",
      "\n",
      "  Objectives:\n",
      "    Profit : Size=1, Index=None, Active=True\n",
      "        Key  : Active : Value\n",
      "        None :   True : 9250.0\n",
      "\n",
      "  Constraints:\n",
      "    cons : Size=3\n",
      "        Key : Lower  : Body   : Upper\n",
      "          1 :   None :   32.5 :  40.0\n",
      "          2 :   None :   40.0 :  40.0\n",
      "          3 : 5000.0 : 5000.0 :  None\n"
     ]
    }
   ],
   "source": [
    "modelB.display()"
   ]
  },
  {
   "cell_type": "markdown",
   "id": "bea177e4-aa4d-4731-afc0-b6fa011cca1f",
   "metadata": {},
   "source": [
    "### Question 16"
   ]
  },
  {
   "cell_type": "markdown",
   "id": "30e8918f-3b70-48d5-b2f0-eb2d03134d9f",
   "metadata": {},
   "source": [
    "Pet Food"
   ]
  },
  {
   "cell_type": "code",
   "execution_count": 28,
   "id": "156677de-c98b-4662-8a81-74940331b70c",
   "metadata": {},
   "outputs": [],
   "source": [
    "RevenuePF = pd.read_excel('INFO4590P3PyomoData.xlsx',sheet_name=\"PFRevenue\",index_col=0)  \n",
    "CostPF = pd.read_excel('INFO4590P3PyomoData.xlsx',sheet_name=\"PFCost\",index_col=0)  \n",
    "CompositionPF = pd.read_excel('INFO4590P3PyomoData.xlsx',sheet_name=\"PFComposition\",index_col=0)  \n",
    "DepartmentPF = pd.read_excel('INFO4590P3PyomoData.xlsx',sheet_name=\"PFDepartment\",index_col=0) \n"
   ]
  },
  {
   "cell_type": "code",
   "execution_count": 29,
   "id": "bac41b58-d3ce-4f7a-914e-4ca5faf23e41",
   "metadata": {},
   "outputs": [
    {
     "data": {
      "text/html": [
       "<div>\n",
       "<style scoped>\n",
       "    .dataframe tbody tr th:only-of-type {\n",
       "        vertical-align: middle;\n",
       "    }\n",
       "\n",
       "    .dataframe tbody tr th {\n",
       "        vertical-align: top;\n",
       "    }\n",
       "\n",
       "    .dataframe thead th {\n",
       "        text-align: right;\n",
       "    }\n",
       "</style>\n",
       "<table border=\"1\" class=\"dataframe\">\n",
       "  <thead>\n",
       "    <tr style=\"text-align: right;\">\n",
       "      <th></th>\n",
       "      <th>BFSeed</th>\n",
       "      <th>BFStones</th>\n",
       "      <th>BFCereal</th>\n",
       "      <th>DFMeat</th>\n",
       "      <th>DFFishmeal</th>\n",
       "      <th>DFCereal</th>\n",
       "    </tr>\n",
       "  </thead>\n",
       "  <tbody>\n",
       "    <tr>\n",
       "      <th>Revenue</th>\n",
       "      <td>750</td>\n",
       "      <td>750</td>\n",
       "      <td>750</td>\n",
       "      <td>980</td>\n",
       "      <td>980</td>\n",
       "      <td>980</td>\n",
       "    </tr>\n",
       "  </tbody>\n",
       "</table>\n",
       "</div>"
      ],
      "text/plain": [
       "         BFSeed  BFStones  BFCereal  DFMeat  DFFishmeal  DFCereal\n",
       "Revenue     750       750       750     980         980       980"
      ]
     },
     "execution_count": 29,
     "metadata": {},
     "output_type": "execute_result"
    }
   ],
   "source": [
    "RevenuePF"
   ]
  },
  {
   "cell_type": "code",
   "execution_count": 30,
   "id": "9b55d2b9-2d92-4d1a-b07c-9b3c71566e60",
   "metadata": {},
   "outputs": [
    {
     "data": {
      "text/html": [
       "<div>\n",
       "<style scoped>\n",
       "    .dataframe tbody tr th:only-of-type {\n",
       "        vertical-align: middle;\n",
       "    }\n",
       "\n",
       "    .dataframe tbody tr th {\n",
       "        vertical-align: top;\n",
       "    }\n",
       "\n",
       "    .dataframe thead th {\n",
       "        text-align: right;\n",
       "    }\n",
       "</style>\n",
       "<table border=\"1\" class=\"dataframe\">\n",
       "  <thead>\n",
       "    <tr style=\"text-align: right;\">\n",
       "      <th></th>\n",
       "      <th>BFSeed</th>\n",
       "      <th>BFStones</th>\n",
       "      <th>BFCereal</th>\n",
       "      <th>DFMeat</th>\n",
       "      <th>DFFishmeal</th>\n",
       "      <th>DFCereal</th>\n",
       "    </tr>\n",
       "  </thead>\n",
       "  <tbody>\n",
       "    <tr>\n",
       "      <th>Cost</th>\n",
       "      <td>700</td>\n",
       "      <td>100</td>\n",
       "      <td>200</td>\n",
       "      <td>600</td>\n",
       "      <td>900</td>\n",
       "      <td>200</td>\n",
       "    </tr>\n",
       "  </tbody>\n",
       "</table>\n",
       "</div>"
      ],
      "text/plain": [
       "      BFSeed  BFStones  BFCereal  DFMeat  DFFishmeal  DFCereal\n",
       "Cost     700       100       200     600         900       200"
      ]
     },
     "execution_count": 30,
     "metadata": {},
     "output_type": "execute_result"
    }
   ],
   "source": [
    "CostPF"
   ]
  },
  {
   "cell_type": "code",
   "execution_count": 31,
   "id": "746c9a8c-2a83-4b57-9d0a-7b1148e5e3f5",
   "metadata": {},
   "outputs": [
    {
     "data": {
      "text/html": [
       "<div>\n",
       "<style scoped>\n",
       "    .dataframe tbody tr th:only-of-type {\n",
       "        vertical-align: middle;\n",
       "    }\n",
       "\n",
       "    .dataframe tbody tr th {\n",
       "        vertical-align: top;\n",
       "    }\n",
       "\n",
       "    .dataframe thead th {\n",
       "        text-align: right;\n",
       "    }\n",
       "</style>\n",
       "<table border=\"1\" class=\"dataframe\">\n",
       "  <thead>\n",
       "    <tr style=\"text-align: right;\">\n",
       "      <th></th>\n",
       "      <th>BFSeed</th>\n",
       "      <th>BFStones</th>\n",
       "      <th>BFCereal</th>\n",
       "      <th>DFMeat</th>\n",
       "      <th>DFFishmeal</th>\n",
       "      <th>DFCereal</th>\n",
       "      <th>BFMin</th>\n",
       "      <th>DFMin</th>\n",
       "    </tr>\n",
       "  </thead>\n",
       "  <tbody>\n",
       "    <tr>\n",
       "      <th>Protein</th>\n",
       "      <td>0.10</td>\n",
       "      <td>0.00</td>\n",
       "      <td>0.03</td>\n",
       "      <td>0.12</td>\n",
       "      <td>0.20</td>\n",
       "      <td>0.03</td>\n",
       "      <td>0.05</td>\n",
       "      <td>0.11</td>\n",
       "    </tr>\n",
       "    <tr>\n",
       "      <th>Carbohydrates</th>\n",
       "      <td>0.10</td>\n",
       "      <td>0.00</td>\n",
       "      <td>0.30</td>\n",
       "      <td>0.10</td>\n",
       "      <td>0.08</td>\n",
       "      <td>0.30</td>\n",
       "      <td>0.18</td>\n",
       "      <td>0.15</td>\n",
       "    </tr>\n",
       "    <tr>\n",
       "      <th>Trace Minerals</th>\n",
       "      <td>0.02</td>\n",
       "      <td>0.03</td>\n",
       "      <td>0.00</td>\n",
       "      <td>0.01</td>\n",
       "      <td>0.02</td>\n",
       "      <td>0.00</td>\n",
       "      <td>0.01</td>\n",
       "      <td>0.01</td>\n",
       "    </tr>\n",
       "    <tr>\n",
       "      <th>Abrasives</th>\n",
       "      <td>0.01</td>\n",
       "      <td>1.00</td>\n",
       "      <td>0.00</td>\n",
       "      <td>0.00</td>\n",
       "      <td>0.02</td>\n",
       "      <td>0.00</td>\n",
       "      <td>0.02</td>\n",
       "      <td>0.00</td>\n",
       "    </tr>\n",
       "  </tbody>\n",
       "</table>\n",
       "</div>"
      ],
      "text/plain": [
       "                BFSeed  BFStones  BFCereal  DFMeat  DFFishmeal  DFCereal  \\\n",
       "Protein           0.10      0.00      0.03    0.12        0.20      0.03   \n",
       "Carbohydrates     0.10      0.00      0.30    0.10        0.08      0.30   \n",
       "Trace Minerals    0.02      0.03      0.00    0.01        0.02      0.00   \n",
       "Abrasives         0.01      1.00      0.00    0.00        0.02      0.00   \n",
       "\n",
       "                BFMin  DFMin  \n",
       "Protein          0.05   0.11  \n",
       "Carbohydrates    0.18   0.15  \n",
       "Trace Minerals   0.01   0.01  \n",
       "Abrasives        0.02   0.00  "
      ]
     },
     "execution_count": 31,
     "metadata": {},
     "output_type": "execute_result"
    }
   ],
   "source": [
    "CompositionPF"
   ]
  },
  {
   "cell_type": "code",
   "execution_count": 32,
   "id": "d44a0fcc-01df-481f-a018-ffab1a601b3b",
   "metadata": {},
   "outputs": [
    {
     "data": {
      "text/html": [
       "<div>\n",
       "<style scoped>\n",
       "    .dataframe tbody tr th:only-of-type {\n",
       "        vertical-align: middle;\n",
       "    }\n",
       "\n",
       "    .dataframe tbody tr th {\n",
       "        vertical-align: top;\n",
       "    }\n",
       "\n",
       "    .dataframe thead th {\n",
       "        text-align: right;\n",
       "    }\n",
       "</style>\n",
       "<table border=\"1\" class=\"dataframe\">\n",
       "  <thead>\n",
       "    <tr style=\"text-align: right;\">\n",
       "      <th></th>\n",
       "      <th>BFSeed</th>\n",
       "      <th>BFStones</th>\n",
       "      <th>BFCereal</th>\n",
       "      <th>DFMeat</th>\n",
       "      <th>DFFishmeal</th>\n",
       "      <th>DFCereal</th>\n",
       "      <th>Available</th>\n",
       "    </tr>\n",
       "  </thead>\n",
       "  <tbody>\n",
       "    <tr>\n",
       "      <th>Blending</th>\n",
       "      <td>0.25</td>\n",
       "      <td>0.25</td>\n",
       "      <td>0.25</td>\n",
       "      <td>0.15</td>\n",
       "      <td>0.15</td>\n",
       "      <td>0.15</td>\n",
       "      <td>8</td>\n",
       "    </tr>\n",
       "    <tr>\n",
       "      <th>Packaging</th>\n",
       "      <td>0.10</td>\n",
       "      <td>0.10</td>\n",
       "      <td>0.10</td>\n",
       "      <td>0.30</td>\n",
       "      <td>0.30</td>\n",
       "      <td>0.30</td>\n",
       "      <td>8</td>\n",
       "    </tr>\n",
       "  </tbody>\n",
       "</table>\n",
       "</div>"
      ],
      "text/plain": [
       "           BFSeed  BFStones  BFCereal  DFMeat  DFFishmeal  DFCereal  Available\n",
       "Blending     0.25      0.25      0.25    0.15        0.15      0.15          8\n",
       "Packaging    0.10      0.10      0.10    0.30        0.30      0.30          8"
      ]
     },
     "execution_count": 32,
     "metadata": {},
     "output_type": "execute_result"
    }
   ],
   "source": [
    "DepartmentPF"
   ]
  },
  {
   "cell_type": "code",
   "execution_count": 34,
   "id": "850464fe-cda9-4a6c-8e7f-52c8341b3950",
   "metadata": {},
   "outputs": [],
   "source": [
    "modelPF = ConcreteModel()\n",
    "DV = RevenuePF.keys()    \n",
    "\n",
    "#DVs\n",
    "\n",
    "modelPF.x = Var(DV,domain = NonNegativeReals)\n",
    "\n",
    "#Objective Function\n",
    "\n",
    "modelPF.Profit = Objective(expr = sum([modelPF.x[v]*RevenuePF.loc['Revenue',v] for v in DV]) -\n",
    "                           sum([modelPF.x[v]*CostPF.loc['Cost',v] for v in DV]), sense = maximize) \n",
    "\n"
   ]
  },
  {
   "cell_type": "code",
   "execution_count": 35,
   "id": "ba9f4553-0f21-4e99-af29-2aa264244a61",
   "metadata": {},
   "outputs": [
    {
     "data": {
      "text/plain": [
       "<pyomo.core.base.constraint._GeneralConstraintData at 0x1d7f19254e0>"
      ]
     },
     "execution_count": 35,
     "metadata": {},
     "output_type": "execute_result"
    }
   ],
   "source": [
    "Mat = CompositionPF.index \n",
    "Dep = DepartmentPF.index\n",
    "modelPF.cons = ConstraintList()\n",
    "\n",
    "for d in Dep:\n",
    "    modelPF.cons.add(sum([modelPF.x[v]*DepartmentPF.loc[d,v] for v in DV]) <= DepartmentPF.loc[d,'Available'])\n",
    "\n",
    "TotalBF= modelPF.x['BFSeed'] + modelPF.x['BFStones'] + modelPF.x['BFCereal']\n",
    "TotalDF= modelPF.x['DFMeat'] + modelPF.x['DFFishmeal'] + modelPF.x['DFCereal']\n",
    "\n",
    "\n",
    "for m in Mat:\n",
    "    modelPF.cons.add( (modelPF.x['BFSeed']*CompositionPF.loc[m,'BFSeed'] \n",
    "                       + modelPF.x['BFStones']*CompositionPF.loc[m,'BFStones']\n",
    "                       + modelPF.x['BFCereal']*CompositionPF.loc[m,'BFCereal'] )  >= CompositionPF.loc[m,'BFMin']* TotalBF)\n",
    "\n",
    "for m in Mat:\n",
    "    modelPF.cons.add( (modelPF.x['DFMeat']*CompositionPF.loc[m,'DFMeat'] \n",
    "                       + modelPF.x['DFFishmeal']*CompositionPF.loc[m,'DFFishmeal']\n",
    "                       + modelPF.x['DFCereal']*CompositionPF.loc[m,'DFCereal'] )  >= CompositionPF.loc[m,'DFMin']*TotalDF)\n",
    "    \n",
    "modelPF.cons.add(modelPF.x['BFSeed'] >= .1*TotalBF)"
   ]
  },
  {
   "cell_type": "code",
   "execution_count": 36,
   "id": "ebd45b22-d8fd-4e24-8613-f5877e83fc17",
   "metadata": {},
   "outputs": [
    {
     "data": {
      "text/plain": [
       "{'Problem': [{'Name': 'unknown', 'Lower bound': 16488.8888888889, 'Upper bound': 16488.8888888889, 'Number of objectives': 1, 'Number of constraints': 11, 'Number of variables': 6, 'Number of nonzeros': 36, 'Sense': 'maximize'}], 'Solver': [{'Status': 'ok', 'Termination condition': 'optimal', 'Statistics': {'Branch and bound': {'Number of bounded subproblems': 0, 'Number of created subproblems': 0}}, 'Error rc': 0, 'Time': 0.07813811302185059}], 'Solution': [OrderedDict([('number of solutions', 0), ('number of solutions displayed', 0)])]}"
      ]
     },
     "execution_count": 36,
     "metadata": {},
     "output_type": "execute_result"
    }
   ],
   "source": [
    "SolverFactory('glpk').solve(modelPF)"
   ]
  },
  {
   "cell_type": "code",
   "execution_count": 37,
   "id": "7f646c01-3452-4f46-a88b-9419f1e05a4c",
   "metadata": {},
   "outputs": [
    {
     "name": "stdout",
     "output_type": "stream",
     "text": [
      "Model unknown\n",
      "\n",
      "  Variables:\n",
      "    x : Size=6, Index={BFCereal, BFSeed, DFCereal, DFFishmeal, DFMeat, BFStones}\n",
      "        Key        : Lower : Value            : Upper : Fixed : Stale : Domain\n",
      "          BFCereal :     0 : 11.1111111111111 :  None : False : False : NonNegativeReals\n",
      "            BFSeed :     0 : 6.66666666666667 :  None : False : False : NonNegativeReals\n",
      "          BFStones :     0 : 2.22222222222222 :  None : False : False : NonNegativeReals\n",
      "          DFCereal :     0 :             10.0 :  None : False : False : NonNegativeReals\n",
      "        DFFishmeal :     0 :             10.0 :  None : False : False : NonNegativeReals\n",
      "            DFMeat :     0 :              0.0 :  None : False : False : NonNegativeReals\n",
      "\n",
      "  Objectives:\n",
      "    Profit : Size=1, Index=None, Active=True\n",
      "        Key  : Active : Value\n",
      "        None :   True : 16488.888888888883\n",
      "\n",
      "  Constraints:\n",
      "    cons : Size=11\n",
      "        Key : Lower : Body                   : Upper\n",
      "          1 :  None :      7.999999999999997 :   8.0\n",
      "          2 :  None :      7.999999999999999 :   8.0\n",
      "          3 :  None : -4.440892098500626e-16 :   0.0\n",
      "          4 :  None :     -0.399999999999999 :   0.0\n",
      "          5 :  None : -8.326672684688674e-17 :   0.0\n",
      "          6 :  None :     -1.888888888888887 :   0.0\n",
      "          7 :  None :   -0.09999999999999964 :   0.0\n",
      "          8 :  None :    -0.7999999999999998 :   0.0\n",
      "          9 :  None :                    0.0 :   0.0\n",
      "         10 :  None :                   -0.2 :   0.0\n",
      "         11 :  None :    -4.6666666666666705 :   0.0\n"
     ]
    }
   ],
   "source": [
    "modelPF.display()"
   ]
  },
  {
   "cell_type": "markdown",
   "id": "06ba4d69-2c91-463c-95f0-cc9fbc3e49d6",
   "metadata": {},
   "source": [
    "### Question 17"
   ]
  },
  {
   "cell_type": "markdown",
   "id": "918f6662-b3d1-4af5-9c31-2196940ce304",
   "metadata": {},
   "source": [
    "Employee Scheduling"
   ]
  },
  {
   "cell_type": "code",
   "execution_count": 3,
   "id": "68b5b560-15cc-4564-9b6e-0572150dec55",
   "metadata": {},
   "outputs": [],
   "source": [
    "CostES1 = pd.read_excel('INFO4590P3PyomoData.xlsx',sheet_name=\"ES1Cost\",index_col=0)  \n",
    "DataES1 = pd.read_excel('INFO4590P3PyomoData.xlsx',sheet_name=\"ES1Data\",index_col=0)  \n"
   ]
  },
  {
   "cell_type": "code",
   "execution_count": 4,
   "id": "0c5b02c5-62cf-4c18-8525-58c5c78bf5ac",
   "metadata": {},
   "outputs": [
    {
     "data": {
      "text/html": [
       "<div>\n",
       "<style scoped>\n",
       "    .dataframe tbody tr th:only-of-type {\n",
       "        vertical-align: middle;\n",
       "    }\n",
       "\n",
       "    .dataframe tbody tr th {\n",
       "        vertical-align: top;\n",
       "    }\n",
       "\n",
       "    .dataframe thead th {\n",
       "        text-align: right;\n",
       "    }\n",
       "</style>\n",
       "<table border=\"1\" class=\"dataframe\">\n",
       "  <thead>\n",
       "    <tr style=\"text-align: right;\">\n",
       "      <th></th>\n",
       "      <th>S-1</th>\n",
       "      <th>S-2</th>\n",
       "      <th>S-3</th>\n",
       "      <th>S-4</th>\n",
       "      <th>S-5</th>\n",
       "      <th>S-6</th>\n",
       "      <th>S-7</th>\n",
       "    </tr>\n",
       "  </thead>\n",
       "  <tbody>\n",
       "    <tr>\n",
       "      <th>Cost</th>\n",
       "      <td>680</td>\n",
       "      <td>705</td>\n",
       "      <td>705</td>\n",
       "      <td>705</td>\n",
       "      <td>705</td>\n",
       "      <td>680</td>\n",
       "      <td>655</td>\n",
       "    </tr>\n",
       "  </tbody>\n",
       "</table>\n",
       "</div>"
      ],
      "text/plain": [
       "      S-1  S-2  S-3  S-4  S-5  S-6  S-7\n",
       "Cost  680  705  705  705  705  680  655"
      ]
     },
     "execution_count": 4,
     "metadata": {},
     "output_type": "execute_result"
    }
   ],
   "source": [
    "CostES1"
   ]
  },
  {
   "cell_type": "code",
   "execution_count": 5,
   "id": "a01b2124-120b-42f9-ba0d-c416a59f3867",
   "metadata": {},
   "outputs": [
    {
     "data": {
      "text/html": [
       "<div>\n",
       "<style scoped>\n",
       "    .dataframe tbody tr th:only-of-type {\n",
       "        vertical-align: middle;\n",
       "    }\n",
       "\n",
       "    .dataframe tbody tr th {\n",
       "        vertical-align: top;\n",
       "    }\n",
       "\n",
       "    .dataframe thead th {\n",
       "        text-align: right;\n",
       "    }\n",
       "</style>\n",
       "<table border=\"1\" class=\"dataframe\">\n",
       "  <thead>\n",
       "    <tr style=\"text-align: right;\">\n",
       "      <th></th>\n",
       "      <th>S-1</th>\n",
       "      <th>S-2</th>\n",
       "      <th>S-3</th>\n",
       "      <th>S-4</th>\n",
       "      <th>S-5</th>\n",
       "      <th>S-6</th>\n",
       "      <th>S-7</th>\n",
       "      <th>Demand (packages)</th>\n",
       "    </tr>\n",
       "  </thead>\n",
       "  <tbody>\n",
       "    <tr>\n",
       "      <th>Tues</th>\n",
       "      <td>1</td>\n",
       "      <td>0</td>\n",
       "      <td>0</td>\n",
       "      <td>1</td>\n",
       "      <td>1</td>\n",
       "      <td>1</td>\n",
       "      <td>1</td>\n",
       "      <td>21101.467706</td>\n",
       "    </tr>\n",
       "    <tr>\n",
       "      <th>Wed</th>\n",
       "      <td>1</td>\n",
       "      <td>1</td>\n",
       "      <td>0</td>\n",
       "      <td>0</td>\n",
       "      <td>1</td>\n",
       "      <td>1</td>\n",
       "      <td>1</td>\n",
       "      <td>24919.494949</td>\n",
       "    </tr>\n",
       "    <tr>\n",
       "      <th>Thurs</th>\n",
       "      <td>1</td>\n",
       "      <td>1</td>\n",
       "      <td>1</td>\n",
       "      <td>0</td>\n",
       "      <td>0</td>\n",
       "      <td>1</td>\n",
       "      <td>1</td>\n",
       "      <td>23554.342348</td>\n",
       "    </tr>\n",
       "    <tr>\n",
       "      <th>Fri</th>\n",
       "      <td>1</td>\n",
       "      <td>1</td>\n",
       "      <td>1</td>\n",
       "      <td>1</td>\n",
       "      <td>0</td>\n",
       "      <td>0</td>\n",
       "      <td>1</td>\n",
       "      <td>20388.683176</td>\n",
       "    </tr>\n",
       "    <tr>\n",
       "      <th>Sat</th>\n",
       "      <td>1</td>\n",
       "      <td>1</td>\n",
       "      <td>1</td>\n",
       "      <td>1</td>\n",
       "      <td>1</td>\n",
       "      <td>0</td>\n",
       "      <td>0</td>\n",
       "      <td>17707.072963</td>\n",
       "    </tr>\n",
       "    <tr>\n",
       "      <th>Sun</th>\n",
       "      <td>0</td>\n",
       "      <td>1</td>\n",
       "      <td>1</td>\n",
       "      <td>1</td>\n",
       "      <td>1</td>\n",
       "      <td>1</td>\n",
       "      <td>0</td>\n",
       "      <td>17302.201179</td>\n",
       "    </tr>\n",
       "    <tr>\n",
       "      <th>Mon</th>\n",
       "      <td>0</td>\n",
       "      <td>0</td>\n",
       "      <td>1</td>\n",
       "      <td>1</td>\n",
       "      <td>1</td>\n",
       "      <td>1</td>\n",
       "      <td>1</td>\n",
       "      <td>25631.132594</td>\n",
       "    </tr>\n",
       "  </tbody>\n",
       "</table>\n",
       "</div>"
      ],
      "text/plain": [
       "       S-1  S-2  S-3  S-4  S-5  S-6  S-7  Demand (packages)\n",
       "Tues     1    0    0    1    1    1    1       21101.467706\n",
       "Wed      1    1    0    0    1    1    1       24919.494949\n",
       "Thurs    1    1    1    0    0    1    1       23554.342348\n",
       "Fri      1    1    1    1    0    0    1       20388.683176\n",
       "Sat      1    1    1    1    1    0    0       17707.072963\n",
       "Sun      0    1    1    1    1    1    0       17302.201179\n",
       "Mon      0    0    1    1    1    1    1       25631.132594"
      ]
     },
     "execution_count": 5,
     "metadata": {},
     "output_type": "execute_result"
    }
   ],
   "source": [
    "DataES1"
   ]
  },
  {
   "cell_type": "code",
   "execution_count": 6,
   "id": "88843cf8-325b-4455-9ca1-3cbd51ed4dae",
   "metadata": {},
   "outputs": [],
   "source": [
    "modelES1 = ConcreteModel (\"Employee Scheduling-1\")\n",
    "\n",
    "Shift = CostES1.keys()\n",
    "\n",
    "#DVs\n",
    "\n",
    "modelES1.x = Var(Shift,domain = NonNegativeIntegers)\n",
    "\n",
    "#Objective Function\n",
    "modelES1.Cost = Objective(expr = sum([modelES1.x[s]*CostES1.loc['Cost',s] for s in Shift]), sense = minimize)"
   ]
  },
  {
   "cell_type": "code",
   "execution_count": 13,
   "id": "ccf98cb8-5137-4e8e-867e-00c7db52753d",
   "metadata": {},
   "outputs": [
    {
     "name": "stdout",
     "output_type": "stream",
     "text": [
      "WARNING: Implicitly replacing the Component attribute cons (type=<class\n",
      "'pyomo.core.base.constraint.ConstraintList'>) on block Employee Scheduling-1\n",
      "with a new Component (type=<class\n",
      "'pyomo.core.base.constraint.ConstraintList'>). This is usually indicative of a\n",
      "modelling error. To avoid this warning, use block.del_component() and\n",
      "block.add_component().\n"
     ]
    }
   ],
   "source": [
    "Days = DataES1.index \n",
    "\n",
    "modelES1.cons = ConstraintList()\n",
    "\n",
    "for d in Days:\n",
    "    modelES1.cons.add(1000*sum([modelES1.x[s]*DataES1.loc[d,s] for s in Shift]) >= DataES1.loc[d,'Demand (packages)'])"
   ]
  },
  {
   "cell_type": "code",
   "execution_count": 14,
   "id": "68006894-617b-4234-9357-815757f7d8cf",
   "metadata": {},
   "outputs": [
    {
     "data": {
      "text/plain": [
       "{'Problem': [{'Name': 'unknown', 'Lower bound': 21205.0, 'Upper bound': 21205.0, 'Number of objectives': 1, 'Number of constraints': 7, 'Number of variables': 7, 'Number of nonzeros': 35, 'Sense': 'minimize'}], 'Solver': [{'Status': 'ok', 'Termination condition': 'optimal', 'Statistics': {'Branch and bound': {'Number of bounded subproblems': '13', 'Number of created subproblems': '13'}}, 'Error rc': 0, 'Time': 0.10185074806213379}], 'Solution': [OrderedDict([('number of solutions', 0), ('number of solutions displayed', 0)])]}"
      ]
     },
     "execution_count": 14,
     "metadata": {},
     "output_type": "execute_result"
    }
   ],
   "source": [
    "SolverFactory('glpk').solve(modelES1)"
   ]
  },
  {
   "cell_type": "code",
   "execution_count": 15,
   "id": "d2d2e799-e5e8-48c8-ac6d-128896cffd19",
   "metadata": {},
   "outputs": [
    {
     "name": "stdout",
     "output_type": "stream",
     "text": [
      "Model Employee Scheduling-1\n",
      "\n",
      "  Variables:\n",
      "    x : Size=7, Index={S-2, S-3, S-4, S-7, S-5, S-6, S-1}\n",
      "        Key : Lower : Value : Upper : Fixed : Stale : Domain\n",
      "        S-1 :     0 :   3.0 :  None : False : False : NonNegativeIntegers\n",
      "        S-2 :     0 :   2.0 :  None : False : False : NonNegativeIntegers\n",
      "        S-3 :     0 :   6.0 :  None : False : False : NonNegativeIntegers\n",
      "        S-4 :     0 :   0.0 :  None : False : False : NonNegativeIntegers\n",
      "        S-5 :     0 :   7.0 :  None : False : False : NonNegativeIntegers\n",
      "        S-6 :     0 :   3.0 :  None : False : False : NonNegativeIntegers\n",
      "        S-7 :     0 :  10.0 :  None : False : False : NonNegativeIntegers\n",
      "\n",
      "  Objectives:\n",
      "    Cost : Size=1, Index=None, Active=True\n",
      "        Key  : Active : Value\n",
      "        None :   True : 21205.0\n",
      "\n",
      "  Constraints:\n",
      "    cons : Size=7\n",
      "        Key : Lower              : Body    : Upper\n",
      "          1 : 21101.467706169988 : 23000.0 :  None\n",
      "          2 : 24919.494948545263 : 25000.0 :  None\n",
      "          3 :    23554.342347762 : 24000.0 :  None\n",
      "          4 :  20388.68317608688 : 21000.0 :  None\n",
      "          5 : 17707.072962883474 : 18000.0 :  None\n",
      "          6 :   17302.2011793957 : 18000.0 :  None\n",
      "          7 :  25631.13259405359 : 26000.0 :  None\n"
     ]
    }
   ],
   "source": [
    "modelES1.display()"
   ]
  },
  {
   "cell_type": "markdown",
   "id": "f1924712-1f19-4a2b-a5a1-6cf75fbc7e09",
   "metadata": {},
   "source": [
    "### Question 18"
   ]
  },
  {
   "cell_type": "markdown",
   "id": "7fdd218b-42dd-4e05-8292-4eceddc173aa",
   "metadata": {},
   "source": [
    "Lockbox Problem"
   ]
  },
  {
   "cell_type": "code",
   "execution_count": 26,
   "id": "4205cf58-5834-4e89-9005-af7d96cb9890",
   "metadata": {},
   "outputs": [],
   "source": [
    "FloatLB = pd.read_excel('INFO4590P3PyomoData.xlsx',sheet_name=\"LBFloatDays\",index_col=0)  \n",
    "PaymentLB = pd.read_excel('INFO4590P3PyomoData.xlsx',sheet_name=\"LBPayment\",index_col=0)  \n",
    "CostLB = pd.read_excel('INFO4590P3PyomoData.xlsx',sheet_name=\"LBCost\",index_col=0)  \n"
   ]
  },
  {
   "cell_type": "code",
   "execution_count": 27,
   "id": "84932901-4963-4245-9965-144c5a90dac7",
   "metadata": {},
   "outputs": [
    {
     "data": {
      "text/html": [
       "<div>\n",
       "<style scoped>\n",
       "    .dataframe tbody tr th:only-of-type {\n",
       "        vertical-align: middle;\n",
       "    }\n",
       "\n",
       "    .dataframe tbody tr th {\n",
       "        vertical-align: top;\n",
       "    }\n",
       "\n",
       "    .dataframe thead th {\n",
       "        text-align: right;\n",
       "    }\n",
       "</style>\n",
       "<table border=\"1\" class=\"dataframe\">\n",
       "  <thead>\n",
       "    <tr style=\"text-align: right;\">\n",
       "      <th></th>\n",
       "      <th>Sacramento</th>\n",
       "      <th>Denver</th>\n",
       "      <th>Chicago</th>\n",
       "      <th>Dallas</th>\n",
       "      <th>New York</th>\n",
       "      <th>Atlanta</th>\n",
       "    </tr>\n",
       "  </thead>\n",
       "  <tbody>\n",
       "    <tr>\n",
       "      <th>Central</th>\n",
       "      <td>4</td>\n",
       "      <td>2</td>\n",
       "      <td>2</td>\n",
       "      <td>2</td>\n",
       "      <td>3</td>\n",
       "      <td>3</td>\n",
       "    </tr>\n",
       "    <tr>\n",
       "      <th>Mid-Atlantic</th>\n",
       "      <td>6</td>\n",
       "      <td>4</td>\n",
       "      <td>3</td>\n",
       "      <td>4</td>\n",
       "      <td>2</td>\n",
       "      <td>2</td>\n",
       "    </tr>\n",
       "    <tr>\n",
       "      <th>Midwest</th>\n",
       "      <td>3</td>\n",
       "      <td>2</td>\n",
       "      <td>3</td>\n",
       "      <td>2</td>\n",
       "      <td>5</td>\n",
       "      <td>4</td>\n",
       "    </tr>\n",
       "    <tr>\n",
       "      <th>Northeast</th>\n",
       "      <td>6</td>\n",
       "      <td>4</td>\n",
       "      <td>2</td>\n",
       "      <td>5</td>\n",
       "      <td>2</td>\n",
       "      <td>3</td>\n",
       "    </tr>\n",
       "    <tr>\n",
       "      <th>Northwest</th>\n",
       "      <td>2</td>\n",
       "      <td>3</td>\n",
       "      <td>5</td>\n",
       "      <td>4</td>\n",
       "      <td>6</td>\n",
       "      <td>7</td>\n",
       "    </tr>\n",
       "    <tr>\n",
       "      <th>Southeast</th>\n",
       "      <td>7</td>\n",
       "      <td>4</td>\n",
       "      <td>3</td>\n",
       "      <td>2</td>\n",
       "      <td>4</td>\n",
       "      <td>2</td>\n",
       "    </tr>\n",
       "    <tr>\n",
       "      <th>Southwest</th>\n",
       "      <td>2</td>\n",
       "      <td>3</td>\n",
       "      <td>6</td>\n",
       "      <td>2</td>\n",
       "      <td>7</td>\n",
       "      <td>6</td>\n",
       "    </tr>\n",
       "  </tbody>\n",
       "</table>\n",
       "</div>"
      ],
      "text/plain": [
       "              Sacramento  Denver  Chicago  Dallas  New York   Atlanta\n",
       "Central                4       2        2       2          3        3\n",
       "Mid-Atlantic           6       4        3       4          2        2\n",
       "Midwest                3       2        3       2          5        4\n",
       "Northeast              6       4        2       5          2        3\n",
       "Northwest              2       3        5       4          6        7\n",
       "Southeast              7       4        3       2          4        2\n",
       "Southwest              2       3        6       2          7        6"
      ]
     },
     "execution_count": 27,
     "metadata": {},
     "output_type": "execute_result"
    }
   ],
   "source": [
    "FloatLB"
   ]
  },
  {
   "cell_type": "code",
   "execution_count": 28,
   "id": "9dd15d71-5ac6-4929-8410-ed054c4cb40d",
   "metadata": {},
   "outputs": [
    {
     "data": {
      "text/html": [
       "<div>\n",
       "<style scoped>\n",
       "    .dataframe tbody tr th:only-of-type {\n",
       "        vertical-align: middle;\n",
       "    }\n",
       "\n",
       "    .dataframe tbody tr th {\n",
       "        vertical-align: top;\n",
       "    }\n",
       "\n",
       "    .dataframe thead th {\n",
       "        text-align: right;\n",
       "    }\n",
       "</style>\n",
       "<table border=\"1\" class=\"dataframe\">\n",
       "  <thead>\n",
       "    <tr style=\"text-align: right;\">\n",
       "      <th></th>\n",
       "      <th>Sacramento</th>\n",
       "      <th>Denver</th>\n",
       "      <th>Chicago</th>\n",
       "      <th>Dallas</th>\n",
       "      <th>New York</th>\n",
       "      <th>Atlanta</th>\n",
       "    </tr>\n",
       "  </thead>\n",
       "  <tbody>\n",
       "    <tr>\n",
       "      <th>Central</th>\n",
       "      <td>45</td>\n",
       "      <td>45</td>\n",
       "      <td>45</td>\n",
       "      <td>45</td>\n",
       "      <td>45</td>\n",
       "      <td>45</td>\n",
       "    </tr>\n",
       "    <tr>\n",
       "      <th>Mid-Atlantic</th>\n",
       "      <td>65</td>\n",
       "      <td>65</td>\n",
       "      <td>65</td>\n",
       "      <td>65</td>\n",
       "      <td>65</td>\n",
       "      <td>65</td>\n",
       "    </tr>\n",
       "    <tr>\n",
       "      <th>Midwest</th>\n",
       "      <td>50</td>\n",
       "      <td>50</td>\n",
       "      <td>50</td>\n",
       "      <td>50</td>\n",
       "      <td>50</td>\n",
       "      <td>50</td>\n",
       "    </tr>\n",
       "    <tr>\n",
       "      <th>Northeast</th>\n",
       "      <td>90</td>\n",
       "      <td>90</td>\n",
       "      <td>90</td>\n",
       "      <td>90</td>\n",
       "      <td>90</td>\n",
       "      <td>90</td>\n",
       "    </tr>\n",
       "    <tr>\n",
       "      <th>Northwest</th>\n",
       "      <td>70</td>\n",
       "      <td>70</td>\n",
       "      <td>70</td>\n",
       "      <td>70</td>\n",
       "      <td>70</td>\n",
       "      <td>70</td>\n",
       "    </tr>\n",
       "    <tr>\n",
       "      <th>Southeast</th>\n",
       "      <td>80</td>\n",
       "      <td>80</td>\n",
       "      <td>80</td>\n",
       "      <td>80</td>\n",
       "      <td>80</td>\n",
       "      <td>80</td>\n",
       "    </tr>\n",
       "    <tr>\n",
       "      <th>Southwest</th>\n",
       "      <td>60</td>\n",
       "      <td>60</td>\n",
       "      <td>60</td>\n",
       "      <td>60</td>\n",
       "      <td>60</td>\n",
       "      <td>60</td>\n",
       "    </tr>\n",
       "  </tbody>\n",
       "</table>\n",
       "</div>"
      ],
      "text/plain": [
       "              Sacramento  Denver  Chicago  Dallas  New York   Atlanta\n",
       "Central               45      45       45      45         45       45\n",
       "Mid-Atlantic          65      65       65      65         65       65\n",
       "Midwest               50      50       50      50         50       50\n",
       "Northeast             90      90       90      90         90       90\n",
       "Northwest             70      70       70      70         70       70\n",
       "Southeast             80      80       80      80         80       80\n",
       "Southwest             60      60       60      60         60       60"
      ]
     },
     "execution_count": 28,
     "metadata": {},
     "output_type": "execute_result"
    }
   ],
   "source": [
    "PaymentLB"
   ]
  },
  {
   "cell_type": "code",
   "execution_count": 29,
   "id": "91238e35-9f0b-4f54-b0f5-41bd421cd203",
   "metadata": {},
   "outputs": [
    {
     "data": {
      "text/html": [
       "<div>\n",
       "<style scoped>\n",
       "    .dataframe tbody tr th:only-of-type {\n",
       "        vertical-align: middle;\n",
       "    }\n",
       "\n",
       "    .dataframe tbody tr th {\n",
       "        vertical-align: top;\n",
       "    }\n",
       "\n",
       "    .dataframe thead th {\n",
       "        text-align: right;\n",
       "    }\n",
       "</style>\n",
       "<table border=\"1\" class=\"dataframe\">\n",
       "  <thead>\n",
       "    <tr style=\"text-align: right;\">\n",
       "      <th></th>\n",
       "      <th>Sacramento</th>\n",
       "      <th>Denver</th>\n",
       "      <th>Chicago</th>\n",
       "      <th>Dallas</th>\n",
       "      <th>New York</th>\n",
       "      <th>Atlanta</th>\n",
       "    </tr>\n",
       "  </thead>\n",
       "  <tbody>\n",
       "    <tr>\n",
       "      <th>Cost</th>\n",
       "      <td>25</td>\n",
       "      <td>60</td>\n",
       "      <td>35</td>\n",
       "      <td>35</td>\n",
       "      <td>30</td>\n",
       "      <td>35</td>\n",
       "    </tr>\n",
       "  </tbody>\n",
       "</table>\n",
       "</div>"
      ],
      "text/plain": [
       "      Sacramento  Denver  Chicago  Dallas  New York   Atlanta\n",
       "Cost          25      60       35      35         30       35"
      ]
     },
     "execution_count": 29,
     "metadata": {},
     "output_type": "execute_result"
    }
   ],
   "source": [
    "CostLB"
   ]
  },
  {
   "cell_type": "code",
   "execution_count": 45,
   "id": "bdb3c253-b893-49a5-b77e-26f483134835",
   "metadata": {},
   "outputs": [
    {
     "name": "stderr",
     "output_type": "stream",
     "text": [
      "C:\\Users\\amara\\AppData\\Local\\Temp\\ipykernel_17092\\497191480.py:14: DeprecationWarning: Calling np.sum(generator) is deprecated, and in the future will give a different result. Use np.sum(np.fromiter(generator)) or the python sum builtin instead.\n",
      "  modelLB.Cost = Objective(expr = 1000*0.15*sum(sum([modelLB.x[r,l]*FloatLB.loc[r,l]*PaymentLB.loc[r,l] for l in Location]) for r in Region) +\n"
     ]
    }
   ],
   "source": [
    "modelLB = ConcreteModel (\"Lockbox Problem\")\n",
    "\n",
    "Location = FloatLB.keys()\n",
    "Region = FloatLB.index\n",
    "\n",
    "\n",
    "#DVs\n",
    "\n",
    "modelLB.x = Var(Region,Location,domain = Binary)\n",
    "modelLB.y = Var(Location,domain = Binary)\n",
    "\n",
    "#Objective Function\n",
    "\n",
    "modelLB.Cost = Objective(expr = 1000*0.15*sum(sum([modelLB.x[r,l]*FloatLB.loc[r,l]*PaymentLB.loc[r,l] for l in Location]) for r in Region) +\n",
    "                         1000*sum([modelLB.y[l]*CostLB.loc['Cost',l] for l in Location]), sense = minimize)"
   ]
  },
  {
   "cell_type": "code",
   "execution_count": 46,
   "id": "0bcc66a7-e2a3-46db-902a-0205b9588310",
   "metadata": {},
   "outputs": [],
   "source": [
    "modelLB.cons = ConstraintList()\n",
    "\n",
    "for r in Region:\n",
    "    modelLB.cons.add(sum([modelLB.x[r,l] for l in Location]) ==1)\n",
    "\n",
    "for r in Region:\n",
    "    for l in Location:\n",
    "        modelLB.cons.add(modelLB.x[r,l] <= modelLB.y[l])"
   ]
  },
  {
   "cell_type": "code",
   "execution_count": 47,
   "id": "8613a559-8d17-4f19-aa23-bb226be32456",
   "metadata": {},
   "outputs": [
    {
     "data": {
      "text/plain": [
       "{'Problem': [{'Name': 'unknown', 'Lower bound': 224000.0, 'Upper bound': 224000.0, 'Number of objectives': 1, 'Number of constraints': 49, 'Number of variables': 48, 'Number of nonzeros': 126, 'Sense': 'minimize'}], 'Solver': [{'Status': 'ok', 'Termination condition': 'optimal', 'Statistics': {'Branch and bound': {'Number of bounded subproblems': '1', 'Number of created subproblems': '1'}}, 'Error rc': 0, 'Time': 0.10447311401367188}], 'Solution': [OrderedDict([('number of solutions', 0), ('number of solutions displayed', 0)])]}"
      ]
     },
     "execution_count": 47,
     "metadata": {},
     "output_type": "execute_result"
    }
   ],
   "source": [
    "SolverFactory('glpk').solve(modelLB)"
   ]
  },
  {
   "cell_type": "code",
   "execution_count": 48,
   "id": "ce8fd8f5-f301-47ab-99f2-8fbafa808b96",
   "metadata": {},
   "outputs": [
    {
     "name": "stdout",
     "output_type": "stream",
     "text": [
      "Model Lockbox Problem\n",
      "\n",
      "  Variables:\n",
      "    x : Size=42, Index={Southeast, Northwest, Southwest, Central, Northeast, Mid-Atlantic, Midwest}*{Atlanta, Dallas, Sacramento, Chicago, Denver, New York }\n",
      "        Key                            : Lower : Value : Upper : Fixed : Stale : Domain\n",
      "                ('Central', 'Atlanta') :     0 :   0.0 :     1 : False : False : Binary\n",
      "                ('Central', 'Chicago') :     0 :   0.0 :     1 : False : False : Binary\n",
      "                 ('Central', 'Dallas') :     0 :   1.0 :     1 : False : False : Binary\n",
      "                 ('Central', 'Denver') :     0 :   0.0 :     1 : False : False : Binary\n",
      "              ('Central', 'New York ') :     0 :   0.0 :     1 : False : False : Binary\n",
      "             ('Central', 'Sacramento') :     0 :   0.0 :     1 : False : False : Binary\n",
      "           ('Mid-Atlantic', 'Atlanta') :     0 :   0.0 :     1 : False : False : Binary\n",
      "           ('Mid-Atlantic', 'Chicago') :     0 :   0.0 :     1 : False : False : Binary\n",
      "            ('Mid-Atlantic', 'Dallas') :     0 :   0.0 :     1 : False : False : Binary\n",
      "            ('Mid-Atlantic', 'Denver') :     0 :   0.0 :     1 : False : False : Binary\n",
      "         ('Mid-Atlantic', 'New York ') :     0 :   1.0 :     1 : False : False : Binary\n",
      "        ('Mid-Atlantic', 'Sacramento') :     0 :   0.0 :     1 : False : False : Binary\n",
      "                ('Midwest', 'Atlanta') :     0 :   0.0 :     1 : False : False : Binary\n",
      "                ('Midwest', 'Chicago') :     0 :   0.0 :     1 : False : False : Binary\n",
      "                 ('Midwest', 'Dallas') :     0 :   1.0 :     1 : False : False : Binary\n",
      "                 ('Midwest', 'Denver') :     0 :   0.0 :     1 : False : False : Binary\n",
      "              ('Midwest', 'New York ') :     0 :   0.0 :     1 : False : False : Binary\n",
      "             ('Midwest', 'Sacramento') :     0 :   0.0 :     1 : False : False : Binary\n",
      "              ('Northeast', 'Atlanta') :     0 :   0.0 :     1 : False : False : Binary\n",
      "              ('Northeast', 'Chicago') :     0 :   0.0 :     1 : False : False : Binary\n",
      "               ('Northeast', 'Dallas') :     0 :   0.0 :     1 : False : False : Binary\n",
      "               ('Northeast', 'Denver') :     0 :   0.0 :     1 : False : False : Binary\n",
      "            ('Northeast', 'New York ') :     0 :   1.0 :     1 : False : False : Binary\n",
      "           ('Northeast', 'Sacramento') :     0 :   0.0 :     1 : False : False : Binary\n",
      "              ('Northwest', 'Atlanta') :     0 :   0.0 :     1 : False : False : Binary\n",
      "              ('Northwest', 'Chicago') :     0 :   0.0 :     1 : False : False : Binary\n",
      "               ('Northwest', 'Dallas') :     0 :   1.0 :     1 : False : False : Binary\n",
      "               ('Northwest', 'Denver') :     0 :   0.0 :     1 : False : False : Binary\n",
      "            ('Northwest', 'New York ') :     0 :   0.0 :     1 : False : False : Binary\n",
      "           ('Northwest', 'Sacramento') :     0 :   0.0 :     1 : False : False : Binary\n",
      "              ('Southeast', 'Atlanta') :     0 :   0.0 :     1 : False : False : Binary\n",
      "              ('Southeast', 'Chicago') :     0 :   0.0 :     1 : False : False : Binary\n",
      "               ('Southeast', 'Dallas') :     0 :   1.0 :     1 : False : False : Binary\n",
      "               ('Southeast', 'Denver') :     0 :   0.0 :     1 : False : False : Binary\n",
      "            ('Southeast', 'New York ') :     0 :   0.0 :     1 : False : False : Binary\n",
      "           ('Southeast', 'Sacramento') :     0 :   0.0 :     1 : False : False : Binary\n",
      "              ('Southwest', 'Atlanta') :     0 :   0.0 :     1 : False : False : Binary\n",
      "              ('Southwest', 'Chicago') :     0 :   0.0 :     1 : False : False : Binary\n",
      "               ('Southwest', 'Dallas') :     0 :   1.0 :     1 : False : False : Binary\n",
      "               ('Southwest', 'Denver') :     0 :   0.0 :     1 : False : False : Binary\n",
      "            ('Southwest', 'New York ') :     0 :   0.0 :     1 : False : False : Binary\n",
      "           ('Southwest', 'Sacramento') :     0 :   0.0 :     1 : False : False : Binary\n",
      "    y : Size=6, Index={Atlanta, Dallas, Sacramento, Chicago, Denver, New York }\n",
      "        Key        : Lower : Value : Upper : Fixed : Stale : Domain\n",
      "           Atlanta :     0 :   0.0 :     1 : False : False : Binary\n",
      "           Chicago :     0 :   0.0 :     1 : False : False : Binary\n",
      "            Dallas :     0 :   1.0 :     1 : False : False : Binary\n",
      "            Denver :     0 :   0.0 :     1 : False : False : Binary\n",
      "         New York  :     0 :   1.0 :     1 : False : False : Binary\n",
      "        Sacramento :     0 :   0.0 :     1 : False : False : Binary\n",
      "\n",
      "  Objectives:\n",
      "    Cost : Size=1, Index=None, Active=True\n",
      "        Key  : Active : Value\n",
      "        None :   True : 224000.0\n",
      "\n",
      "  Constraints:\n",
      "    cons : Size=49\n",
      "        Key : Lower : Body : Upper\n",
      "          1 :   1.0 :  1.0 :   1.0\n",
      "          2 :   1.0 :  1.0 :   1.0\n",
      "          3 :   1.0 :  1.0 :   1.0\n",
      "          4 :   1.0 :  1.0 :   1.0\n",
      "          5 :   1.0 :  1.0 :   1.0\n",
      "          6 :   1.0 :  1.0 :   1.0\n",
      "          7 :   1.0 :  1.0 :   1.0\n",
      "          8 :  None :  0.0 :   0.0\n",
      "          9 :  None :  0.0 :   0.0\n",
      "         10 :  None :  0.0 :   0.0\n",
      "         11 :  None :  0.0 :   0.0\n",
      "         12 :  None : -1.0 :   0.0\n",
      "         13 :  None :  0.0 :   0.0\n",
      "         14 :  None :  0.0 :   0.0\n",
      "         15 :  None :  0.0 :   0.0\n",
      "         16 :  None :  0.0 :   0.0\n",
      "         17 :  None : -1.0 :   0.0\n",
      "         18 :  None :  0.0 :   0.0\n",
      "         19 :  None :  0.0 :   0.0\n",
      "         20 :  None :  0.0 :   0.0\n",
      "         21 :  None :  0.0 :   0.0\n",
      "         22 :  None :  0.0 :   0.0\n",
      "         23 :  None :  0.0 :   0.0\n",
      "         24 :  None : -1.0 :   0.0\n",
      "         25 :  None :  0.0 :   0.0\n",
      "         26 :  None :  0.0 :   0.0\n",
      "         27 :  None :  0.0 :   0.0\n",
      "         28 :  None :  0.0 :   0.0\n",
      "         29 :  None : -1.0 :   0.0\n",
      "         30 :  None :  0.0 :   0.0\n",
      "         31 :  None :  0.0 :   0.0\n",
      "         32 :  None :  0.0 :   0.0\n",
      "         33 :  None :  0.0 :   0.0\n",
      "         34 :  None :  0.0 :   0.0\n",
      "         35 :  None :  0.0 :   0.0\n",
      "         36 :  None : -1.0 :   0.0\n",
      "         37 :  None :  0.0 :   0.0\n",
      "         38 :  None :  0.0 :   0.0\n",
      "         39 :  None :  0.0 :   0.0\n",
      "         40 :  None :  0.0 :   0.0\n",
      "         41 :  None :  0.0 :   0.0\n",
      "         42 :  None : -1.0 :   0.0\n",
      "         43 :  None :  0.0 :   0.0\n",
      "         44 :  None :  0.0 :   0.0\n",
      "         45 :  None :  0.0 :   0.0\n",
      "         46 :  None :  0.0 :   0.0\n",
      "         47 :  None :  0.0 :   0.0\n",
      "         48 :  None : -1.0 :   0.0\n",
      "         49 :  None :  0.0 :   0.0\n"
     ]
    }
   ],
   "source": [
    "modelLB.display()"
   ]
  },
  {
   "cell_type": "markdown",
   "id": "be3c10a3-417c-4073-9e2e-ee4394e4fc17",
   "metadata": {},
   "source": [
    "### Question 19"
   ]
  },
  {
   "cell_type": "markdown",
   "id": "4913d502-5c5c-4c4e-b172-478287ff17fa",
   "metadata": {},
   "source": [
    "Farming"
   ]
  },
  {
   "cell_type": "code",
   "execution_count": 31,
   "id": "84f0f052-3097-45f8-8fa7-06f0e7e60101",
   "metadata": {},
   "outputs": [],
   "source": [
    "ProfitF = pd.read_excel('INFO4590P3PyomoData.xlsx',sheet_name=\"FProfit\",index_col=0)  \n",
    "Data1F = pd.read_excel('INFO4590P3PyomoData.xlsx',sheet_name=\"FData1\",index_col=0)  \n",
    "Data2F = pd.read_excel('INFO4590P3PyomoData.xlsx',sheet_name=\"FData2\",index_col=0)  \n"
   ]
  },
  {
   "cell_type": "code",
   "execution_count": 32,
   "id": "cf71c86b-acaa-40e8-a07e-2f1e19c3ae83",
   "metadata": {},
   "outputs": [
    {
     "data": {
      "text/html": [
       "<div>\n",
       "<style scoped>\n",
       "    .dataframe tbody tr th:only-of-type {\n",
       "        vertical-align: middle;\n",
       "    }\n",
       "\n",
       "    .dataframe tbody tr th {\n",
       "        vertical-align: top;\n",
       "    }\n",
       "\n",
       "    .dataframe thead th {\n",
       "        text-align: right;\n",
       "    }\n",
       "</style>\n",
       "<table border=\"1\" class=\"dataframe\">\n",
       "  <thead>\n",
       "    <tr style=\"text-align: right;\">\n",
       "      <th></th>\n",
       "      <th>Milo</th>\n",
       "      <th>Cotton</th>\n",
       "      <th>Wheat</th>\n",
       "    </tr>\n",
       "  </thead>\n",
       "  <tbody>\n",
       "    <tr>\n",
       "      <th>F-1</th>\n",
       "      <td>400</td>\n",
       "      <td>300</td>\n",
       "      <td>100</td>\n",
       "    </tr>\n",
       "    <tr>\n",
       "      <th>F-2</th>\n",
       "      <td>400</td>\n",
       "      <td>300</td>\n",
       "      <td>100</td>\n",
       "    </tr>\n",
       "    <tr>\n",
       "      <th>F-3</th>\n",
       "      <td>400</td>\n",
       "      <td>300</td>\n",
       "      <td>100</td>\n",
       "    </tr>\n",
       "  </tbody>\n",
       "</table>\n",
       "</div>"
      ],
      "text/plain": [
       "     Milo   Cotton   Wheat \n",
       "F-1    400      300     100\n",
       "F-2    400      300     100\n",
       "F-3    400      300     100"
      ]
     },
     "execution_count": 32,
     "metadata": {},
     "output_type": "execute_result"
    }
   ],
   "source": [
    "ProfitF"
   ]
  },
  {
   "cell_type": "code",
   "execution_count": 33,
   "id": "82d3e383-e99e-442d-a94e-d483e0ebd5eb",
   "metadata": {},
   "outputs": [
    {
     "data": {
      "text/html": [
       "<div>\n",
       "<style scoped>\n",
       "    .dataframe tbody tr th:only-of-type {\n",
       "        vertical-align: middle;\n",
       "    }\n",
       "\n",
       "    .dataframe tbody tr th {\n",
       "        vertical-align: top;\n",
       "    }\n",
       "\n",
       "    .dataframe thead th {\n",
       "        text-align: right;\n",
       "    }\n",
       "</style>\n",
       "<table border=\"1\" class=\"dataframe\">\n",
       "  <thead>\n",
       "    <tr style=\"text-align: right;\">\n",
       "      <th></th>\n",
       "      <th>Acreage</th>\n",
       "      <th>Water Available (acre feet)</th>\n",
       "    </tr>\n",
       "  </thead>\n",
       "  <tbody>\n",
       "    <tr>\n",
       "      <th>F-1</th>\n",
       "      <td>400</td>\n",
       "      <td>1500</td>\n",
       "    </tr>\n",
       "    <tr>\n",
       "      <th>F-2</th>\n",
       "      <td>600</td>\n",
       "      <td>2000</td>\n",
       "    </tr>\n",
       "    <tr>\n",
       "      <th>F-3</th>\n",
       "      <td>300</td>\n",
       "      <td>900</td>\n",
       "    </tr>\n",
       "  </tbody>\n",
       "</table>\n",
       "</div>"
      ],
      "text/plain": [
       "     Acreage  Water Available (acre feet)\n",
       "F-1      400                         1500\n",
       "F-2      600                         2000\n",
       "F-3      300                          900"
      ]
     },
     "execution_count": 33,
     "metadata": {},
     "output_type": "execute_result"
    }
   ],
   "source": [
    "Data1F"
   ]
  },
  {
   "cell_type": "code",
   "execution_count": 34,
   "id": "c5d64b8e-4e2e-4771-a195-9ad6db047f62",
   "metadata": {},
   "outputs": [
    {
     "data": {
      "text/html": [
       "<div>\n",
       "<style scoped>\n",
       "    .dataframe tbody tr th:only-of-type {\n",
       "        vertical-align: middle;\n",
       "    }\n",
       "\n",
       "    .dataframe tbody tr th {\n",
       "        vertical-align: top;\n",
       "    }\n",
       "\n",
       "    .dataframe thead th {\n",
       "        text-align: right;\n",
       "    }\n",
       "</style>\n",
       "<table border=\"1\" class=\"dataframe\">\n",
       "  <thead>\n",
       "    <tr style=\"text-align: right;\">\n",
       "      <th></th>\n",
       "      <th>Milo</th>\n",
       "      <th>Cotton</th>\n",
       "      <th>Wheat</th>\n",
       "    </tr>\n",
       "  </thead>\n",
       "  <tbody>\n",
       "    <tr>\n",
       "      <th>Total Harvesting Capacity (in acres)</th>\n",
       "      <td>700</td>\n",
       "      <td>800</td>\n",
       "      <td>300</td>\n",
       "    </tr>\n",
       "    <tr>\n",
       "      <th>Water Requirements (in acres-feet/acre)</th>\n",
       "      <td>6</td>\n",
       "      <td>4</td>\n",
       "      <td>2</td>\n",
       "    </tr>\n",
       "  </tbody>\n",
       "</table>\n",
       "</div>"
      ],
      "text/plain": [
       "                                         Milo   Cotton   Wheat \n",
       "Total Harvesting Capacity (in acres)       700      800     300\n",
       "Water Requirements (in acres-feet/acre)      6        4       2"
      ]
     },
     "execution_count": 34,
     "metadata": {},
     "output_type": "execute_result"
    }
   ],
   "source": [
    "Data2F"
   ]
  },
  {
   "cell_type": "code",
   "execution_count": 35,
   "id": "b103e3f7-d821-490e-a88f-ea78a8c45245",
   "metadata": {},
   "outputs": [
    {
     "name": "stderr",
     "output_type": "stream",
     "text": [
      "C:\\Users\\amara\\AppData\\Local\\Temp\\ipykernel_35388\\3758790818.py:12: DeprecationWarning: Calling np.sum(generator) is deprecated, and in the future will give a different result. Use np.sum(np.fromiter(generator)) or the python sum builtin instead.\n",
      "  modelF.Profit = Objective(expr = sum(sum([modelF.x[f,c]*ProfitF.loc[f,c] for c in Crop]) for f in Farm), sense = maximize)\n"
     ]
    }
   ],
   "source": [
    "modelF = ConcreteModel (\"Farming\")\n",
    "\n",
    "Crop = ProfitF.keys()\n",
    "Farm = ProfitF.index\n",
    "\n",
    "#DVs\n",
    "\n",
    "modelF.x = Var(Farm,Crop,domain = NonNegativeIntegers)\n",
    "\n",
    "#Objective Function\n",
    "\n",
    "modelF.Profit = Objective(expr = sum(sum([modelF.x[f,c]*ProfitF.loc[f,c] for c in Crop]) for f in Farm), sense = maximize)"
   ]
  },
  {
   "cell_type": "code",
   "execution_count": 37,
   "id": "5dbb201b-20e6-4854-8dca-c69e2f54d72e",
   "metadata": {},
   "outputs": [
    {
     "name": "stdout",
     "output_type": "stream",
     "text": [
      "WARNING: Implicitly replacing the Component attribute cons (type=<class\n",
      "'pyomo.core.base.constraint.ConstraintList'>) on block Farming with a new\n",
      "Component (type=<class 'pyomo.core.base.constraint.ConstraintList'>). This is\n",
      "usually indicative of a modelling error. To avoid this warning, use\n",
      "block.del_component() and block.add_component().\n"
     ]
    }
   ],
   "source": [
    "modelF.cons = ConstraintList()\n",
    "\n",
    "for f in Farm:\n",
    "    modelF.cons.add(sum([modelF.x[f,c] for c in Crop]) <= Data1F.loc[f,'Acreage'])\n",
    "\n",
    "for c in Crop:\n",
    "     modelF.cons.add(sum([modelF.x[f,c] for f in Farm]) <= Data2F.loc['Total Harvesting Capacity (in acres)',c])\n",
    "\n",
    "for f in Farm:\n",
    "    modelF.cons.add(sum([modelF.x[f,c]*Data2F.loc['Water Requirements (in acres-feet/acre)',c] for c in Crop]) <= Data1F.loc[f,'Water Available (acre feet)'])"
   ]
  },
  {
   "cell_type": "code",
   "execution_count": 38,
   "id": "75b4766e-0aff-41f6-b134-34b69d08c056",
   "metadata": {},
   "outputs": [
    {
     "data": {
      "text/plain": [
       "{'Problem': [{'Name': 'unknown', 'Lower bound': 320000.0, 'Upper bound': 320000.0, 'Number of objectives': 1, 'Number of constraints': 9, 'Number of variables': 9, 'Number of nonzeros': 27, 'Sense': 'maximize'}], 'Solver': [{'Status': 'ok', 'Termination condition': 'optimal', 'Statistics': {'Branch and bound': {'Number of bounded subproblems': '1', 'Number of created subproblems': '1'}}, 'Error rc': 0, 'Time': 0.08519792556762695}], 'Solution': [OrderedDict([('number of solutions', 0), ('number of solutions displayed', 0)])]}"
      ]
     },
     "execution_count": 38,
     "metadata": {},
     "output_type": "execute_result"
    }
   ],
   "source": [
    "SolverFactory('glpk').solve(modelF)"
   ]
  },
  {
   "cell_type": "code",
   "execution_count": 39,
   "id": "ab85570d-8123-4cef-873b-bb005f9952e1",
   "metadata": {},
   "outputs": [
    {
     "name": "stdout",
     "output_type": "stream",
     "text": [
      "Model Farming\n",
      "\n",
      "  Variables:\n",
      "    x : Size=9, Index={F-2, F-3, F-1}*{Wheat , Cotton , Milo }\n",
      "        Key                : Lower : Value : Upper : Fixed : Stale : Domain\n",
      "        ('F-1', 'Cotton ') :     0 : 375.0 :  None : False : False : NonNegativeIntegers\n",
      "          ('F-1', 'Milo ') :     0 :   0.0 :  None : False : False : NonNegativeIntegers\n",
      "         ('F-1', 'Wheat ') :     0 :   0.0 :  None : False : False : NonNegativeIntegers\n",
      "        ('F-2', 'Cotton ') :     0 : 200.0 :  None : False : False : NonNegativeIntegers\n",
      "          ('F-2', 'Milo ') :     0 : 200.0 :  None : False : False : NonNegativeIntegers\n",
      "         ('F-2', 'Wheat ') :     0 :   0.0 :  None : False : False : NonNegativeIntegers\n",
      "        ('F-3', 'Cotton ') :     0 : 225.0 :  None : False : False : NonNegativeIntegers\n",
      "          ('F-3', 'Milo ') :     0 :   0.0 :  None : False : False : NonNegativeIntegers\n",
      "         ('F-3', 'Wheat ') :     0 :   0.0 :  None : False : False : NonNegativeIntegers\n",
      "\n",
      "  Objectives:\n",
      "    Profit : Size=1, Index=None, Active=True\n",
      "        Key  : Active : Value\n",
      "        None :   True : 320000.0\n",
      "\n",
      "  Constraints:\n",
      "    cons : Size=9\n",
      "        Key : Lower : Body   : Upper\n",
      "          1 :  None :  375.0 :  400.0\n",
      "          2 :  None :  400.0 :  600.0\n",
      "          3 :  None :  225.0 :  300.0\n",
      "          4 :  None :  200.0 :  700.0\n",
      "          5 :  None :  800.0 :  800.0\n",
      "          6 :  None :    0.0 :  300.0\n",
      "          7 :  None : 1500.0 : 1500.0\n",
      "          8 :  None : 2000.0 : 2000.0\n",
      "          9 :  None :  900.0 :  900.0\n"
     ]
    }
   ],
   "source": [
    "modelF.display()"
   ]
  },
  {
   "cell_type": "markdown",
   "id": "395eb552-5a90-4bc1-b6c4-264d6b6654ac",
   "metadata": {},
   "source": [
    "### Question 20"
   ]
  },
  {
   "cell_type": "markdown",
   "id": "d6dd71f5-2dba-442c-a65b-7cd53f1cd793",
   "metadata": {},
   "source": [
    "Inventory Management"
   ]
  },
  {
   "cell_type": "code",
   "execution_count": 14,
   "id": "c0e4d3da-a7c6-4137-a448-fc5744ee1568",
   "metadata": {},
   "outputs": [],
   "source": [
    "DataIM = pd.read_excel('INFO4590P3PyomoData.xlsx',sheet_name=\"IMData\",index_col=0)  \n"
   ]
  },
  {
   "cell_type": "code",
   "execution_count": 15,
   "id": "89296eb2-1d3b-40ec-8ae6-379cb3e967d2",
   "metadata": {},
   "outputs": [
    {
     "data": {
      "text/html": [
       "<div>\n",
       "<style scoped>\n",
       "    .dataframe tbody tr th:only-of-type {\n",
       "        vertical-align: middle;\n",
       "    }\n",
       "\n",
       "    .dataframe tbody tr th {\n",
       "        vertical-align: top;\n",
       "    }\n",
       "\n",
       "    .dataframe thead th {\n",
       "        text-align: right;\n",
       "    }\n",
       "</style>\n",
       "<table border=\"1\" class=\"dataframe\">\n",
       "  <thead>\n",
       "    <tr style=\"text-align: right;\">\n",
       "      <th></th>\n",
       "      <th>DemL</th>\n",
       "      <th>DemH</th>\n",
       "    </tr>\n",
       "  </thead>\n",
       "  <tbody>\n",
       "    <tr>\n",
       "      <th>D-1</th>\n",
       "      <td>6</td>\n",
       "      <td>0</td>\n",
       "    </tr>\n",
       "    <tr>\n",
       "      <th>D-2</th>\n",
       "      <td>3</td>\n",
       "      <td>2</td>\n",
       "    </tr>\n",
       "    <tr>\n",
       "      <th>D-3</th>\n",
       "      <td>5</td>\n",
       "      <td>4</td>\n",
       "    </tr>\n",
       "    <tr>\n",
       "      <th>D-4</th>\n",
       "      <td>8</td>\n",
       "      <td>3</td>\n",
       "    </tr>\n",
       "    <tr>\n",
       "      <th>D-5</th>\n",
       "      <td>2</td>\n",
       "      <td>1</td>\n",
       "    </tr>\n",
       "    <tr>\n",
       "      <th>D-6</th>\n",
       "      <td>4</td>\n",
       "      <td>4</td>\n",
       "    </tr>\n",
       "    <tr>\n",
       "      <th>D-7</th>\n",
       "      <td>1</td>\n",
       "      <td>2</td>\n",
       "    </tr>\n",
       "  </tbody>\n",
       "</table>\n",
       "</div>"
      ],
      "text/plain": [
       "     DemL  DemH\n",
       "D-1     6     0\n",
       "D-2     3     2\n",
       "D-3     5     4\n",
       "D-4     8     3\n",
       "D-5     2     1\n",
       "D-6     4     4\n",
       "D-7     1     2"
      ]
     },
     "execution_count": 15,
     "metadata": {},
     "output_type": "execute_result"
    }
   ],
   "source": [
    "DataIM"
   ]
  },
  {
   "cell_type": "code",
   "execution_count": 18,
   "id": "2125eda1-c876-4ef0-9739-61736a7b6b4c",
   "metadata": {},
   "outputs": [],
   "source": [
    "modelIM = ConcreteModel (\"Inventory Management- Trucks\")\n",
    "\n",
    "Days = IMDV.index\n",
    "\n",
    "#DVs\n",
    "\n",
    "modelIM.Light = Var(domain = NonNegativeIntegers)\n",
    "modelIM.Heavy = Var(domain = NonNegativeIntegers)\n",
    "\n",
    "modelIM.LightsUsed = Var(Days, domain = NonNegativeIntegers)\n",
    "modelIM.LightsRented = Var(Days, domain = NonNegativeIntegers)\n",
    "modelIM.HeavyForLight = Var(Days, domain = NonNegativeIntegers)\n",
    "modelIM.HeavyUsed = Var(Days, domain = NonNegativeIntegers)\n",
    "modelIM.HeavyRented = Var(Days, domain = NonNegativeIntegers)\n",
    "\n",
    "\n",
    "#Objective Function\n",
    "\n",
    "modelIM.Cost = Objective(expr = sum([32*modelIM.Light + 44*modelIM.Heavy + \n",
    "                                     40*modelIM.LightsUsed[d] + \n",
    "                                     54*(modelIM.HeavyUsed[d] + modelIM.HeavyForLight[d]) + \n",
    "                                     175*modelIM.LightsRented[d] + 225*modelIM.HeavyRented[d] for d in Days]) ,sense = minimize)"
   ]
  },
  {
   "cell_type": "code",
   "execution_count": 19,
   "id": "8d3eafee-fee5-460e-ad51-52de74454285",
   "metadata": {},
   "outputs": [],
   "source": [
    "modelIM.cons = ConstraintList()\n",
    "\n",
    "for d in Days:\n",
    "    modelIM.cons.add(modelIM.HeavyUsed[d] + modelIM.HeavyRented[d] >= DataIM.loc[d,'DemH'])\n",
    "for d in Days:\n",
    "    modelIM.cons.add(modelIM.HeavyUsed[d] + modelIM.HeavyForLight[d] <= modelIM.Heavy)\n",
    "    \n",
    "for d in Days:\n",
    "    modelIM.cons.add(modelIM.LightsUsed[d] + modelIM.HeavyForLight[d] + modelIM.LightsRented[d] >= DataIM.loc[d,'DemL'])\n",
    "for d in Days:\n",
    "    modelIM.cons.add(modelIM.LightsUsed[d] <= modelIM.Light)\n"
   ]
  },
  {
   "cell_type": "code",
   "execution_count": 20,
   "id": "8947756a-895e-44b4-b39a-1d8260b39812",
   "metadata": {},
   "outputs": [
    {
     "data": {
      "text/plain": [
       "{'Problem': [{'Name': 'unknown', 'Lower bound': 4674.0, 'Upper bound': 4674.0, 'Number of objectives': 1, 'Number of constraints': 28, 'Number of variables': 37, 'Number of nonzeros': 70, 'Sense': 'minimize'}], 'Solver': [{'Status': 'ok', 'Termination condition': 'optimal', 'Statistics': {'Branch and bound': {'Number of bounded subproblems': '1', 'Number of created subproblems': '1'}}, 'Error rc': 0, 'Time': 0.07364201545715332}], 'Solution': [OrderedDict([('number of solutions', 0), ('number of solutions displayed', 0)])]}"
      ]
     },
     "execution_count": 20,
     "metadata": {},
     "output_type": "execute_result"
    }
   ],
   "source": [
    "SolverFactory('glpk').solve(modelIM)"
   ]
  },
  {
   "cell_type": "code",
   "execution_count": 21,
   "id": "3f53bccb-4d89-4d75-b693-e037e054b6b6",
   "metadata": {},
   "outputs": [
    {
     "name": "stdout",
     "output_type": "stream",
     "text": [
      "Model Inventory Management- Trucks\n",
      "\n",
      "  Variables:\n",
      "    Light : Size=1, Index=None\n",
      "        Key  : Lower : Value : Upper : Fixed : Stale : Domain\n",
      "        None :     0 :   5.0 :  None : False : False : NonNegativeIntegers\n",
      "    Heavy : Size=1, Index=None\n",
      "        Key  : Lower : Value : Upper : Fixed : Stale : Domain\n",
      "        None :     0 :   4.0 :  None : False : False : NonNegativeIntegers\n",
      "    LightsUsed : Size=7, Index={D-4, D-1, D-3, D-5, D-7, D-6, D-2}\n",
      "        Key : Lower : Value : Upper : Fixed : Stale : Domain\n",
      "        D-1 :     0 :   5.0 :  None : False : False : NonNegativeIntegers\n",
      "        D-2 :     0 :   3.0 :  None : False : False : NonNegativeIntegers\n",
      "        D-3 :     0 :   5.0 :  None : False : False : NonNegativeIntegers\n",
      "        D-4 :     0 :   5.0 :  None : False : False : NonNegativeIntegers\n",
      "        D-5 :     0 :   2.0 :  None : False : False : NonNegativeIntegers\n",
      "        D-6 :     0 :   4.0 :  None : False : False : NonNegativeIntegers\n",
      "        D-7 :     0 :   1.0 :  None : False : False : NonNegativeIntegers\n",
      "    LightsRented : Size=7, Index={D-4, D-1, D-3, D-5, D-7, D-6, D-2}\n",
      "        Key : Lower : Value : Upper : Fixed : Stale : Domain\n",
      "        D-1 :     0 :   0.0 :  None : False : False : NonNegativeIntegers\n",
      "        D-2 :     0 :   0.0 :  None : False : False : NonNegativeIntegers\n",
      "        D-3 :     0 :   0.0 :  None : False : False : NonNegativeIntegers\n",
      "        D-4 :     0 :   2.0 :  None : False : False : NonNegativeIntegers\n",
      "        D-5 :     0 :   0.0 :  None : False : False : NonNegativeIntegers\n",
      "        D-6 :     0 :   0.0 :  None : False : False : NonNegativeIntegers\n",
      "        D-7 :     0 :   0.0 :  None : False : False : NonNegativeIntegers\n",
      "    HeavyForLight : Size=7, Index={D-4, D-1, D-3, D-5, D-7, D-6, D-2}\n",
      "        Key : Lower : Value : Upper : Fixed : Stale : Domain\n",
      "        D-1 :     0 :   1.0 :  None : False : False : NonNegativeIntegers\n",
      "        D-2 :     0 :   0.0 :  None : False : False : NonNegativeIntegers\n",
      "        D-3 :     0 :   0.0 :  None : False : False : NonNegativeIntegers\n",
      "        D-4 :     0 :   1.0 :  None : False : False : NonNegativeIntegers\n",
      "        D-5 :     0 :   0.0 :  None : False : False : NonNegativeIntegers\n",
      "        D-6 :     0 :   0.0 :  None : False : False : NonNegativeIntegers\n",
      "        D-7 :     0 :   0.0 :  None : False : False : NonNegativeIntegers\n",
      "    HeavyUsed : Size=7, Index={D-4, D-1, D-3, D-5, D-7, D-6, D-2}\n",
      "        Key : Lower : Value : Upper : Fixed : Stale : Domain\n",
      "        D-1 :     0 :   0.0 :  None : False : False : NonNegativeIntegers\n",
      "        D-2 :     0 :   2.0 :  None : False : False : NonNegativeIntegers\n",
      "        D-3 :     0 :   4.0 :  None : False : False : NonNegativeIntegers\n",
      "        D-4 :     0 :   3.0 :  None : False : False : NonNegativeIntegers\n",
      "        D-5 :     0 :   1.0 :  None : False : False : NonNegativeIntegers\n",
      "        D-6 :     0 :   4.0 :  None : False : False : NonNegativeIntegers\n",
      "        D-7 :     0 :   2.0 :  None : False : False : NonNegativeIntegers\n",
      "    HeavyRented : Size=7, Index={D-4, D-1, D-3, D-5, D-7, D-6, D-2}\n",
      "        Key : Lower : Value : Upper : Fixed : Stale : Domain\n",
      "        D-1 :     0 :   0.0 :  None : False : False : NonNegativeIntegers\n",
      "        D-2 :     0 :   0.0 :  None : False : False : NonNegativeIntegers\n",
      "        D-3 :     0 :   0.0 :  None : False : False : NonNegativeIntegers\n",
      "        D-4 :     0 :   0.0 :  None : False : False : NonNegativeIntegers\n",
      "        D-5 :     0 :   0.0 :  None : False : False : NonNegativeIntegers\n",
      "        D-6 :     0 :   0.0 :  None : False : False : NonNegativeIntegers\n",
      "        D-7 :     0 :   0.0 :  None : False : False : NonNegativeIntegers\n",
      "\n",
      "  Objectives:\n",
      "    Cost : Size=1, Index=None, Active=True\n",
      "        Key  : Active : Value\n",
      "        None :   True : 4674.0\n",
      "\n",
      "  Constraints:\n",
      "    cons : Size=28\n",
      "        Key : Lower : Body : Upper\n",
      "          1 :   0.0 :  0.0 :  None\n",
      "          2 :   2.0 :  2.0 :  None\n",
      "          3 :   4.0 :  4.0 :  None\n",
      "          4 :   3.0 :  3.0 :  None\n",
      "          5 :   1.0 :  1.0 :  None\n",
      "          6 :   4.0 :  4.0 :  None\n",
      "          7 :   2.0 :  2.0 :  None\n",
      "          8 :  None : -3.0 :   0.0\n",
      "          9 :  None : -2.0 :   0.0\n",
      "         10 :  None :  0.0 :   0.0\n",
      "         11 :  None :  0.0 :   0.0\n",
      "         12 :  None : -3.0 :   0.0\n",
      "         13 :  None :  0.0 :   0.0\n",
      "         14 :  None : -2.0 :   0.0\n",
      "         15 :   6.0 :  6.0 :  None\n",
      "         16 :   3.0 :  3.0 :  None\n",
      "         17 :   5.0 :  5.0 :  None\n",
      "         18 :   8.0 :  8.0 :  None\n",
      "         19 :   2.0 :  2.0 :  None\n",
      "         20 :   4.0 :  4.0 :  None\n",
      "         21 :   1.0 :  1.0 :  None\n",
      "         22 :  None :  0.0 :   0.0\n",
      "         23 :  None : -2.0 :   0.0\n",
      "         24 :  None :  0.0 :   0.0\n",
      "         25 :  None :  0.0 :   0.0\n",
      "         26 :  None : -3.0 :   0.0\n",
      "         27 :  None : -1.0 :   0.0\n",
      "         28 :  None : -4.0 :   0.0\n"
     ]
    }
   ],
   "source": [
    "modelIM.display()"
   ]
  },
  {
   "cell_type": "markdown",
   "id": "378e22f7-e74c-4fb5-9328-0dd847b35c21",
   "metadata": {},
   "source": [
    "### Question 21"
   ]
  },
  {
   "cell_type": "markdown",
   "id": "4d95e59b-5e8b-4343-9171-6a12746b6028",
   "metadata": {},
   "source": [
    "Inventory Depletion"
   ]
  },
  {
   "cell_type": "code",
   "execution_count": 43,
   "id": "afbec37e-8d7d-4063-8ee3-bb46518730d3",
   "metadata": {},
   "outputs": [],
   "source": [
    "ProfitID = pd.read_excel('INFO4590P3PyomoData.xlsx',sheet_name=\"IDProfit\",index_col=0)  \n",
    "DataID = pd.read_excel('INFO4590P3PyomoData.xlsx',sheet_name=\"IDData\",index_col=0)  \n"
   ]
  },
  {
   "cell_type": "code",
   "execution_count": 44,
   "id": "6142bb0d-69e6-4ce5-b64c-8aec17de08bb",
   "metadata": {},
   "outputs": [
    {
     "data": {
      "text/html": [
       "<div>\n",
       "<style scoped>\n",
       "    .dataframe tbody tr th:only-of-type {\n",
       "        vertical-align: middle;\n",
       "    }\n",
       "\n",
       "    .dataframe tbody tr th {\n",
       "        vertical-align: top;\n",
       "    }\n",
       "\n",
       "    .dataframe thead th {\n",
       "        text-align: right;\n",
       "    }\n",
       "</style>\n",
       "<table border=\"1\" class=\"dataframe\">\n",
       "  <thead>\n",
       "    <tr style=\"text-align: right;\">\n",
       "      <th></th>\n",
       "      <th>Weekender</th>\n",
       "      <th>Expedition</th>\n",
       "    </tr>\n",
       "  </thead>\n",
       "  <tbody>\n",
       "    <tr>\n",
       "      <th>SPrice</th>\n",
       "      <td>3.8</td>\n",
       "      <td>7.0</td>\n",
       "    </tr>\n",
       "    <tr>\n",
       "      <th>HSCost</th>\n",
       "      <td>1.5</td>\n",
       "      <td>1.5</td>\n",
       "    </tr>\n",
       "  </tbody>\n",
       "</table>\n",
       "</div>"
      ],
      "text/plain": [
       "        Weekender  Expedition\n",
       "SPrice        3.8         7.0\n",
       "HSCost        1.5         1.5"
      ]
     },
     "execution_count": 44,
     "metadata": {},
     "output_type": "execute_result"
    }
   ],
   "source": [
    "ProfitID"
   ]
  },
  {
   "cell_type": "code",
   "execution_count": 45,
   "id": "0893a855-2b5c-4c02-96c2-316a57394cb7",
   "metadata": {},
   "outputs": [
    {
     "data": {
      "text/html": [
       "<div>\n",
       "<style scoped>\n",
       "    .dataframe tbody tr th:only-of-type {\n",
       "        vertical-align: middle;\n",
       "    }\n",
       "\n",
       "    .dataframe tbody tr th {\n",
       "        vertical-align: top;\n",
       "    }\n",
       "\n",
       "    .dataframe thead th {\n",
       "        text-align: right;\n",
       "    }\n",
       "</style>\n",
       "<table border=\"1\" class=\"dataframe\">\n",
       "  <thead>\n",
       "    <tr style=\"text-align: right;\">\n",
       "      <th></th>\n",
       "      <th>Weekender</th>\n",
       "      <th>Expedition</th>\n",
       "      <th>Total Inventory (in ounces)</th>\n",
       "    </tr>\n",
       "  </thead>\n",
       "  <tbody>\n",
       "    <tr>\n",
       "      <th>Dried Fruit</th>\n",
       "      <td>3</td>\n",
       "      <td>5</td>\n",
       "      <td>10000</td>\n",
       "    </tr>\n",
       "    <tr>\n",
       "      <th>Dried Meat</th>\n",
       "      <td>7</td>\n",
       "      <td>18</td>\n",
       "      <td>25000</td>\n",
       "    </tr>\n",
       "    <tr>\n",
       "      <th>Dried Vegetables</th>\n",
       "      <td>2</td>\n",
       "      <td>5</td>\n",
       "      <td>12000</td>\n",
       "    </tr>\n",
       "  </tbody>\n",
       "</table>\n",
       "</div>"
      ],
      "text/plain": [
       "                  Weekender  Expedition  Total Inventory (in ounces)\n",
       "Dried Fruit               3           5                        10000\n",
       "Dried Meat                7          18                        25000\n",
       "Dried Vegetables          2           5                        12000"
      ]
     },
     "execution_count": 45,
     "metadata": {},
     "output_type": "execute_result"
    }
   ],
   "source": [
    "DataID"
   ]
  },
  {
   "cell_type": "code",
   "execution_count": 46,
   "id": "1cebf068-47b4-4173-9e81-d34e6b715f48",
   "metadata": {},
   "outputs": [],
   "source": [
    "modelID = ConcreteModel (\"Inventory Depletion\")\n",
    "\n",
    "Product = ProfitID.keys()\n",
    "\n",
    "#DVs\n",
    "\n",
    "modelID.x = Var(Product,domain = NonNegativeIntegers)\n",
    "\n",
    "#Objective Function\n",
    "\n",
    "modelID.Profit = Objective(expr = sum([modelID.x[p]*ProfitID.loc['SPrice',p] for p in Product])-\n",
    "                           sum([modelID.x[p]*ProfitID.loc['HSCost',p] for p in Product]), sense = maximize)"
   ]
  },
  {
   "cell_type": "code",
   "execution_count": 47,
   "id": "507d5964-de1c-4023-90d3-858c62e5fb7e",
   "metadata": {},
   "outputs": [],
   "source": [
    "Ingredient = DataID.index\n",
    "\n",
    "modelID.cons = ConstraintList()\n",
    "\n",
    "for i in Ingredient:\n",
    "    modelID.cons.add(sum([modelID.x[p]*DataID.loc[i,p] for p in Product]) <= DataID.loc[i,'Total Inventory (in ounces)'])"
   ]
  },
  {
   "cell_type": "code",
   "execution_count": 48,
   "id": "e718986b-40b2-4da8-a26f-50116b2684c0",
   "metadata": {},
   "outputs": [
    {
     "data": {
      "text/plain": [
       "{'Problem': [{'Name': 'unknown', 'Lower bound': 8105.0, 'Upper bound': 8105.0, 'Number of objectives': 1, 'Number of constraints': 3, 'Number of variables': 2, 'Number of nonzeros': 6, 'Sense': 'maximize'}], 'Solver': [{'Status': 'ok', 'Termination condition': 'optimal', 'Statistics': {'Branch and bound': {'Number of bounded subproblems': '1', 'Number of created subproblems': '1'}}, 'Error rc': 0, 'Time': 0.06512761116027832}], 'Solution': [OrderedDict([('number of solutions', 0), ('number of solutions displayed', 0)])]}"
      ]
     },
     "execution_count": 48,
     "metadata": {},
     "output_type": "execute_result"
    }
   ],
   "source": [
    "SolverFactory('glpk').solve(modelID)"
   ]
  },
  {
   "cell_type": "code",
   "execution_count": 49,
   "id": "1d406141-81c7-4f8c-b7fc-08ed673cbe0a",
   "metadata": {},
   "outputs": [
    {
     "name": "stdout",
     "output_type": "stream",
     "text": [
      "Model Inventory Depletion\n",
      "\n",
      "  Variables:\n",
      "    x : Size=2, Index={Expedition, Weekender}\n",
      "        Key        : Lower : Value  : Upper : Fixed : Stale : Domain\n",
      "        Expedition :     0 :  263.0 :  None : False : False : NonNegativeIntegers\n",
      "         Weekender :     0 : 2895.0 :  None : False : False : NonNegativeIntegers\n",
      "\n",
      "  Objectives:\n",
      "    Profit : Size=1, Index=None, Active=True\n",
      "        Key  : Active : Value\n",
      "        None :   True : 8105.0\n",
      "\n",
      "  Constraints:\n",
      "    cons : Size=3\n",
      "        Key : Lower : Body    : Upper\n",
      "          1 :  None : 10000.0 : 10000.0\n",
      "          2 :  None : 24999.0 : 25000.0\n",
      "          3 :  None :  7105.0 : 12000.0\n"
     ]
    }
   ],
   "source": [
    "modelID.display()"
   ]
  },
  {
   "cell_type": "markdown",
   "id": "bba43665-fdd3-4557-a8da-72bfbd6e4ca4",
   "metadata": {},
   "source": [
    "### Question 22"
   ]
  },
  {
   "cell_type": "markdown",
   "id": "2bee2675-025d-4536-989a-bacf29455476",
   "metadata": {},
   "source": [
    "Son of Employee Scheduling"
   ]
  },
  {
   "cell_type": "code",
   "execution_count": 88,
   "id": "1a97993e-d951-41e7-b595-256058778be4",
   "metadata": {},
   "outputs": [],
   "source": [
    "CostES = pd.read_excel('INFO4590P3PyomoData.xlsx',sheet_name=\"ESCost\",index_col=0)  \n",
    "DataES = pd.read_excel('INFO4590P3PyomoData.xlsx',sheet_name=\"ESData\",index_col=0)  \n"
   ]
  },
  {
   "cell_type": "code",
   "execution_count": 89,
   "id": "cd9a930a-9d87-40ae-b499-3ca4b8303e18",
   "metadata": {},
   "outputs": [
    {
     "data": {
      "text/html": [
       "<div>\n",
       "<style scoped>\n",
       "    .dataframe tbody tr th:only-of-type {\n",
       "        vertical-align: middle;\n",
       "    }\n",
       "\n",
       "    .dataframe tbody tr th {\n",
       "        vertical-align: top;\n",
       "    }\n",
       "\n",
       "    .dataframe thead th {\n",
       "        text-align: right;\n",
       "    }\n",
       "</style>\n",
       "<table border=\"1\" class=\"dataframe\">\n",
       "  <thead>\n",
       "    <tr style=\"text-align: right;\">\n",
       "      <th></th>\n",
       "      <th>S-7</th>\n",
       "      <th>S-8</th>\n",
       "      <th>S-9</th>\n",
       "      <th>S-10</th>\n",
       "      <th>S-11</th>\n",
       "    </tr>\n",
       "  </thead>\n",
       "  <tbody>\n",
       "    <tr>\n",
       "      <th>EngConsultant</th>\n",
       "      <td>1.0</td>\n",
       "      <td>1.0</td>\n",
       "      <td>1.0</td>\n",
       "      <td>1.0</td>\n",
       "      <td>1.0</td>\n",
       "    </tr>\n",
       "    <tr>\n",
       "      <th>BilConsultant</th>\n",
       "      <td>1.1</td>\n",
       "      <td>1.1</td>\n",
       "      <td>1.1</td>\n",
       "      <td>1.1</td>\n",
       "      <td>1.1</td>\n",
       "    </tr>\n",
       "  </tbody>\n",
       "</table>\n",
       "</div>"
      ],
      "text/plain": [
       "               S-7  S-8  S-9  S-10  S-11\n",
       "EngConsultant  1.0  1.0  1.0   1.0   1.0\n",
       "BilConsultant  1.1  1.1  1.1   1.1   1.1"
      ]
     },
     "execution_count": 89,
     "metadata": {},
     "output_type": "execute_result"
    }
   ],
   "source": [
    "CostES"
   ]
  },
  {
   "cell_type": "code",
   "execution_count": 90,
   "id": "240a882d-2009-4b4f-baac-7a58f99330dc",
   "metadata": {},
   "outputs": [
    {
     "data": {
      "text/html": [
       "<div>\n",
       "<style scoped>\n",
       "    .dataframe tbody tr th:only-of-type {\n",
       "        vertical-align: middle;\n",
       "    }\n",
       "\n",
       "    .dataframe tbody tr th {\n",
       "        vertical-align: top;\n",
       "    }\n",
       "\n",
       "    .dataframe thead th {\n",
       "        text-align: right;\n",
       "    }\n",
       "</style>\n",
       "<table border=\"1\" class=\"dataframe\">\n",
       "  <thead>\n",
       "    <tr style=\"text-align: right;\">\n",
       "      <th></th>\n",
       "      <th>S-7</th>\n",
       "      <th>S-8</th>\n",
       "      <th>S-9</th>\n",
       "      <th>S-10</th>\n",
       "      <th>S-11</th>\n",
       "      <th>Required Spanish</th>\n",
       "      <th>Required Total Consultants</th>\n",
       "    </tr>\n",
       "  </thead>\n",
       "  <tbody>\n",
       "    <tr>\n",
       "      <th>H-7</th>\n",
       "      <td>1</td>\n",
       "      <td>0</td>\n",
       "      <td>0</td>\n",
       "      <td>0</td>\n",
       "      <td>0</td>\n",
       "      <td>5</td>\n",
       "      <td>9</td>\n",
       "    </tr>\n",
       "    <tr>\n",
       "      <th>H-8</th>\n",
       "      <td>1</td>\n",
       "      <td>1</td>\n",
       "      <td>0</td>\n",
       "      <td>0</td>\n",
       "      <td>0</td>\n",
       "      <td>5</td>\n",
       "      <td>9</td>\n",
       "    </tr>\n",
       "    <tr>\n",
       "      <th>H-9</th>\n",
       "      <td>1</td>\n",
       "      <td>1</td>\n",
       "      <td>1</td>\n",
       "      <td>0</td>\n",
       "      <td>0</td>\n",
       "      <td>4</td>\n",
       "      <td>9</td>\n",
       "    </tr>\n",
       "    <tr>\n",
       "      <th>H-10</th>\n",
       "      <td>1</td>\n",
       "      <td>1</td>\n",
       "      <td>1</td>\n",
       "      <td>1</td>\n",
       "      <td>0</td>\n",
       "      <td>3</td>\n",
       "      <td>9</td>\n",
       "    </tr>\n",
       "    <tr>\n",
       "      <th>H-11</th>\n",
       "      <td>0</td>\n",
       "      <td>1</td>\n",
       "      <td>1</td>\n",
       "      <td>1</td>\n",
       "      <td>1</td>\n",
       "      <td>2</td>\n",
       "      <td>8</td>\n",
       "    </tr>\n",
       "    <tr>\n",
       "      <th>H-12</th>\n",
       "      <td>1</td>\n",
       "      <td>0</td>\n",
       "      <td>1</td>\n",
       "      <td>1</td>\n",
       "      <td>1</td>\n",
       "      <td>3</td>\n",
       "      <td>11</td>\n",
       "    </tr>\n",
       "    <tr>\n",
       "      <th>H-13</th>\n",
       "      <td>1</td>\n",
       "      <td>1</td>\n",
       "      <td>0</td>\n",
       "      <td>1</td>\n",
       "      <td>1</td>\n",
       "      <td>4</td>\n",
       "      <td>9</td>\n",
       "    </tr>\n",
       "    <tr>\n",
       "      <th>H-14</th>\n",
       "      <td>1</td>\n",
       "      <td>1</td>\n",
       "      <td>1</td>\n",
       "      <td>0</td>\n",
       "      <td>1</td>\n",
       "      <td>3</td>\n",
       "      <td>7</td>\n",
       "    </tr>\n",
       "    <tr>\n",
       "      <th>H-15</th>\n",
       "      <td>1</td>\n",
       "      <td>1</td>\n",
       "      <td>1</td>\n",
       "      <td>1</td>\n",
       "      <td>0</td>\n",
       "      <td>2</td>\n",
       "      <td>6</td>\n",
       "    </tr>\n",
       "    <tr>\n",
       "      <th>H-16</th>\n",
       "      <td>0</td>\n",
       "      <td>1</td>\n",
       "      <td>1</td>\n",
       "      <td>1</td>\n",
       "      <td>1</td>\n",
       "      <td>1</td>\n",
       "      <td>6</td>\n",
       "    </tr>\n",
       "    <tr>\n",
       "      <th>H-17</th>\n",
       "      <td>0</td>\n",
       "      <td>0</td>\n",
       "      <td>1</td>\n",
       "      <td>1</td>\n",
       "      <td>1</td>\n",
       "      <td>3</td>\n",
       "      <td>8</td>\n",
       "    </tr>\n",
       "    <tr>\n",
       "      <th>H-18</th>\n",
       "      <td>0</td>\n",
       "      <td>0</td>\n",
       "      <td>0</td>\n",
       "      <td>1</td>\n",
       "      <td>1</td>\n",
       "      <td>4</td>\n",
       "      <td>9</td>\n",
       "    </tr>\n",
       "    <tr>\n",
       "      <th>H-19</th>\n",
       "      <td>0</td>\n",
       "      <td>0</td>\n",
       "      <td>0</td>\n",
       "      <td>0</td>\n",
       "      <td>1</td>\n",
       "      <td>4</td>\n",
       "      <td>7</td>\n",
       "    </tr>\n",
       "  </tbody>\n",
       "</table>\n",
       "</div>"
      ],
      "text/plain": [
       "      S-7  S-8  S-9  S-10  S-11  Required Spanish  Required Total Consultants\n",
       "H-7     1    0    0     0     0                 5                           9\n",
       "H-8     1    1    0     0     0                 5                           9\n",
       "H-9     1    1    1     0     0                 4                           9\n",
       "H-10    1    1    1     1     0                 3                           9\n",
       "H-11    0    1    1     1     1                 2                           8\n",
       "H-12    1    0    1     1     1                 3                          11\n",
       "H-13    1    1    0     1     1                 4                           9\n",
       "H-14    1    1    1     0     1                 3                           7\n",
       "H-15    1    1    1     1     0                 2                           6\n",
       "H-16    0    1    1     1     1                 1                           6\n",
       "H-17    0    0    1     1     1                 3                           8\n",
       "H-18    0    0    0     1     1                 4                           9\n",
       "H-19    0    0    0     0     1                 4                           7"
      ]
     },
     "execution_count": 90,
     "metadata": {},
     "output_type": "execute_result"
    }
   ],
   "source": [
    "DataES"
   ]
  },
  {
   "cell_type": "code",
   "execution_count": 93,
   "id": "e36a2e10-b3eb-472e-bf48-982cad5e6ff6",
   "metadata": {},
   "outputs": [
    {
     "name": "stderr",
     "output_type": "stream",
     "text": [
      "C:\\Users\\amara\\AppData\\Local\\Temp\\ipykernel_9984\\2998292125.py:11: DeprecationWarning: Calling np.sum(generator) is deprecated, and in the future will give a different result. Use np.sum(np.fromiter(generator)) or the python sum builtin instead.\n",
      "  modelES.Cost = Objective(expr = sum(sum([modelES.x[c,s]*CostES.loc[c,s] for c in Con]) for s in S), sense = minimize)\n"
     ]
    }
   ],
   "source": [
    "modelES = ConcreteModel (\"Employee Scheduling\")\n",
    "\n",
    "S = CostES.keys()\n",
    "Con = CostES.index\n",
    "\n",
    "#DVs\n",
    "\n",
    "modelES.x = Var(Con,S,domain = NonNegativeIntegers)\n",
    "\n",
    "#Objective Function\n",
    "modelES.Cost = Objective(expr = sum(sum([modelES.x[c,s]*CostES.loc[c,s] for c in Con]) for s in S), sense = minimize)"
   ]
  },
  {
   "cell_type": "code",
   "execution_count": 94,
   "id": "1544af0a-e0ea-47d3-845f-a855f6df6436",
   "metadata": {},
   "outputs": [
    {
     "name": "stderr",
     "output_type": "stream",
     "text": [
      "C:\\Users\\amara\\AppData\\Local\\Temp\\ipykernel_9984\\2906129507.py:9: DeprecationWarning: Calling np.sum(generator) is deprecated, and in the future will give a different result. Use np.sum(np.fromiter(generator)) or the python sum builtin instead.\n",
      "  modelES.cons.add(sum([sum(modelES.x[c,s] for c in Con)*DataES.loc[h,s] for s in S]) >= DataES.loc[h,'Required Total Consultants'])\n"
     ]
    }
   ],
   "source": [
    "Hours = DataES.index \n",
    "\n",
    "modelES.cons = ConstraintList()\n",
    "\n",
    "for h in Hours:\n",
    "    modelES.cons.add(sum([modelES.x['BilConsultant',s]*DataES.loc[h,s] for s in S])>= DataES.loc[h,'Required Spanish'])\n",
    "\n",
    "for h in Hours:\n",
    "    modelES.cons.add(sum([sum(modelES.x[c,s] for c in Con)*DataES.loc[h,s] for s in S]) >= DataES.loc[h,'Required Total Consultants'])"
   ]
  },
  {
   "cell_type": "code",
   "execution_count": 95,
   "id": "87e223f4-22e5-447b-a930-c8dc339d724b",
   "metadata": {},
   "outputs": [
    {
     "data": {
      "text/plain": [
       "{'Problem': [{'Name': 'unknown', 'Lower bound': 18.9, 'Upper bound': 18.9, 'Number of objectives': 1, 'Number of constraints': 26, 'Number of variables': 10, 'Number of nonzeros': 120, 'Sense': 'minimize'}], 'Solver': [{'Status': 'ok', 'Termination condition': 'optimal', 'Statistics': {'Branch and bound': {'Number of bounded subproblems': '1', 'Number of created subproblems': '1'}}, 'Error rc': 0, 'Time': 0.08024191856384277}], 'Solution': [OrderedDict([('number of solutions', 0), ('number of solutions displayed', 0)])]}"
      ]
     },
     "execution_count": 95,
     "metadata": {},
     "output_type": "execute_result"
    }
   ],
   "source": [
    "SolverFactory('glpk').solve(modelES)"
   ]
  },
  {
   "cell_type": "code",
   "execution_count": 96,
   "id": "7863df8e-1454-451e-8ffe-a97ae721c7c9",
   "metadata": {},
   "outputs": [
    {
     "name": "stdout",
     "output_type": "stream",
     "text": [
      "Model Employee Scheduling\n",
      "\n",
      "  Variables:\n",
      "    x : Size=10, Index={EngConsultant, BilConsultant}*{S-7, S-11, S-8, S-9, S-10}\n",
      "        Key                       : Lower : Value : Upper : Fixed : Stale : Domain\n",
      "        ('BilConsultant', 'S-10') :     0 :   0.0 :  None : False : False : NonNegativeIntegers\n",
      "        ('BilConsultant', 'S-11') :     0 :   4.0 :  None : False : False : NonNegativeIntegers\n",
      "         ('BilConsultant', 'S-7') :     0 :   5.0 :  None : False : False : NonNegativeIntegers\n",
      "         ('BilConsultant', 'S-8') :     0 :   0.0 :  None : False : False : NonNegativeIntegers\n",
      "         ('BilConsultant', 'S-9') :     0 :   0.0 :  None : False : False : NonNegativeIntegers\n",
      "        ('EngConsultant', 'S-10') :     0 :   2.0 :  None : False : False : NonNegativeIntegers\n",
      "        ('EngConsultant', 'S-11') :     0 :   3.0 :  None : False : False : NonNegativeIntegers\n",
      "         ('EngConsultant', 'S-7') :     0 :   4.0 :  None : False : False : NonNegativeIntegers\n",
      "         ('EngConsultant', 'S-8') :     0 :   0.0 :  None : False : False : NonNegativeIntegers\n",
      "         ('EngConsultant', 'S-9') :     0 :   0.0 :  None : False : False : NonNegativeIntegers\n",
      "\n",
      "  Objectives:\n",
      "    Cost : Size=1, Index=None, Active=True\n",
      "        Key  : Active : Value\n",
      "        None :   True :  18.9\n",
      "\n",
      "  Constraints:\n",
      "    cons : Size=26\n",
      "        Key : Lower : Body : Upper\n",
      "          1 :   5.0 :  5.0 :  None\n",
      "          2 :   5.0 :  5.0 :  None\n",
      "          3 :   4.0 :  5.0 :  None\n",
      "          4 :   3.0 :  5.0 :  None\n",
      "          5 :   2.0 :  4.0 :  None\n",
      "          6 :   3.0 :  9.0 :  None\n",
      "          7 :   4.0 :  9.0 :  None\n",
      "          8 :   3.0 :  9.0 :  None\n",
      "          9 :   2.0 :  5.0 :  None\n",
      "         10 :   1.0 :  4.0 :  None\n",
      "         11 :   3.0 :  4.0 :  None\n",
      "         12 :   4.0 :  4.0 :  None\n",
      "         13 :   4.0 :  4.0 :  None\n",
      "         14 :   9.0 :  9.0 :  None\n",
      "         15 :   9.0 :  9.0 :  None\n",
      "         16 :   9.0 :  9.0 :  None\n",
      "         17 :   9.0 : 11.0 :  None\n",
      "         18 :   8.0 :  9.0 :  None\n",
      "         19 :  11.0 : 18.0 :  None\n",
      "         20 :   9.0 : 18.0 :  None\n",
      "         21 :   7.0 : 16.0 :  None\n",
      "         22 :   6.0 : 11.0 :  None\n",
      "         23 :   6.0 :  9.0 :  None\n",
      "         24 :   8.0 :  9.0 :  None\n",
      "         25 :   9.0 :  9.0 :  None\n",
      "         26 :   7.0 :  7.0 :  None\n"
     ]
    }
   ],
   "source": [
    "modelES.display()"
   ]
  },
  {
   "cell_type": "markdown",
   "id": "22bfb76b-356c-4d59-b86f-22daab608e3d",
   "metadata": {},
   "source": [
    "### Question 23"
   ]
  },
  {
   "cell_type": "markdown",
   "id": "21254544-cab7-4f89-b537-d1d01476d81a",
   "metadata": {},
   "source": [
    "Multiperiod Planning"
   ]
  },
  {
   "cell_type": "code",
   "execution_count": 107,
   "id": "3ac1d6ea-0b9e-4e3f-880a-1095eaa0f260",
   "metadata": {},
   "outputs": [],
   "source": [
    "ProfitMPP = pd.read_excel('INFO4590P3PyomoData.xlsx',sheet_name=\"MPPProfit\",index_col=0)  \n"
   ]
  },
  {
   "cell_type": "code",
   "execution_count": 108,
   "id": "2749752f-0c1e-4532-89b1-02efb558f6c3",
   "metadata": {},
   "outputs": [
    {
     "data": {
      "text/html": [
       "<div>\n",
       "<style scoped>\n",
       "    .dataframe tbody tr th:only-of-type {\n",
       "        vertical-align: middle;\n",
       "    }\n",
       "\n",
       "    .dataframe tbody tr th {\n",
       "        vertical-align: top;\n",
       "    }\n",
       "\n",
       "    .dataframe thead th {\n",
       "        text-align: right;\n",
       "    }\n",
       "</style>\n",
       "<table border=\"1\" class=\"dataframe\">\n",
       "  <thead>\n",
       "    <tr style=\"text-align: right;\">\n",
       "      <th></th>\n",
       "      <th>Revenue</th>\n",
       "      <th>Cost</th>\n",
       "      <th>Storage cost</th>\n",
       "    </tr>\n",
       "  </thead>\n",
       "  <tbody>\n",
       "    <tr>\n",
       "      <th>Chalet PM1</th>\n",
       "      <td>80</td>\n",
       "      <td>20</td>\n",
       "      <td>0</td>\n",
       "    </tr>\n",
       "    <tr>\n",
       "      <th>Chalet WM1</th>\n",
       "      <td>80</td>\n",
       "      <td>35</td>\n",
       "      <td>0</td>\n",
       "    </tr>\n",
       "    <tr>\n",
       "      <th>Chalet AM1</th>\n",
       "      <td>80</td>\n",
       "      <td>50</td>\n",
       "      <td>0</td>\n",
       "    </tr>\n",
       "    <tr>\n",
       "      <th>Hovel PM1</th>\n",
       "      <td>40</td>\n",
       "      <td>20</td>\n",
       "      <td>0</td>\n",
       "    </tr>\n",
       "    <tr>\n",
       "      <th>Hovel WM1</th>\n",
       "      <td>40</td>\n",
       "      <td>35</td>\n",
       "      <td>0</td>\n",
       "    </tr>\n",
       "    <tr>\n",
       "      <th>Hovel AM1</th>\n",
       "      <td>40</td>\n",
       "      <td>50</td>\n",
       "      <td>0</td>\n",
       "    </tr>\n",
       "    <tr>\n",
       "      <th>Chalet PM12</th>\n",
       "      <td>81</td>\n",
       "      <td>20</td>\n",
       "      <td>2</td>\n",
       "    </tr>\n",
       "    <tr>\n",
       "      <th>Chalet WM12</th>\n",
       "      <td>81</td>\n",
       "      <td>35</td>\n",
       "      <td>2</td>\n",
       "    </tr>\n",
       "    <tr>\n",
       "      <th>Chalet AM12</th>\n",
       "      <td>81</td>\n",
       "      <td>50</td>\n",
       "      <td>2</td>\n",
       "    </tr>\n",
       "    <tr>\n",
       "      <th>Hovel PM12</th>\n",
       "      <td>39</td>\n",
       "      <td>20</td>\n",
       "      <td>2</td>\n",
       "    </tr>\n",
       "    <tr>\n",
       "      <th>Hovel WM12</th>\n",
       "      <td>39</td>\n",
       "      <td>35</td>\n",
       "      <td>2</td>\n",
       "    </tr>\n",
       "    <tr>\n",
       "      <th>Hovel AM12</th>\n",
       "      <td>39</td>\n",
       "      <td>50</td>\n",
       "      <td>2</td>\n",
       "    </tr>\n",
       "    <tr>\n",
       "      <th>Chalet PM2</th>\n",
       "      <td>81</td>\n",
       "      <td>19</td>\n",
       "      <td>0</td>\n",
       "    </tr>\n",
       "    <tr>\n",
       "      <th>Chalet WM2</th>\n",
       "      <td>81</td>\n",
       "      <td>36</td>\n",
       "      <td>0</td>\n",
       "    </tr>\n",
       "    <tr>\n",
       "      <th>Chalet AM2</th>\n",
       "      <td>81</td>\n",
       "      <td>52</td>\n",
       "      <td>0</td>\n",
       "    </tr>\n",
       "    <tr>\n",
       "      <th>Hovel PM2</th>\n",
       "      <td>39</td>\n",
       "      <td>19</td>\n",
       "      <td>0</td>\n",
       "    </tr>\n",
       "    <tr>\n",
       "      <th>Hovel WM2</th>\n",
       "      <td>39</td>\n",
       "      <td>36</td>\n",
       "      <td>0</td>\n",
       "    </tr>\n",
       "    <tr>\n",
       "      <th>Hovel AM2</th>\n",
       "      <td>39</td>\n",
       "      <td>52</td>\n",
       "      <td>0</td>\n",
       "    </tr>\n",
       "  </tbody>\n",
       "</table>\n",
       "</div>"
      ],
      "text/plain": [
       "             Revenue  Cost  Storage cost\n",
       "Chalet PM1        80    20             0\n",
       "Chalet WM1        80    35             0\n",
       "Chalet AM1        80    50             0\n",
       "Hovel PM1         40    20             0\n",
       "Hovel WM1         40    35             0\n",
       "Hovel AM1         40    50             0\n",
       "Chalet PM12       81    20             2\n",
       "Chalet WM12       81    35             2\n",
       "Chalet AM12       81    50             2\n",
       "Hovel PM12        39    20             2\n",
       "Hovel WM12        39    35             2\n",
       "Hovel AM12        39    50             2\n",
       "Chalet PM2        81    19             0\n",
       "Chalet WM2        81    36             0\n",
       "Chalet AM2        81    52             0\n",
       "Hovel PM2         39    19             0\n",
       "Hovel WM2         39    36             0\n",
       "Hovel AM2         39    52             0"
      ]
     },
     "execution_count": 108,
     "metadata": {},
     "output_type": "execute_result"
    }
   ],
   "source": [
    "ProfitMPP"
   ]
  },
  {
   "cell_type": "code",
   "execution_count": 118,
   "id": "6e758e00-64ef-4d53-9dce-9cd6b704ec95",
   "metadata": {},
   "outputs": [],
   "source": [
    "modelMPP = ConcreteModel (\"Multiperiod Planning\")\n",
    "\n",
    "ProdDV = ProfitMPP.index\n",
    "\n",
    "#DVs\n",
    "\n",
    "modelMPP.x = Var(ProdDV,domain = NonNegativeReals)\n",
    "\n",
    "#Objective Function\n",
    "modelMPP.Profit = Objective(expr = sum([modelMPP.x[p]*ProfitMPP.loc[p,'Revenue'] for p in ProdDV])-\n",
    "                            sum([modelMPP.x[p]*ProfitMPP.loc[p,'Cost'] for p in ProdDV])-\n",
    "                            sum([modelMPP.x[p]*ProfitMPP.loc[p,'Storage cost'] for p in ProdDV]), sense = maximize)"
   ]
  },
  {
   "cell_type": "code",
   "execution_count": 119,
   "id": "e980aedc-a5ec-4704-8ac2-685c1bb80d77",
   "metadata": {},
   "outputs": [],
   "source": [
    "\n",
    "TotalChaletM1 = modelMPP.x['Chalet PM1'] + modelMPP.x['Chalet WM1'] + modelMPP.x['Chalet AM1']\n",
    "TotalChaletM2 = modelMPP.x['Chalet PM12'] + modelMPP.x['Chalet WM12'] + modelMPP.x['Chalet AM12'] + modelMPP.x['Chalet PM2'] + modelMPP.x['Chalet WM2'] + modelMPP.x['Chalet AM2']\n",
    "\n",
    "TotalHovelM1 = modelMPP.x['Hovel PM1'] + modelMPP.x['Hovel WM1'] + modelMPP.x['Hovel AM1']\n",
    "TotalHovelM2 = modelMPP.x['Hovel PM12'] + modelMPP.x['Hovel WM12'] + modelMPP.x['Hovel AM12'] + modelMPP.x['Hovel PM2'] + modelMPP.x['Hovel WM2'] + modelMPP.x['Hovel AM2']\n"
   ]
  },
  {
   "cell_type": "code",
   "execution_count": 120,
   "id": "8f80c292-a4ad-464e-8ab3-44bad07199ce",
   "metadata": {},
   "outputs": [
    {
     "data": {
      "text/plain": [
       "<pyomo.core.base.constraint._GeneralConstraintData at 0x17d97880400>"
      ]
     },
     "execution_count": 120,
     "metadata": {},
     "output_type": "execute_result"
    }
   ],
   "source": [
    "modelMPP.cons = ConstraintList()\n",
    "\n",
    "#Product Mix Constraints\n",
    "modelMPP.cons.add(TotalChaletM1 + TotalHovelM1 <= 700)\n",
    "modelMPP.cons.add(TotalChaletM2 + TotalHovelM2 <= 700)\n",
    "\n",
    "#Demand Constraint\n",
    "modelMPP.cons.add(TotalChaletM2 >= 200)\n",
    "\n",
    "#Nuts Availability Constraints\n",
    "modelMPP.cons.add(modelMPP.x['Chalet PM2'] +  modelMPP.x['Hovel PM2'] <= 500)\n",
    "modelMPP.cons.add(modelMPP.x['Chalet AM2'] +  modelMPP.x['Hovel AM2'] <= 180)\n",
    "modelMPP.cons.add(modelMPP.x['Chalet PM1'] +  modelMPP.x['Hovel PM1'] + modelMPP.x['Chalet PM12'] +  modelMPP.x['Hovel PM12'] <= 400)\n",
    "modelMPP.cons.add(modelMPP.x['Chalet AM1'] +  modelMPP.x['Hovel AM1'] + modelMPP.x['Chalet AM12'] +  modelMPP.x['Hovel AM12']<= 200)\n",
    "\n",
    "#Peanuts Composition Constraints\n",
    "modelMPP.cons.add(modelMPP.x['Chalet PM1'] <= TotalChaletM1*0.25)\n",
    "modelMPP.cons.add(modelMPP.x['Chalet PM12'] + modelMPP.x['Chalet PM2'] <= TotalChaletM2*0.25)\n",
    "\n",
    "modelMPP.cons.add(modelMPP.x['Hovel PM1'] <= TotalHovelM1*0.6)\n",
    "modelMPP.cons.add(modelMPP.x['Hovel PM12'] + modelMPP.x['Hovel PM2'] <= TotalHovelM2*0.6)\n",
    "\n",
    "#Almonds Composition Constraints\n",
    "modelMPP.cons.add(modelMPP.x['Chalet AM1'] >= TotalChaletM1*0.4)\n",
    "modelMPP.cons.add(modelMPP.x['Chalet AM12'] + modelMPP.x['Chalet AM2'] >= TotalChaletM2*0.4)\n",
    "\n",
    "modelMPP.cons.add(modelMPP.x['Hovel AM1'] >= TotalHovelM1*0.2)\n",
    "modelMPP.cons.add(modelMPP.x['Hovel AM12'] + modelMPP.x['Hovel AM2'] >= TotalHovelM2*0.2)\n",
    "\n",
    "\n"
   ]
  },
  {
   "cell_type": "code",
   "execution_count": 121,
   "id": "b6898001-bef2-4bb9-acab-0ebb020e136f",
   "metadata": {},
   "outputs": [
    {
     "data": {
      "text/plain": [
       "{'Problem': [{'Name': 'unknown', 'Lower bound': 40682.5, 'Upper bound': 40682.5, 'Number of objectives': 1, 'Number of constraints': 15, 'Number of variables': 18, 'Number of nonzeros': 72, 'Sense': 'maximize'}], 'Solver': [{'Status': 'ok', 'Termination condition': 'optimal', 'Statistics': {'Branch and bound': {'Number of bounded subproblems': 0, 'Number of created subproblems': 0}}, 'Error rc': 0, 'Time': 0.07583951950073242}], 'Solution': [OrderedDict([('number of solutions', 0), ('number of solutions displayed', 0)])]}"
      ]
     },
     "execution_count": 121,
     "metadata": {},
     "output_type": "execute_result"
    }
   ],
   "source": [
    "SolverFactory('glpk').solve(modelMPP)"
   ]
  },
  {
   "cell_type": "code",
   "execution_count": 122,
   "id": "35c9e54e-cd14-4d21-8955-a49d4a6d9cc4",
   "metadata": {},
   "outputs": [
    {
     "name": "stdout",
     "output_type": "stream",
     "text": [
      "Model Multiperiod Planning\n",
      "\n",
      "  Variables:\n",
      "    x : Size=18, Index={Hovel AM12, Chalet AM2, Chalet PM1, Hovel WM12, Hovel WM2, Chalet WM1, Chalet AM1, Hovel AM1, Hovel PM1, Hovel PM2, Hovel WM1, Hovel PM12, Chalet WM12, Chalet PM2, Hovel AM2, Chalet AM12, Chalet PM12, Chalet WM2}\n",
      "        Key         : Lower : Value : Upper : Fixed : Stale : Domain\n",
      "         Chalet AM1 :     0 : 100.0 :  None : False : False : NonNegativeReals\n",
      "        Chalet AM12 :     0 : 100.0 :  None : False : False : NonNegativeReals\n",
      "         Chalet AM2 :     0 : 180.0 :  None : False : False : NonNegativeReals\n",
      "         Chalet PM1 :     0 :  62.5 :  None : False : False : NonNegativeReals\n",
      "        Chalet PM12 :     0 :   0.0 :  None : False : False : NonNegativeReals\n",
      "         Chalet PM2 :     0 : 175.0 :  None : False : False : NonNegativeReals\n",
      "         Chalet WM1 :     0 :  87.5 :  None : False : False : NonNegativeReals\n",
      "        Chalet WM12 :     0 :   0.0 :  None : False : False : NonNegativeReals\n",
      "         Chalet WM2 :     0 : 245.0 :  None : False : False : NonNegativeReals\n",
      "          Hovel AM1 :     0 :   0.0 :  None : False : False : NonNegativeReals\n",
      "         Hovel AM12 :     0 :   0.0 :  None : False : False : NonNegativeReals\n",
      "          Hovel AM2 :     0 :   0.0 :  None : False : False : NonNegativeReals\n",
      "          Hovel PM1 :     0 :   0.0 :  None : False : False : NonNegativeReals\n",
      "         Hovel PM12 :     0 :   0.0 :  None : False : False : NonNegativeReals\n",
      "          Hovel PM2 :     0 :   0.0 :  None : False : False : NonNegativeReals\n",
      "          Hovel WM1 :     0 :   0.0 :  None : False : False : NonNegativeReals\n",
      "         Hovel WM12 :     0 :   0.0 :  None : False : False : NonNegativeReals\n",
      "          Hovel WM2 :     0 :   0.0 :  None : False : False : NonNegativeReals\n",
      "\n",
      "  Objectives:\n",
      "    Profit : Size=1, Index=None, Active=True\n",
      "        Key  : Active : Value\n",
      "        None :   True : 40682.5\n",
      "\n",
      "  Constraints:\n",
      "    cons : Size=15\n",
      "        Key : Lower : Body  : Upper\n",
      "          1 :  None : 250.0 : 700.0\n",
      "          2 :  None : 700.0 : 700.0\n",
      "          3 : 200.0 : 700.0 :  None\n",
      "          4 :  None : 175.0 : 500.0\n",
      "          5 :  None : 180.0 : 180.0\n",
      "          6 :  None :  62.5 : 400.0\n",
      "          7 :  None : 200.0 : 200.0\n",
      "          8 :  None :   0.0 :   0.0\n",
      "          9 :  None :   0.0 :   0.0\n",
      "         10 :  None :   0.0 :   0.0\n",
      "         11 :  None :   0.0 :   0.0\n",
      "         12 :  None :   0.0 :   0.0\n",
      "         13 :  None :   0.0 :   0.0\n",
      "         14 :  None :   0.0 :   0.0\n",
      "         15 :  None :   0.0 :   0.0\n"
     ]
    }
   ],
   "source": [
    "modelMPP.display()"
   ]
  },
  {
   "cell_type": "markdown",
   "id": "2f076fe9-a19f-402e-9dd7-22f0957215bb",
   "metadata": {},
   "source": [
    "### Question 24"
   ]
  },
  {
   "cell_type": "markdown",
   "id": "87112184-b10d-46b4-8962-e8e501c8f631",
   "metadata": {},
   "source": [
    "Snow Removal"
   ]
  },
  {
   "cell_type": "code",
   "execution_count": 51,
   "id": "040b6258-67ba-4988-8431-97663ffe2a78",
   "metadata": {},
   "outputs": [],
   "source": [
    "CostSR = pd.read_excel('INFO4590P3PyomoData.xlsx',sheet_name=\"SRCost\",index_col=0)  \n",
    "CapacitySR = pd.read_excel('INFO4590P3PyomoData.xlsx',sheet_name=\"SRCapacity\",index_col=0)  \n"
   ]
  },
  {
   "cell_type": "code",
   "execution_count": 52,
   "id": "f0a7d625-294a-43c1-8b12-89823a62a3ce",
   "metadata": {},
   "outputs": [
    {
     "data": {
      "text/html": [
       "<div>\n",
       "<style scoped>\n",
       "    .dataframe tbody tr th:only-of-type {\n",
       "        vertical-align: middle;\n",
       "    }\n",
       "\n",
       "    .dataframe tbody tr th {\n",
       "        vertical-align: top;\n",
       "    }\n",
       "\n",
       "    .dataframe thead th {\n",
       "        text-align: right;\n",
       "    }\n",
       "</style>\n",
       "<table border=\"1\" class=\"dataframe\">\n",
       "  <thead>\n",
       "    <tr style=\"text-align: right;\">\n",
       "      <th></th>\n",
       "      <th>A</th>\n",
       "      <th>B</th>\n",
       "      <th>C</th>\n",
       "      <th>D</th>\n",
       "      <th>E</th>\n",
       "    </tr>\n",
       "  </thead>\n",
       "  <tbody>\n",
       "    <tr>\n",
       "      <th>Z-1</th>\n",
       "      <td>3.4</td>\n",
       "      <td>1.4</td>\n",
       "      <td>4.9</td>\n",
       "      <td>7.4</td>\n",
       "      <td>9.3</td>\n",
       "    </tr>\n",
       "    <tr>\n",
       "      <th>Z-2</th>\n",
       "      <td>2.4</td>\n",
       "      <td>2.1</td>\n",
       "      <td>8.3</td>\n",
       "      <td>9.1</td>\n",
       "      <td>8.8</td>\n",
       "    </tr>\n",
       "    <tr>\n",
       "      <th>Z-3</th>\n",
       "      <td>1.4</td>\n",
       "      <td>2.9</td>\n",
       "      <td>3.7</td>\n",
       "      <td>9.4</td>\n",
       "      <td>8.6</td>\n",
       "    </tr>\n",
       "    <tr>\n",
       "      <th>Z-4</th>\n",
       "      <td>2.6</td>\n",
       "      <td>3.6</td>\n",
       "      <td>4.5</td>\n",
       "      <td>8.2</td>\n",
       "      <td>8.9</td>\n",
       "    </tr>\n",
       "    <tr>\n",
       "      <th>Z-5</th>\n",
       "      <td>1.5</td>\n",
       "      <td>3.1</td>\n",
       "      <td>2.1</td>\n",
       "      <td>7.9</td>\n",
       "      <td>8.8</td>\n",
       "    </tr>\n",
       "    <tr>\n",
       "      <th>Z-6</th>\n",
       "      <td>4.2</td>\n",
       "      <td>4.9</td>\n",
       "      <td>6.5</td>\n",
       "      <td>7.7</td>\n",
       "      <td>6.1</td>\n",
       "    </tr>\n",
       "    <tr>\n",
       "      <th>Z-7</th>\n",
       "      <td>4.8</td>\n",
       "      <td>6.2</td>\n",
       "      <td>9.9</td>\n",
       "      <td>6.2</td>\n",
       "      <td>5.7</td>\n",
       "    </tr>\n",
       "    <tr>\n",
       "      <th>Z-8</th>\n",
       "      <td>5.4</td>\n",
       "      <td>6.0</td>\n",
       "      <td>5.2</td>\n",
       "      <td>7.6</td>\n",
       "      <td>4.9</td>\n",
       "    </tr>\n",
       "    <tr>\n",
       "      <th>Z-9</th>\n",
       "      <td>3.1</td>\n",
       "      <td>4.1</td>\n",
       "      <td>6.6</td>\n",
       "      <td>7.5</td>\n",
       "      <td>7.2</td>\n",
       "    </tr>\n",
       "    <tr>\n",
       "      <th>Z-10</th>\n",
       "      <td>3.2</td>\n",
       "      <td>6.5</td>\n",
       "      <td>7.1</td>\n",
       "      <td>6.0</td>\n",
       "      <td>8.3</td>\n",
       "    </tr>\n",
       "  </tbody>\n",
       "</table>\n",
       "</div>"
      ],
      "text/plain": [
       "        A    B    C    D    E\n",
       "Z-1   3.4  1.4  4.9  7.4  9.3\n",
       "Z-2   2.4  2.1  8.3  9.1  8.8\n",
       "Z-3   1.4  2.9  3.7  9.4  8.6\n",
       "Z-4   2.6  3.6  4.5  8.2  8.9\n",
       "Z-5   1.5  3.1  2.1  7.9  8.8\n",
       "Z-6   4.2  4.9  6.5  7.7  6.1\n",
       "Z-7   4.8  6.2  9.9  6.2  5.7\n",
       "Z-8   5.4  6.0  5.2  7.6  4.9\n",
       "Z-9   3.1  4.1  6.6  7.5  7.2\n",
       "Z-10  3.2  6.5  7.1  6.0  8.3"
      ]
     },
     "execution_count": 52,
     "metadata": {},
     "output_type": "execute_result"
    }
   ],
   "source": [
    "CostSR"
   ]
  },
  {
   "cell_type": "code",
   "execution_count": 53,
   "id": "f088e32c-5d1e-4552-b625-c2573486e70a",
   "metadata": {},
   "outputs": [
    {
     "data": {
      "text/html": [
       "<div>\n",
       "<style scoped>\n",
       "    .dataframe tbody tr th:only-of-type {\n",
       "        vertical-align: middle;\n",
       "    }\n",
       "\n",
       "    .dataframe tbody tr th {\n",
       "        vertical-align: top;\n",
       "    }\n",
       "\n",
       "    .dataframe thead th {\n",
       "        text-align: right;\n",
       "    }\n",
       "</style>\n",
       "<table border=\"1\" class=\"dataframe\">\n",
       "  <thead>\n",
       "    <tr style=\"text-align: right;\">\n",
       "      <th></th>\n",
       "      <th>A</th>\n",
       "      <th>B</th>\n",
       "      <th>C</th>\n",
       "      <th>D</th>\n",
       "      <th>E</th>\n",
       "    </tr>\n",
       "  </thead>\n",
       "  <tbody>\n",
       "    <tr>\n",
       "      <th>Z-1</th>\n",
       "      <td>153</td>\n",
       "      <td>153</td>\n",
       "      <td>153</td>\n",
       "      <td>153</td>\n",
       "      <td>153</td>\n",
       "    </tr>\n",
       "    <tr>\n",
       "      <th>Z-2</th>\n",
       "      <td>152</td>\n",
       "      <td>152</td>\n",
       "      <td>152</td>\n",
       "      <td>152</td>\n",
       "      <td>152</td>\n",
       "    </tr>\n",
       "    <tr>\n",
       "      <th>Z-3</th>\n",
       "      <td>154</td>\n",
       "      <td>154</td>\n",
       "      <td>154</td>\n",
       "      <td>154</td>\n",
       "      <td>154</td>\n",
       "    </tr>\n",
       "    <tr>\n",
       "      <th>Z-4</th>\n",
       "      <td>138</td>\n",
       "      <td>138</td>\n",
       "      <td>138</td>\n",
       "      <td>138</td>\n",
       "      <td>138</td>\n",
       "    </tr>\n",
       "    <tr>\n",
       "      <th>Z-5</th>\n",
       "      <td>127</td>\n",
       "      <td>127</td>\n",
       "      <td>127</td>\n",
       "      <td>127</td>\n",
       "      <td>127</td>\n",
       "    </tr>\n",
       "    <tr>\n",
       "      <th>Z-6</th>\n",
       "      <td>129</td>\n",
       "      <td>129</td>\n",
       "      <td>129</td>\n",
       "      <td>129</td>\n",
       "      <td>129</td>\n",
       "    </tr>\n",
       "    <tr>\n",
       "      <th>Z-7</th>\n",
       "      <td>111</td>\n",
       "      <td>111</td>\n",
       "      <td>111</td>\n",
       "      <td>111</td>\n",
       "      <td>111</td>\n",
       "    </tr>\n",
       "    <tr>\n",
       "      <th>Z-8</th>\n",
       "      <td>110</td>\n",
       "      <td>110</td>\n",
       "      <td>110</td>\n",
       "      <td>110</td>\n",
       "      <td>110</td>\n",
       "    </tr>\n",
       "    <tr>\n",
       "      <th>Z-9</th>\n",
       "      <td>130</td>\n",
       "      <td>130</td>\n",
       "      <td>130</td>\n",
       "      <td>130</td>\n",
       "      <td>130</td>\n",
       "    </tr>\n",
       "    <tr>\n",
       "      <th>Z-10</th>\n",
       "      <td>135</td>\n",
       "      <td>135</td>\n",
       "      <td>135</td>\n",
       "      <td>135</td>\n",
       "      <td>135</td>\n",
       "    </tr>\n",
       "    <tr>\n",
       "      <th>Max Capacity</th>\n",
       "      <td>350</td>\n",
       "      <td>250</td>\n",
       "      <td>500</td>\n",
       "      <td>400</td>\n",
       "      <td>200</td>\n",
       "    </tr>\n",
       "  </tbody>\n",
       "</table>\n",
       "</div>"
      ],
      "text/plain": [
       "                A    B    C    D    E\n",
       "Z-1           153  153  153  153  153\n",
       "Z-2           152  152  152  152  152\n",
       "Z-3           154  154  154  154  154\n",
       "Z-4           138  138  138  138  138\n",
       "Z-5           127  127  127  127  127\n",
       "Z-6           129  129  129  129  129\n",
       "Z-7           111  111  111  111  111\n",
       "Z-8           110  110  110  110  110\n",
       "Z-9           130  130  130  130  130\n",
       "Z-10          135  135  135  135  135\n",
       "Max Capacity  350  250  500  400  200"
      ]
     },
     "execution_count": 53,
     "metadata": {},
     "output_type": "execute_result"
    }
   ],
   "source": [
    "CapacitySR"
   ]
  },
  {
   "cell_type": "code",
   "execution_count": 94,
   "id": "33fc5ec2-decb-42b8-828b-178fbc68c2f2",
   "metadata": {},
   "outputs": [
    {
     "name": "stderr",
     "output_type": "stream",
     "text": [
      "C:\\Users\\amara\\AppData\\Local\\Temp\\ipykernel_35388\\2719076199.py:11: DeprecationWarning: Calling np.sum(generator) is deprecated, and in the future will give a different result. Use np.sum(np.fromiter(generator)) or the python sum builtin instead.\n",
      "  modelSR.Cost = Objective(expr = 0.1*1000*sum(sum([modelSR.x[z,s]*CostSR.loc[z,s]*CapacitySR.loc[z,s] for z in Zone]) for s in Site), sense = minimize)\n"
     ]
    }
   ],
   "source": [
    "modelSR = ConcreteModel (\"Snow Removal\")\n",
    "\n",
    "Site = CostSR.keys()\n",
    "Zone = CostSR.index\n",
    "\n",
    "#DVs\n",
    "\n",
    "modelSR.x = Var(Zone,Site,domain = Binary)\n",
    "\n",
    "#Objective Function\n",
    "modelSR.Cost = Objective(expr = 0.1*1000*sum(sum([modelSR.x[z,s]*CostSR.loc[z,s]*CapacitySR.loc[z,s] for z in Zone]) for s in Site), sense = minimize)"
   ]
  },
  {
   "cell_type": "code",
   "execution_count": 95,
   "id": "c02cac5a-f33d-4f33-8547-800ca57a1881",
   "metadata": {},
   "outputs": [],
   "source": [
    "modelSR.cons = ConstraintList()\n",
    "\n",
    "for s in Site:\n",
    "    modelSR.cons.add(sum([modelSR.x[z,s]*CapacitySR.loc[z,s] for z in Zone]) <= CapacitySR.loc['Max Capacity',s])\n",
    "\n",
    "for z in Zone:\n",
    "    modelSR.cons.add(sum([modelSR.x[z,s] for s in Site]) == 1)"
   ]
  },
  {
   "cell_type": "code",
   "execution_count": 96,
   "id": "1c7cb406-ade3-4c9e-855a-0dda7ed81050",
   "metadata": {},
   "outputs": [
    {
     "data": {
      "text/plain": [
       "{'Problem': [{'Name': 'unknown', 'Lower bound': 547000.0, 'Upper bound': 547000.0, 'Number of objectives': 1, 'Number of constraints': 15, 'Number of variables': 50, 'Number of nonzeros': 100, 'Sense': 'minimize'}], 'Solver': [{'Status': 'ok', 'Termination condition': 'optimal', 'Statistics': {'Branch and bound': {'Number of bounded subproblems': '73', 'Number of created subproblems': '73'}}, 'Error rc': 0, 'Time': 0.07326459884643555}], 'Solution': [OrderedDict([('number of solutions', 0), ('number of solutions displayed', 0)])]}"
      ]
     },
     "execution_count": 96,
     "metadata": {},
     "output_type": "execute_result"
    }
   ],
   "source": [
    "SolverFactory('glpk').solve(modelSR)"
   ]
  },
  {
   "cell_type": "code",
   "execution_count": 97,
   "id": "e53e1091-7656-4ab2-bbe8-6a180ad87a47",
   "metadata": {},
   "outputs": [
    {
     "name": "stdout",
     "output_type": "stream",
     "text": [
      "Model Snow Removal\n",
      "\n",
      "  Variables:\n",
      "    x : Size=50, Index={Z-2, Z-5, Z-8, Z-9, Z-1, Z-10, Z-4, Z-6, Z-7, Z-3}*{B, A, C, E, D}\n",
      "        Key           : Lower : Value : Upper : Fixed : Stale : Domain\n",
      "         ('Z-1', 'A') :     0 :   0.0 :     1 : False : False : Binary\n",
      "         ('Z-1', 'B') :     0 :   1.0 :     1 : False : False : Binary\n",
      "         ('Z-1', 'C') :     0 :   0.0 :     1 : False : False : Binary\n",
      "         ('Z-1', 'D') :     0 :   0.0 :     1 : False : False : Binary\n",
      "         ('Z-1', 'E') :     0 :   0.0 :     1 : False : False : Binary\n",
      "        ('Z-10', 'A') :     0 :   0.0 :     1 : False : False : Binary\n",
      "        ('Z-10', 'B') :     0 :   0.0 :     1 : False : False : Binary\n",
      "        ('Z-10', 'C') :     0 :   0.0 :     1 : False : False : Binary\n",
      "        ('Z-10', 'D') :     0 :   1.0 :     1 : False : False : Binary\n",
      "        ('Z-10', 'E') :     0 :   0.0 :     1 : False : False : Binary\n",
      "         ('Z-2', 'A') :     0 :   1.0 :     1 : False : False : Binary\n",
      "         ('Z-2', 'B') :     0 :   0.0 :     1 : False : False : Binary\n",
      "         ('Z-2', 'C') :     0 :   0.0 :     1 : False : False : Binary\n",
      "         ('Z-2', 'D') :     0 :   0.0 :     1 : False : False : Binary\n",
      "         ('Z-2', 'E') :     0 :   0.0 :     1 : False : False : Binary\n",
      "         ('Z-3', 'A') :     0 :   0.0 :     1 : False : False : Binary\n",
      "         ('Z-3', 'B') :     0 :   0.0 :     1 : False : False : Binary\n",
      "         ('Z-3', 'C') :     0 :   1.0 :     1 : False : False : Binary\n",
      "         ('Z-3', 'D') :     0 :   0.0 :     1 : False : False : Binary\n",
      "         ('Z-3', 'E') :     0 :   0.0 :     1 : False : False : Binary\n",
      "         ('Z-4', 'A') :     0 :   0.0 :     1 : False : False : Binary\n",
      "         ('Z-4', 'B') :     0 :   0.0 :     1 : False : False : Binary\n",
      "         ('Z-4', 'C') :     0 :   1.0 :     1 : False : False : Binary\n",
      "         ('Z-4', 'D') :     0 :   0.0 :     1 : False : False : Binary\n",
      "         ('Z-4', 'E') :     0 :   0.0 :     1 : False : False : Binary\n",
      "         ('Z-5', 'A') :     0 :   0.0 :     1 : False : False : Binary\n",
      "         ('Z-5', 'B') :     0 :   0.0 :     1 : False : False : Binary\n",
      "         ('Z-5', 'C') :     0 :   1.0 :     1 : False : False : Binary\n",
      "         ('Z-5', 'D') :     0 :   0.0 :     1 : False : False : Binary\n",
      "         ('Z-5', 'E') :     0 :   0.0 :     1 : False : False : Binary\n",
      "         ('Z-6', 'A') :     0 :   0.0 :     1 : False : False : Binary\n",
      "         ('Z-6', 'B') :     0 :   0.0 :     1 : False : False : Binary\n",
      "         ('Z-6', 'C') :     0 :   0.0 :     1 : False : False : Binary\n",
      "         ('Z-6', 'D') :     0 :   1.0 :     1 : False : False : Binary\n",
      "         ('Z-6', 'E') :     0 :   0.0 :     1 : False : False : Binary\n",
      "         ('Z-7', 'A') :     0 :   0.0 :     1 : False : False : Binary\n",
      "         ('Z-7', 'B') :     0 :   0.0 :     1 : False : False : Binary\n",
      "         ('Z-7', 'C') :     0 :   0.0 :     1 : False : False : Binary\n",
      "         ('Z-7', 'D') :     0 :   1.0 :     1 : False : False : Binary\n",
      "         ('Z-7', 'E') :     0 :   0.0 :     1 : False : False : Binary\n",
      "         ('Z-8', 'A') :     0 :   0.0 :     1 : False : False : Binary\n",
      "         ('Z-8', 'B') :     0 :   0.0 :     1 : False : False : Binary\n",
      "         ('Z-8', 'C') :     0 :   0.0 :     1 : False : False : Binary\n",
      "         ('Z-8', 'D') :     0 :   0.0 :     1 : False : False : Binary\n",
      "         ('Z-8', 'E') :     0 :   1.0 :     1 : False : False : Binary\n",
      "         ('Z-9', 'A') :     0 :   1.0 :     1 : False : False : Binary\n",
      "         ('Z-9', 'B') :     0 :   0.0 :     1 : False : False : Binary\n",
      "         ('Z-9', 'C') :     0 :   0.0 :     1 : False : False : Binary\n",
      "         ('Z-9', 'D') :     0 :   0.0 :     1 : False : False : Binary\n",
      "         ('Z-9', 'E') :     0 :   0.0 :     1 : False : False : Binary\n",
      "\n",
      "  Objectives:\n",
      "    Cost : Size=1, Index=None, Active=True\n",
      "        Key  : Active : Value\n",
      "        None :   True : 547000.0\n",
      "\n",
      "  Constraints:\n",
      "    cons : Size=15\n",
      "        Key : Lower : Body  : Upper\n",
      "          1 :  None : 282.0 : 350.0\n",
      "          2 :  None : 153.0 : 250.0\n",
      "          3 :  None : 419.0 : 500.0\n",
      "          4 :  None : 375.0 : 400.0\n",
      "          5 :  None : 110.0 : 200.0\n",
      "          6 :   1.0 :   1.0 :   1.0\n",
      "          7 :   1.0 :   1.0 :   1.0\n",
      "          8 :   1.0 :   1.0 :   1.0\n",
      "          9 :   1.0 :   1.0 :   1.0\n",
      "         10 :   1.0 :   1.0 :   1.0\n",
      "         11 :   1.0 :   1.0 :   1.0\n",
      "         12 :   1.0 :   1.0 :   1.0\n",
      "         13 :   1.0 :   1.0 :   1.0\n",
      "         14 :   1.0 :   1.0 :   1.0\n",
      "         15 :   1.0 :   1.0 :   1.0\n"
     ]
    }
   ],
   "source": [
    "modelSR.display()"
   ]
  },
  {
   "cell_type": "markdown",
   "id": "0f5a07ed-8d02-44f0-a9dd-4a877022e1a3",
   "metadata": {},
   "source": [
    "### Question 25"
   ]
  },
  {
   "cell_type": "markdown",
   "id": "8d5671c4-4a85-4469-bb7a-9f688d6c0eaf",
   "metadata": {},
   "source": [
    "Network Flow"
   ]
  },
  {
   "cell_type": "code",
   "execution_count": 5,
   "id": "a6c1232e-f218-4eb5-b9f7-98b2f6c3c761",
   "metadata": {},
   "outputs": [],
   "source": [
    "CapacityNF = pd.read_excel('INFO4590P3PyomoData.xlsx',sheet_name=\"NFCapacity\",index_col=0)  \n",
    "CostNF = pd.read_excel('INFO4590P3PyomoData.xlsx',sheet_name=\"NFCost\",index_col=0)  \n",
    "DataNF = pd.read_excel('INFO4590P3PyomoData.xlsx',sheet_name=\"NFData\",index_col=0)  \n"
   ]
  },
  {
   "cell_type": "code",
   "execution_count": 6,
   "id": "0b4f8116-8144-4f86-8db2-e07a084556b4",
   "metadata": {},
   "outputs": [
    {
     "data": {
      "text/html": [
       "<div>\n",
       "<style scoped>\n",
       "    .dataframe tbody tr th:only-of-type {\n",
       "        vertical-align: middle;\n",
       "    }\n",
       "\n",
       "    .dataframe tbody tr th {\n",
       "        vertical-align: top;\n",
       "    }\n",
       "\n",
       "    .dataframe thead th {\n",
       "        text-align: right;\n",
       "    }\n",
       "</style>\n",
       "<table border=\"1\" class=\"dataframe\">\n",
       "  <thead>\n",
       "    <tr style=\"text-align: right;\">\n",
       "      <th></th>\n",
       "      <th>Waha</th>\n",
       "      <th>Kiowa</th>\n",
       "      <th>Wharton</th>\n",
       "      <th>Katy</th>\n",
       "      <th>Carthage</th>\n",
       "      <th>Joliet</th>\n",
       "      <th>Henry</th>\n",
       "      <th>Perryville</th>\n",
       "      <th>Lebanon</th>\n",
       "      <th>Maumee</th>\n",
       "      <th>Leidy</th>\n",
       "    </tr>\n",
       "  </thead>\n",
       "  <tbody>\n",
       "    <tr>\n",
       "      <th>Waha</th>\n",
       "      <td>0</td>\n",
       "      <td>25</td>\n",
       "      <td>10</td>\n",
       "      <td>15</td>\n",
       "      <td>0</td>\n",
       "      <td>0</td>\n",
       "      <td>0</td>\n",
       "      <td>0</td>\n",
       "      <td>0</td>\n",
       "      <td>0</td>\n",
       "      <td>0</td>\n",
       "    </tr>\n",
       "    <tr>\n",
       "      <th>Kiowa</th>\n",
       "      <td>25</td>\n",
       "      <td>0</td>\n",
       "      <td>0</td>\n",
       "      <td>0</td>\n",
       "      <td>20</td>\n",
       "      <td>0</td>\n",
       "      <td>0</td>\n",
       "      <td>0</td>\n",
       "      <td>0</td>\n",
       "      <td>0</td>\n",
       "      <td>0</td>\n",
       "    </tr>\n",
       "    <tr>\n",
       "      <th>Wharton</th>\n",
       "      <td>10</td>\n",
       "      <td>0</td>\n",
       "      <td>0</td>\n",
       "      <td>20</td>\n",
       "      <td>0</td>\n",
       "      <td>0</td>\n",
       "      <td>0</td>\n",
       "      <td>0</td>\n",
       "      <td>0</td>\n",
       "      <td>0</td>\n",
       "      <td>0</td>\n",
       "    </tr>\n",
       "    <tr>\n",
       "      <th>Katy</th>\n",
       "      <td>15</td>\n",
       "      <td>0</td>\n",
       "      <td>20</td>\n",
       "      <td>0</td>\n",
       "      <td>30</td>\n",
       "      <td>0</td>\n",
       "      <td>50</td>\n",
       "      <td>0</td>\n",
       "      <td>0</td>\n",
       "      <td>0</td>\n",
       "      <td>0</td>\n",
       "    </tr>\n",
       "    <tr>\n",
       "      <th>Carthage</th>\n",
       "      <td>0</td>\n",
       "      <td>20</td>\n",
       "      <td>0</td>\n",
       "      <td>30</td>\n",
       "      <td>0</td>\n",
       "      <td>25</td>\n",
       "      <td>0</td>\n",
       "      <td>30</td>\n",
       "      <td>15</td>\n",
       "      <td>0</td>\n",
       "      <td>0</td>\n",
       "    </tr>\n",
       "    <tr>\n",
       "      <th>Joliet</th>\n",
       "      <td>0</td>\n",
       "      <td>0</td>\n",
       "      <td>0</td>\n",
       "      <td>0</td>\n",
       "      <td>25</td>\n",
       "      <td>0</td>\n",
       "      <td>0</td>\n",
       "      <td>15</td>\n",
       "      <td>20</td>\n",
       "      <td>25</td>\n",
       "      <td>0</td>\n",
       "    </tr>\n",
       "    <tr>\n",
       "      <th>Henry</th>\n",
       "      <td>0</td>\n",
       "      <td>0</td>\n",
       "      <td>0</td>\n",
       "      <td>50</td>\n",
       "      <td>0</td>\n",
       "      <td>0</td>\n",
       "      <td>0</td>\n",
       "      <td>20</td>\n",
       "      <td>0</td>\n",
       "      <td>0</td>\n",
       "      <td>0</td>\n",
       "    </tr>\n",
       "    <tr>\n",
       "      <th>Perryville</th>\n",
       "      <td>0</td>\n",
       "      <td>0</td>\n",
       "      <td>0</td>\n",
       "      <td>0</td>\n",
       "      <td>30</td>\n",
       "      <td>15</td>\n",
       "      <td>20</td>\n",
       "      <td>0</td>\n",
       "      <td>20</td>\n",
       "      <td>0</td>\n",
       "      <td>15</td>\n",
       "    </tr>\n",
       "    <tr>\n",
       "      <th>Lebanon</th>\n",
       "      <td>0</td>\n",
       "      <td>0</td>\n",
       "      <td>0</td>\n",
       "      <td>0</td>\n",
       "      <td>15</td>\n",
       "      <td>20</td>\n",
       "      <td>0</td>\n",
       "      <td>20</td>\n",
       "      <td>0</td>\n",
       "      <td>15</td>\n",
       "      <td>30</td>\n",
       "    </tr>\n",
       "    <tr>\n",
       "      <th>Maumee</th>\n",
       "      <td>0</td>\n",
       "      <td>0</td>\n",
       "      <td>0</td>\n",
       "      <td>0</td>\n",
       "      <td>0</td>\n",
       "      <td>25</td>\n",
       "      <td>0</td>\n",
       "      <td>0</td>\n",
       "      <td>15</td>\n",
       "      <td>0</td>\n",
       "      <td>25</td>\n",
       "    </tr>\n",
       "    <tr>\n",
       "      <th>Leidy</th>\n",
       "      <td>0</td>\n",
       "      <td>0</td>\n",
       "      <td>0</td>\n",
       "      <td>0</td>\n",
       "      <td>0</td>\n",
       "      <td>0</td>\n",
       "      <td>0</td>\n",
       "      <td>15</td>\n",
       "      <td>30</td>\n",
       "      <td>25</td>\n",
       "      <td>0</td>\n",
       "    </tr>\n",
       "  </tbody>\n",
       "</table>\n",
       "</div>"
      ],
      "text/plain": [
       "            Waha  Kiowa  Wharton  Katy  Carthage  Joliet  Henry  Perryville  \\\n",
       "Waha           0     25       10    15         0       0      0           0   \n",
       "Kiowa         25      0        0     0        20       0      0           0   \n",
       "Wharton       10      0        0    20         0       0      0           0   \n",
       "Katy          15      0       20     0        30       0     50           0   \n",
       "Carthage       0     20        0    30         0      25      0          30   \n",
       "Joliet         0      0        0     0        25       0      0          15   \n",
       "Henry          0      0        0    50         0       0      0          20   \n",
       "Perryville     0      0        0     0        30      15     20           0   \n",
       "Lebanon        0      0        0     0        15      20      0          20   \n",
       "Maumee         0      0        0     0         0      25      0           0   \n",
       "Leidy          0      0        0     0         0       0      0          15   \n",
       "\n",
       "            Lebanon  Maumee  Leidy  \n",
       "Waha              0       0      0  \n",
       "Kiowa             0       0      0  \n",
       "Wharton           0       0      0  \n",
       "Katy              0       0      0  \n",
       "Carthage         15       0      0  \n",
       "Joliet           20      25      0  \n",
       "Henry             0       0      0  \n",
       "Perryville       20       0     15  \n",
       "Lebanon           0      15     30  \n",
       "Maumee           15       0     25  \n",
       "Leidy            30      25      0  "
      ]
     },
     "execution_count": 6,
     "metadata": {},
     "output_type": "execute_result"
    }
   ],
   "source": [
    "CapacityNF"
   ]
  },
  {
   "cell_type": "code",
   "execution_count": 7,
   "id": "fb14352c-35fc-4417-bb14-539506acffb0",
   "metadata": {},
   "outputs": [
    {
     "data": {
      "text/html": [
       "<div>\n",
       "<style scoped>\n",
       "    .dataframe tbody tr th:only-of-type {\n",
       "        vertical-align: middle;\n",
       "    }\n",
       "\n",
       "    .dataframe tbody tr th {\n",
       "        vertical-align: top;\n",
       "    }\n",
       "\n",
       "    .dataframe thead th {\n",
       "        text-align: right;\n",
       "    }\n",
       "</style>\n",
       "<table border=\"1\" class=\"dataframe\">\n",
       "  <thead>\n",
       "    <tr style=\"text-align: right;\">\n",
       "      <th></th>\n",
       "      <th>Waha</th>\n",
       "      <th>Kiowa</th>\n",
       "      <th>Wharton</th>\n",
       "      <th>Katy</th>\n",
       "      <th>Carthage</th>\n",
       "      <th>Joliet</th>\n",
       "      <th>Henry</th>\n",
       "      <th>Perryville</th>\n",
       "      <th>Lebanon</th>\n",
       "      <th>Maumee</th>\n",
       "      <th>Leidy</th>\n",
       "    </tr>\n",
       "  </thead>\n",
       "  <tbody>\n",
       "    <tr>\n",
       "      <th>Waha</th>\n",
       "      <td>0.00</td>\n",
       "      <td>0.35</td>\n",
       "      <td>0.28</td>\n",
       "      <td>0.51</td>\n",
       "      <td>0.00</td>\n",
       "      <td>0.00</td>\n",
       "      <td>0.00</td>\n",
       "      <td>0.00</td>\n",
       "      <td>0.00</td>\n",
       "      <td>0.00</td>\n",
       "      <td>0.00</td>\n",
       "    </tr>\n",
       "    <tr>\n",
       "      <th>Kiowa</th>\n",
       "      <td>0.35</td>\n",
       "      <td>0.00</td>\n",
       "      <td>0.00</td>\n",
       "      <td>0.00</td>\n",
       "      <td>0.28</td>\n",
       "      <td>0.00</td>\n",
       "      <td>0.00</td>\n",
       "      <td>0.00</td>\n",
       "      <td>0.00</td>\n",
       "      <td>0.00</td>\n",
       "      <td>0.00</td>\n",
       "    </tr>\n",
       "    <tr>\n",
       "      <th>Wharton</th>\n",
       "      <td>0.28</td>\n",
       "      <td>0.00</td>\n",
       "      <td>0.00</td>\n",
       "      <td>0.21</td>\n",
       "      <td>0.00</td>\n",
       "      <td>0.00</td>\n",
       "      <td>0.00</td>\n",
       "      <td>0.00</td>\n",
       "      <td>0.00</td>\n",
       "      <td>0.00</td>\n",
       "      <td>0.00</td>\n",
       "    </tr>\n",
       "    <tr>\n",
       "      <th>Katy</th>\n",
       "      <td>0.51</td>\n",
       "      <td>0.00</td>\n",
       "      <td>0.21</td>\n",
       "      <td>0.00</td>\n",
       "      <td>0.42</td>\n",
       "      <td>0.00</td>\n",
       "      <td>0.39</td>\n",
       "      <td>0.00</td>\n",
       "      <td>0.00</td>\n",
       "      <td>0.00</td>\n",
       "      <td>0.00</td>\n",
       "    </tr>\n",
       "    <tr>\n",
       "      <th>Carthage</th>\n",
       "      <td>0.00</td>\n",
       "      <td>0.28</td>\n",
       "      <td>0.00</td>\n",
       "      <td>0.42</td>\n",
       "      <td>0.00</td>\n",
       "      <td>0.47</td>\n",
       "      <td>0.00</td>\n",
       "      <td>0.30</td>\n",
       "      <td>0.35</td>\n",
       "      <td>0.00</td>\n",
       "      <td>0.00</td>\n",
       "    </tr>\n",
       "    <tr>\n",
       "      <th>Joliet</th>\n",
       "      <td>0.00</td>\n",
       "      <td>0.00</td>\n",
       "      <td>0.00</td>\n",
       "      <td>0.00</td>\n",
       "      <td>0.47</td>\n",
       "      <td>0.00</td>\n",
       "      <td>0.00</td>\n",
       "      <td>0.52</td>\n",
       "      <td>0.45</td>\n",
       "      <td>0.52</td>\n",
       "      <td>0.00</td>\n",
       "    </tr>\n",
       "    <tr>\n",
       "      <th>Henry</th>\n",
       "      <td>0.00</td>\n",
       "      <td>0.00</td>\n",
       "      <td>0.00</td>\n",
       "      <td>0.39</td>\n",
       "      <td>0.00</td>\n",
       "      <td>0.00</td>\n",
       "      <td>0.00</td>\n",
       "      <td>0.32</td>\n",
       "      <td>0.00</td>\n",
       "      <td>0.00</td>\n",
       "      <td>0.00</td>\n",
       "    </tr>\n",
       "    <tr>\n",
       "      <th>Perryville</th>\n",
       "      <td>0.00</td>\n",
       "      <td>0.00</td>\n",
       "      <td>0.00</td>\n",
       "      <td>0.00</td>\n",
       "      <td>0.30</td>\n",
       "      <td>0.52</td>\n",
       "      <td>0.32</td>\n",
       "      <td>0.00</td>\n",
       "      <td>0.48</td>\n",
       "      <td>0.00</td>\n",
       "      <td>0.22</td>\n",
       "    </tr>\n",
       "    <tr>\n",
       "      <th>Lebanon</th>\n",
       "      <td>0.00</td>\n",
       "      <td>0.00</td>\n",
       "      <td>0.00</td>\n",
       "      <td>0.00</td>\n",
       "      <td>0.35</td>\n",
       "      <td>0.45</td>\n",
       "      <td>0.00</td>\n",
       "      <td>0.48</td>\n",
       "      <td>0.00</td>\n",
       "      <td>0.33</td>\n",
       "      <td>0.47</td>\n",
       "    </tr>\n",
       "    <tr>\n",
       "      <th>Maumee</th>\n",
       "      <td>0.00</td>\n",
       "      <td>0.00</td>\n",
       "      <td>0.00</td>\n",
       "      <td>0.00</td>\n",
       "      <td>0.00</td>\n",
       "      <td>0.52</td>\n",
       "      <td>0.00</td>\n",
       "      <td>0.00</td>\n",
       "      <td>0.33</td>\n",
       "      <td>0.00</td>\n",
       "      <td>0.53</td>\n",
       "    </tr>\n",
       "    <tr>\n",
       "      <th>Leidy</th>\n",
       "      <td>0.00</td>\n",
       "      <td>0.00</td>\n",
       "      <td>0.00</td>\n",
       "      <td>0.00</td>\n",
       "      <td>0.00</td>\n",
       "      <td>0.00</td>\n",
       "      <td>0.00</td>\n",
       "      <td>0.22</td>\n",
       "      <td>0.47</td>\n",
       "      <td>0.53</td>\n",
       "      <td>0.00</td>\n",
       "    </tr>\n",
       "  </tbody>\n",
       "</table>\n",
       "</div>"
      ],
      "text/plain": [
       "            Waha  Kiowa  Wharton  Katy  Carthage  Joliet  Henry  Perryville  \\\n",
       "Waha        0.00   0.35     0.28  0.51      0.00    0.00   0.00        0.00   \n",
       "Kiowa       0.35   0.00     0.00  0.00      0.28    0.00   0.00        0.00   \n",
       "Wharton     0.28   0.00     0.00  0.21      0.00    0.00   0.00        0.00   \n",
       "Katy        0.51   0.00     0.21  0.00      0.42    0.00   0.39        0.00   \n",
       "Carthage    0.00   0.28     0.00  0.42      0.00    0.47   0.00        0.30   \n",
       "Joliet      0.00   0.00     0.00  0.00      0.47    0.00   0.00        0.52   \n",
       "Henry       0.00   0.00     0.00  0.39      0.00    0.00   0.00        0.32   \n",
       "Perryville  0.00   0.00     0.00  0.00      0.30    0.52   0.32        0.00   \n",
       "Lebanon     0.00   0.00     0.00  0.00      0.35    0.45   0.00        0.48   \n",
       "Maumee      0.00   0.00     0.00  0.00      0.00    0.52   0.00        0.00   \n",
       "Leidy       0.00   0.00     0.00  0.00      0.00    0.00   0.00        0.22   \n",
       "\n",
       "            Lebanon  Maumee  Leidy  \n",
       "Waha           0.00    0.00   0.00  \n",
       "Kiowa          0.00    0.00   0.00  \n",
       "Wharton        0.00    0.00   0.00  \n",
       "Katy           0.00    0.00   0.00  \n",
       "Carthage       0.35    0.00   0.00  \n",
       "Joliet         0.45    0.52   0.00  \n",
       "Henry          0.00    0.00   0.00  \n",
       "Perryville     0.48    0.00   0.22  \n",
       "Lebanon        0.00    0.33   0.47  \n",
       "Maumee         0.33    0.00   0.53  \n",
       "Leidy          0.47    0.53   0.00  "
      ]
     },
     "execution_count": 7,
     "metadata": {},
     "output_type": "execute_result"
    }
   ],
   "source": [
    "CostNF"
   ]
  },
  {
   "cell_type": "code",
   "execution_count": 8,
   "id": "6290e9ef-5c99-4b21-a44f-6075e7907906",
   "metadata": {},
   "outputs": [
    {
     "data": {
      "text/html": [
       "<div>\n",
       "<style scoped>\n",
       "    .dataframe tbody tr th:only-of-type {\n",
       "        vertical-align: middle;\n",
       "    }\n",
       "\n",
       "    .dataframe tbody tr th {\n",
       "        vertical-align: top;\n",
       "    }\n",
       "\n",
       "    .dataframe thead th {\n",
       "        text-align: right;\n",
       "    }\n",
       "</style>\n",
       "<table border=\"1\" class=\"dataframe\">\n",
       "  <thead>\n",
       "    <tr style=\"text-align: right;\">\n",
       "      <th></th>\n",
       "      <th>Waha</th>\n",
       "      <th>Kiowa</th>\n",
       "      <th>Wharton</th>\n",
       "      <th>Katy</th>\n",
       "      <th>Carthage</th>\n",
       "      <th>Joliet</th>\n",
       "      <th>Henry</th>\n",
       "      <th>Perryville</th>\n",
       "      <th>Lebanon</th>\n",
       "      <th>Maumee</th>\n",
       "      <th>Leidy</th>\n",
       "    </tr>\n",
       "  </thead>\n",
       "  <tbody>\n",
       "    <tr>\n",
       "      <th>Supply</th>\n",
       "      <td>0</td>\n",
       "      <td>0</td>\n",
       "      <td>0</td>\n",
       "      <td>100</td>\n",
       "      <td>0</td>\n",
       "      <td>0.00</td>\n",
       "      <td>0</td>\n",
       "      <td>0</td>\n",
       "      <td>0</td>\n",
       "      <td>0</td>\n",
       "      <td>0.00</td>\n",
       "    </tr>\n",
       "    <tr>\n",
       "      <th>Demand</th>\n",
       "      <td>0</td>\n",
       "      <td>0</td>\n",
       "      <td>0</td>\n",
       "      <td>0</td>\n",
       "      <td>0</td>\n",
       "      <td>35.00</td>\n",
       "      <td>0</td>\n",
       "      <td>0</td>\n",
       "      <td>0</td>\n",
       "      <td>0</td>\n",
       "      <td>60.00</td>\n",
       "    </tr>\n",
       "    <tr>\n",
       "      <th>Price</th>\n",
       "      <td>0</td>\n",
       "      <td>0</td>\n",
       "      <td>0</td>\n",
       "      <td>0</td>\n",
       "      <td>0</td>\n",
       "      <td>4.35</td>\n",
       "      <td>0</td>\n",
       "      <td>0</td>\n",
       "      <td>0</td>\n",
       "      <td>0</td>\n",
       "      <td>4.63</td>\n",
       "    </tr>\n",
       "  </tbody>\n",
       "</table>\n",
       "</div>"
      ],
      "text/plain": [
       "        Waha  Kiowa  Wharton  Katy  Carthage  Joliet  Henry  Perryville  \\\n",
       "Supply     0      0        0   100         0    0.00      0           0   \n",
       "Demand     0      0        0     0         0   35.00      0           0   \n",
       "Price      0      0        0     0         0    4.35      0           0   \n",
       "\n",
       "        Lebanon  Maumee  Leidy  \n",
       "Supply        0       0   0.00  \n",
       "Demand        0       0  60.00  \n",
       "Price         0       0   4.63  "
      ]
     },
     "execution_count": 8,
     "metadata": {},
     "output_type": "execute_result"
    }
   ],
   "source": [
    "DataNF"
   ]
  },
  {
   "cell_type": "code",
   "execution_count": 10,
   "id": "83f6fac6-8f8f-43c9-9ac2-02091f1d193a",
   "metadata": {},
   "outputs": [
    {
     "name": "stderr",
     "output_type": "stream",
     "text": [
      "C:\\Users\\amara\\AppData\\Local\\Temp\\ipykernel_25644\\3521469672.py:15: DeprecationWarning: Calling np.sum(generator) is deprecated, and in the future will give a different result. Use np.sum(np.fromiter(generator)) or the python sum builtin instead.\n",
      "  modelNF.Profit = Objective(expr = sum(DataNF.loc['Price',t]*(modelNF.x[t,f]-modelNF.x[f,t]) for t in ToP for f in FromP) -\n",
      "C:\\Users\\amara\\AppData\\Local\\Temp\\ipykernel_25644\\3521469672.py:16: DeprecationWarning: Calling np.sum(generator) is deprecated, and in the future will give a different result. Use np.sum(np.fromiter(generator)) or the python sum builtin instead.\n",
      "  sum([sum(modelNF.x[f,t]*CostNF.loc[f,t] for t in ToP) for f in FromP]), sense = maximize)\n"
     ]
    }
   ],
   "source": [
    "modelNF = ConcreteModel (\"Network Flow\")\n",
    "\n",
    "FromP = CapacityNF.index\n",
    "ToP = CapacityNF.keys()\n",
    "\n",
    "#DVs\n",
    "\n",
    "modelNF.x = Var(FromP,ToP,domain = NonNegativeIntegers)\n",
    "\n",
    "\n",
    "#Objective Function\n",
    "#Revenue = DataNF.loc['Price',t]*sum(modelNF.x[t,f]-modelNF.x[f,t])] for f in FromP for t in ToP\n",
    "#Cost = sum(sum([modelNF.x[f,t]*CostNF.loc[f,t] for i in ToP for f in FromP])\n",
    "\n",
    "modelNF.Profit = Objective(expr = sum(DataNF.loc['Price',t]*(modelNF.x[t,f]-modelNF.x[f,t]) for t in ToP for f in FromP) -\n",
    "                           sum([sum(modelNF.x[f,t]*CostNF.loc[f,t] for t in ToP) for f in FromP]), sense = maximize)"
   ]
  },
  {
   "cell_type": "code",
   "execution_count": 12,
   "id": "c9ce2545-1636-443b-9fdd-61b599761187",
   "metadata": {},
   "outputs": [
    {
     "name": "stdout",
     "output_type": "stream",
     "text": [
      "WARNING: Implicitly replacing the Component attribute cons (type=<class\n",
      "'pyomo.core.base.constraint.ConstraintList'>) on block Network Flow with a new\n",
      "Component (type=<class 'pyomo.core.base.constraint.ConstraintList'>). This is\n",
      "usually indicative of a modelling error. To avoid this warning, use\n",
      "block.del_component() and block.add_component().\n"
     ]
    },
    {
     "name": "stderr",
     "output_type": "stream",
     "text": [
      "C:\\Users\\amara\\AppData\\Local\\Temp\\ipykernel_25644\\2026136847.py:5: DeprecationWarning: Calling np.sum(generator) is deprecated, and in the future will give a different result. Use np.sum(np.fromiter(generator)) or the python sum builtin instead.\n",
      "  modelNF.cons.add(sum(modelNF.x[t,f] - modelNF.x[f,t] for f in FromP) <= DataNF.loc['Demand',t])\n",
      "C:\\Users\\amara\\AppData\\Local\\Temp\\ipykernel_25644\\2026136847.py:8: DeprecationWarning: Calling np.sum(generator) is deprecated, and in the future will give a different result. Use np.sum(np.fromiter(generator)) or the python sum builtin instead.\n",
      "  modelNF.cons.add(sum(modelNF.x[f,t] - modelNF.x[t,f] for f in FromP) <= DataNF.loc['Supply',t])\n"
     ]
    }
   ],
   "source": [
    "modelNF.cons = ConstraintList()\n",
    "\n",
    "\n",
    "for t in ToP:\n",
    "    modelNF.cons.add(sum(modelNF.x[t,f] - modelNF.x[f,t] for f in FromP) <= DataNF.loc['Demand',t])\n",
    "\n",
    "for t in ToP:\n",
    "    modelNF.cons.add(sum(modelNF.x[f,t] - modelNF.x[t,f] for f in FromP) <= DataNF.loc['Supply',t])\n",
    "\n",
    "for f in FromP:\n",
    "    for t in ToP:\n",
    "        modelNF.cons.add(modelNF.x[f,t] <= CapacityNF.loc[f,t])\n"
   ]
  },
  {
   "cell_type": "code",
   "execution_count": 14,
   "id": "9fc4f28e-1c6c-403f-b0a7-94301c46d00a",
   "metadata": {},
   "outputs": [
    {
     "data": {
      "text/plain": [
       "{'Problem': [{'Name': 'unknown', 'Lower bound': 224.6, 'Upper bound': 224.6, 'Number of objectives': 1, 'Number of constraints': 143, 'Number of variables': 121, 'Number of nonzeros': 561, 'Sense': 'maximize'}], 'Solver': [{'Status': 'ok', 'Termination condition': 'optimal', 'Statistics': {'Branch and bound': {'Number of bounded subproblems': '1', 'Number of created subproblems': '1'}}, 'Error rc': 0, 'Time': 0.049695491790771484}], 'Solution': [OrderedDict([('number of solutions', 0), ('number of solutions displayed', 0)])]}"
      ]
     },
     "execution_count": 14,
     "metadata": {},
     "output_type": "execute_result"
    }
   ],
   "source": [
    "SolverFactory('glpk').solve(modelNF)"
   ]
  },
  {
   "cell_type": "code",
   "execution_count": 15,
   "id": "f78f6d31-471b-4485-b606-e84cc864fd5f",
   "metadata": {},
   "outputs": [
    {
     "name": "stdout",
     "output_type": "stream",
     "text": [
      "Model Network Flow\n",
      "\n",
      "  Variables:\n",
      "    x : Size=121, Index={Katy, Lebanon, Leidy, Perryville, Henry, Carthage, Kiowa, Maumee, Wharton, Waha, Joliet}*{Katy, Lebanon, Leidy, Perryville, Henry, Carthage, Kiowa, Maumee, Wharton, Waha, Joliet}\n",
      "        Key                          : Lower : Value : Upper : Fixed : Stale : Domain\n",
      "            ('Carthage', 'Carthage') :     0 :   0.0 :  None : False : False : NonNegativeIntegers\n",
      "               ('Carthage', 'Henry') :     0 :   0.0 :  None : False : False : NonNegativeIntegers\n",
      "              ('Carthage', 'Joliet') :     0 :   0.0 :  None : False : False : NonNegativeIntegers\n",
      "                ('Carthage', 'Katy') :     0 :  30.0 :  None : False : False : NonNegativeIntegers\n",
      "               ('Carthage', 'Kiowa') :     0 :  20.0 :  None : False : False : NonNegativeIntegers\n",
      "             ('Carthage', 'Lebanon') :     0 :   0.0 :  None : False : False : NonNegativeIntegers\n",
      "               ('Carthage', 'Leidy') :     0 :   0.0 :  None : False : False : NonNegativeIntegers\n",
      "              ('Carthage', 'Maumee') :     0 :   0.0 :  None : False : False : NonNegativeIntegers\n",
      "          ('Carthage', 'Perryville') :     0 :   0.0 :  None : False : False : NonNegativeIntegers\n",
      "                ('Carthage', 'Waha') :     0 :   0.0 :  None : False : False : NonNegativeIntegers\n",
      "             ('Carthage', 'Wharton') :     0 :   0.0 :  None : False : False : NonNegativeIntegers\n",
      "               ('Henry', 'Carthage') :     0 :   0.0 :  None : False : False : NonNegativeIntegers\n",
      "                  ('Henry', 'Henry') :     0 :   0.0 :  None : False : False : NonNegativeIntegers\n",
      "                 ('Henry', 'Joliet') :     0 :   0.0 :  None : False : False : NonNegativeIntegers\n",
      "                   ('Henry', 'Katy') :     0 :  20.0 :  None : False : False : NonNegativeIntegers\n",
      "                  ('Henry', 'Kiowa') :     0 :   0.0 :  None : False : False : NonNegativeIntegers\n",
      "                ('Henry', 'Lebanon') :     0 :   0.0 :  None : False : False : NonNegativeIntegers\n",
      "                  ('Henry', 'Leidy') :     0 :   0.0 :  None : False : False : NonNegativeIntegers\n",
      "                 ('Henry', 'Maumee') :     0 :   0.0 :  None : False : False : NonNegativeIntegers\n",
      "             ('Henry', 'Perryville') :     0 :   0.0 :  None : False : False : NonNegativeIntegers\n",
      "                   ('Henry', 'Waha') :     0 :   0.0 :  None : False : False : NonNegativeIntegers\n",
      "                ('Henry', 'Wharton') :     0 :   0.0 :  None : False : False : NonNegativeIntegers\n",
      "              ('Joliet', 'Carthage') :     0 :  25.0 :  None : False : False : NonNegativeIntegers\n",
      "                 ('Joliet', 'Henry') :     0 :   0.0 :  None : False : False : NonNegativeIntegers\n",
      "                ('Joliet', 'Joliet') :     0 :   0.0 :  None : False : False : NonNegativeIntegers\n",
      "                  ('Joliet', 'Katy') :     0 :   0.0 :  None : False : False : NonNegativeIntegers\n",
      "                 ('Joliet', 'Kiowa') :     0 :   0.0 :  None : False : False : NonNegativeIntegers\n",
      "               ('Joliet', 'Lebanon') :     0 :   0.0 :  None : False : False : NonNegativeIntegers\n",
      "                 ('Joliet', 'Leidy') :     0 :   0.0 :  None : False : False : NonNegativeIntegers\n",
      "                ('Joliet', 'Maumee') :     0 :   0.0 :  None : False : False : NonNegativeIntegers\n",
      "            ('Joliet', 'Perryville') :     0 :  10.0 :  None : False : False : NonNegativeIntegers\n",
      "                  ('Joliet', 'Waha') :     0 :   0.0 :  None : False : False : NonNegativeIntegers\n",
      "               ('Joliet', 'Wharton') :     0 :   0.0 :  None : False : False : NonNegativeIntegers\n",
      "                ('Katy', 'Carthage') :     0 :   0.0 :  None : False : False : NonNegativeIntegers\n",
      "                   ('Katy', 'Henry') :     0 :   0.0 :  None : False : False : NonNegativeIntegers\n",
      "                  ('Katy', 'Joliet') :     0 :   0.0 :  None : False : False : NonNegativeIntegers\n",
      "                    ('Katy', 'Katy') :     0 :   0.0 :  None : False : False : NonNegativeIntegers\n",
      "                   ('Katy', 'Kiowa') :     0 :   0.0 :  None : False : False : NonNegativeIntegers\n",
      "                 ('Katy', 'Lebanon') :     0 :   0.0 :  None : False : False : NonNegativeIntegers\n",
      "                   ('Katy', 'Leidy') :     0 :   0.0 :  None : False : False : NonNegativeIntegers\n",
      "                  ('Katy', 'Maumee') :     0 :   0.0 :  None : False : False : NonNegativeIntegers\n",
      "              ('Katy', 'Perryville') :     0 :   0.0 :  None : False : False : NonNegativeIntegers\n",
      "                    ('Katy', 'Waha') :     0 :   0.0 :  None : False : False : NonNegativeIntegers\n",
      "                 ('Katy', 'Wharton') :     0 :   0.0 :  None : False : False : NonNegativeIntegers\n",
      "               ('Kiowa', 'Carthage') :     0 :   0.0 :  None : False : False : NonNegativeIntegers\n",
      "                  ('Kiowa', 'Henry') :     0 :   0.0 :  None : False : False : NonNegativeIntegers\n",
      "                 ('Kiowa', 'Joliet') :     0 :   0.0 :  None : False : False : NonNegativeIntegers\n",
      "                   ('Kiowa', 'Katy') :     0 :   0.0 :  None : False : False : NonNegativeIntegers\n",
      "                  ('Kiowa', 'Kiowa') :     0 :   0.0 :  None : False : False : NonNegativeIntegers\n",
      "                ('Kiowa', 'Lebanon') :     0 :   0.0 :  None : False : False : NonNegativeIntegers\n",
      "                  ('Kiowa', 'Leidy') :     0 :   0.0 :  None : False : False : NonNegativeIntegers\n",
      "                 ('Kiowa', 'Maumee') :     0 :   0.0 :  None : False : False : NonNegativeIntegers\n",
      "             ('Kiowa', 'Perryville') :     0 :   0.0 :  None : False : False : NonNegativeIntegers\n",
      "                   ('Kiowa', 'Waha') :     0 :  20.0 :  None : False : False : NonNegativeIntegers\n",
      "                ('Kiowa', 'Wharton') :     0 :   0.0 :  None : False : False : NonNegativeIntegers\n",
      "             ('Lebanon', 'Carthage') :     0 :  15.0 :  None : False : False : NonNegativeIntegers\n",
      "                ('Lebanon', 'Henry') :     0 :   0.0 :  None : False : False : NonNegativeIntegers\n",
      "               ('Lebanon', 'Joliet') :     0 :   0.0 :  None : False : False : NonNegativeIntegers\n",
      "                 ('Lebanon', 'Katy') :     0 :   0.0 :  None : False : False : NonNegativeIntegers\n",
      "                ('Lebanon', 'Kiowa') :     0 :   0.0 :  None : False : False : NonNegativeIntegers\n",
      "              ('Lebanon', 'Lebanon') :     0 :   0.0 :  None : False : False : NonNegativeIntegers\n",
      "                ('Lebanon', 'Leidy') :     0 :   0.0 :  None : False : False : NonNegativeIntegers\n",
      "               ('Lebanon', 'Maumee') :     0 :   0.0 :  None : False : False : NonNegativeIntegers\n",
      "           ('Lebanon', 'Perryville') :     0 :   5.0 :  None : False : False : NonNegativeIntegers\n",
      "                 ('Lebanon', 'Waha') :     0 :   0.0 :  None : False : False : NonNegativeIntegers\n",
      "              ('Lebanon', 'Wharton') :     0 :   0.0 :  None : False : False : NonNegativeIntegers\n",
      "               ('Leidy', 'Carthage') :     0 :   0.0 :  None : False : False : NonNegativeIntegers\n",
      "                  ('Leidy', 'Henry') :     0 :   0.0 :  None : False : False : NonNegativeIntegers\n",
      "                 ('Leidy', 'Joliet') :     0 :   0.0 :  None : False : False : NonNegativeIntegers\n",
      "                   ('Leidy', 'Katy') :     0 :   0.0 :  None : False : False : NonNegativeIntegers\n",
      "                  ('Leidy', 'Kiowa') :     0 :   0.0 :  None : False : False : NonNegativeIntegers\n",
      "                ('Leidy', 'Lebanon') :     0 :  20.0 :  None : False : False : NonNegativeIntegers\n",
      "                  ('Leidy', 'Leidy') :     0 :   0.0 :  None : False : False : NonNegativeIntegers\n",
      "                 ('Leidy', 'Maumee') :     0 :   0.0 :  None : False : False : NonNegativeIntegers\n",
      "             ('Leidy', 'Perryville') :     0 :  15.0 :  None : False : False : NonNegativeIntegers\n",
      "                   ('Leidy', 'Waha') :     0 :   0.0 :  None : False : False : NonNegativeIntegers\n",
      "                ('Leidy', 'Wharton') :     0 :   0.0 :  None : False : False : NonNegativeIntegers\n",
      "              ('Maumee', 'Carthage') :     0 :   0.0 :  None : False : False : NonNegativeIntegers\n",
      "                 ('Maumee', 'Henry') :     0 :   0.0 :  None : False : False : NonNegativeIntegers\n",
      "                ('Maumee', 'Joliet') :     0 :   0.0 :  None : False : False : NonNegativeIntegers\n",
      "                  ('Maumee', 'Katy') :     0 :   0.0 :  None : False : False : NonNegativeIntegers\n",
      "                 ('Maumee', 'Kiowa') :     0 :   0.0 :  None : False : False : NonNegativeIntegers\n",
      "               ('Maumee', 'Lebanon') :     0 :   0.0 :  None : False : False : NonNegativeIntegers\n",
      "                 ('Maumee', 'Leidy') :     0 :   0.0 :  None : False : False : NonNegativeIntegers\n",
      "                ('Maumee', 'Maumee') :     0 :   0.0 :  None : False : False : NonNegativeIntegers\n",
      "            ('Maumee', 'Perryville') :     0 :   0.0 :  None : False : False : NonNegativeIntegers\n",
      "                  ('Maumee', 'Waha') :     0 :   0.0 :  None : False : False : NonNegativeIntegers\n",
      "               ('Maumee', 'Wharton') :     0 :   0.0 :  None : False : False : NonNegativeIntegers\n",
      "          ('Perryville', 'Carthage') :     0 :  10.0 :  None : False : False : NonNegativeIntegers\n",
      "             ('Perryville', 'Henry') :     0 :  20.0 :  None : False : False : NonNegativeIntegers\n",
      "            ('Perryville', 'Joliet') :     0 :   0.0 :  None : False : False : NonNegativeIntegers\n",
      "              ('Perryville', 'Katy') :     0 :   0.0 :  None : False : False : NonNegativeIntegers\n",
      "             ('Perryville', 'Kiowa') :     0 :   0.0 :  None : False : False : NonNegativeIntegers\n",
      "           ('Perryville', 'Lebanon') :     0 :   0.0 :  None : False : False : NonNegativeIntegers\n",
      "             ('Perryville', 'Leidy') :     0 :   0.0 :  None : False : False : NonNegativeIntegers\n",
      "            ('Perryville', 'Maumee') :     0 :   0.0 :  None : False : False : NonNegativeIntegers\n",
      "        ('Perryville', 'Perryville') :     0 :   0.0 :  None : False : False : NonNegativeIntegers\n",
      "              ('Perryville', 'Waha') :     0 :   0.0 :  None : False : False : NonNegativeIntegers\n",
      "           ('Perryville', 'Wharton') :     0 :   0.0 :  None : False : False : NonNegativeIntegers\n",
      "                ('Waha', 'Carthage') :     0 :   0.0 :  None : False : False : NonNegativeIntegers\n",
      "                   ('Waha', 'Henry') :     0 :   0.0 :  None : False : False : NonNegativeIntegers\n",
      "                  ('Waha', 'Joliet') :     0 :   0.0 :  None : False : False : NonNegativeIntegers\n",
      "                    ('Waha', 'Katy') :     0 :  10.0 :  None : False : False : NonNegativeIntegers\n",
      "                   ('Waha', 'Kiowa') :     0 :   0.0 :  None : False : False : NonNegativeIntegers\n",
      "                 ('Waha', 'Lebanon') :     0 :   0.0 :  None : False : False : NonNegativeIntegers\n",
      "                   ('Waha', 'Leidy') :     0 :   0.0 :  None : False : False : NonNegativeIntegers\n",
      "                  ('Waha', 'Maumee') :     0 :   0.0 :  None : False : False : NonNegativeIntegers\n",
      "              ('Waha', 'Perryville') :     0 :   0.0 :  None : False : False : NonNegativeIntegers\n",
      "                    ('Waha', 'Waha') :     0 :   0.0 :  None : False : False : NonNegativeIntegers\n",
      "                 ('Waha', 'Wharton') :     0 :  10.0 :  None : False : False : NonNegativeIntegers\n",
      "             ('Wharton', 'Carthage') :     0 :   0.0 :  None : False : False : NonNegativeIntegers\n",
      "                ('Wharton', 'Henry') :     0 :   0.0 :  None : False : False : NonNegativeIntegers\n",
      "               ('Wharton', 'Joliet') :     0 :   0.0 :  None : False : False : NonNegativeIntegers\n",
      "                 ('Wharton', 'Katy') :     0 :  10.0 :  None : False : False : NonNegativeIntegers\n",
      "                ('Wharton', 'Kiowa') :     0 :   0.0 :  None : False : False : NonNegativeIntegers\n",
      "              ('Wharton', 'Lebanon') :     0 :   0.0 :  None : False : False : NonNegativeIntegers\n",
      "                ('Wharton', 'Leidy') :     0 :   0.0 :  None : False : False : NonNegativeIntegers\n",
      "               ('Wharton', 'Maumee') :     0 :   0.0 :  None : False : False : NonNegativeIntegers\n",
      "           ('Wharton', 'Perryville') :     0 :   0.0 :  None : False : False : NonNegativeIntegers\n",
      "                 ('Wharton', 'Waha') :     0 :   0.0 :  None : False : False : NonNegativeIntegers\n",
      "              ('Wharton', 'Wharton') :     0 :   0.0 :  None : False : False : NonNegativeIntegers\n",
      "\n",
      "  Objectives:\n",
      "    Profit : Size=1, Index=None, Active=True\n",
      "        Key  : Active : Value\n",
      "        None :   True : 224.59999999999994\n",
      "\n",
      "  Constraints:\n",
      "    cons : Size=143\n",
      "        Key : Lower : Body  : Upper\n",
      "          1 :  None :   0.0 :   0.0\n",
      "          2 :  None :   0.0 :   0.0\n",
      "          3 :  None :   0.0 :   0.0\n",
      "          4 :  None : -70.0 :   0.0\n",
      "          5 :  None :   0.0 :   0.0\n",
      "          6 :  None :  35.0 :  35.0\n",
      "          7 :  None :   0.0 :   0.0\n",
      "          8 :  None :   0.0 :   0.0\n",
      "          9 :  None :   0.0 :   0.0\n",
      "         10 :  None :   0.0 :   0.0\n",
      "         11 :  None :  35.0 :  60.0\n",
      "         12 :  None :   0.0 :   0.0\n",
      "         13 :  None :   0.0 :   0.0\n",
      "         14 :  None :   0.0 :   0.0\n",
      "         15 :  None :  70.0 : 100.0\n",
      "         16 :  None :   0.0 :   0.0\n",
      "         17 :  None : -35.0 :   0.0\n",
      "         18 :  None :   0.0 :   0.0\n",
      "         19 :  None :   0.0 :   0.0\n",
      "         20 :  None :   0.0 :   0.0\n",
      "         21 :  None :   0.0 :   0.0\n",
      "         22 :  None : -35.0 :   0.0\n",
      "         23 :  None :   0.0 :   0.0\n",
      "         24 :  None :   0.0 :  25.0\n",
      "         25 :  None :  10.0 :  10.0\n",
      "         26 :  None :  10.0 :  15.0\n",
      "         27 :  None :   0.0 :   0.0\n",
      "         28 :  None :   0.0 :   0.0\n",
      "         29 :  None :   0.0 :   0.0\n",
      "         30 :  None :   0.0 :   0.0\n",
      "         31 :  None :   0.0 :   0.0\n",
      "         32 :  None :   0.0 :   0.0\n",
      "         33 :  None :   0.0 :   0.0\n",
      "         34 :  None :  20.0 :  25.0\n",
      "         35 :  None :   0.0 :   0.0\n",
      "         36 :  None :   0.0 :   0.0\n",
      "         37 :  None :   0.0 :   0.0\n",
      "         38 :  None :   0.0 :  20.0\n",
      "         39 :  None :   0.0 :   0.0\n",
      "         40 :  None :   0.0 :   0.0\n",
      "         41 :  None :   0.0 :   0.0\n",
      "         42 :  None :   0.0 :   0.0\n",
      "         43 :  None :   0.0 :   0.0\n",
      "         44 :  None :   0.0 :   0.0\n",
      "         45 :  None :   0.0 :  10.0\n",
      "         46 :  None :   0.0 :   0.0\n",
      "         47 :  None :   0.0 :   0.0\n",
      "         48 :  None :  10.0 :  20.0\n",
      "         49 :  None :   0.0 :   0.0\n",
      "         50 :  None :   0.0 :   0.0\n",
      "         51 :  None :   0.0 :   0.0\n",
      "         52 :  None :   0.0 :   0.0\n",
      "         53 :  None :   0.0 :   0.0\n",
      "         54 :  None :   0.0 :   0.0\n",
      "         55 :  None :   0.0 :   0.0\n",
      "         56 :  None :   0.0 :  15.0\n",
      "         57 :  None :   0.0 :   0.0\n",
      "         58 :  None :   0.0 :  20.0\n",
      "         59 :  None :   0.0 :   0.0\n",
      "         60 :  None :   0.0 :  30.0\n",
      "         61 :  None :   0.0 :   0.0\n",
      "         62 :  None :   0.0 :  50.0\n",
      "         63 :  None :   0.0 :   0.0\n",
      "         64 :  None :   0.0 :   0.0\n",
      "         65 :  None :   0.0 :   0.0\n",
      "         66 :  None :   0.0 :   0.0\n",
      "         67 :  None :   0.0 :   0.0\n",
      "         68 :  None :  20.0 :  20.0\n",
      "         69 :  None :   0.0 :   0.0\n",
      "         70 :  None :  30.0 :  30.0\n",
      "         71 :  None :   0.0 :   0.0\n",
      "         72 :  None :   0.0 :  25.0\n",
      "         73 :  None :   0.0 :   0.0\n",
      "         74 :  None :   0.0 :  30.0\n",
      "         75 :  None :   0.0 :  15.0\n",
      "         76 :  None :   0.0 :   0.0\n",
      "         77 :  None :   0.0 :   0.0\n",
      "         78 :  None :   0.0 :   0.0\n",
      "         79 :  None :   0.0 :   0.0\n",
      "         80 :  None :   0.0 :   0.0\n",
      "         81 :  None :   0.0 :   0.0\n",
      "         82 :  None :  25.0 :  25.0\n",
      "         83 :  None :   0.0 :   0.0\n",
      "         84 :  None :   0.0 :   0.0\n",
      "         85 :  None :  10.0 :  15.0\n",
      "         86 :  None :   0.0 :  20.0\n",
      "         87 :  None :   0.0 :  25.0\n",
      "         88 :  None :   0.0 :   0.0\n",
      "         89 :  None :   0.0 :   0.0\n",
      "         90 :  None :   0.0 :   0.0\n",
      "         91 :  None :   0.0 :   0.0\n",
      "         92 :  None :  20.0 :  50.0\n",
      "         93 :  None :   0.0 :   0.0\n",
      "         94 :  None :   0.0 :   0.0\n",
      "         95 :  None :   0.0 :   0.0\n",
      "         96 :  None :   0.0 :  20.0\n",
      "         97 :  None :   0.0 :   0.0\n",
      "         98 :  None :   0.0 :   0.0\n",
      "         99 :  None :   0.0 :   0.0\n",
      "        100 :  None :   0.0 :   0.0\n",
      "        101 :  None :   0.0 :   0.0\n",
      "        102 :  None :   0.0 :   0.0\n",
      "        103 :  None :   0.0 :   0.0\n",
      "        104 :  None :  10.0 :  30.0\n",
      "        105 :  None :   0.0 :  15.0\n",
      "        106 :  None :  20.0 :  20.0\n",
      "        107 :  None :   0.0 :   0.0\n",
      "        108 :  None :   0.0 :  20.0\n",
      "        109 :  None :   0.0 :   0.0\n",
      "        110 :  None :   0.0 :  15.0\n",
      "        111 :  None :   0.0 :   0.0\n",
      "        112 :  None :   0.0 :   0.0\n",
      "        113 :  None :   0.0 :   0.0\n",
      "        114 :  None :   0.0 :   0.0\n",
      "        115 :  None :  15.0 :  15.0\n",
      "        116 :  None :   0.0 :  20.0\n",
      "        117 :  None :   0.0 :   0.0\n",
      "        118 :  None :   5.0 :  20.0\n",
      "        119 :  None :   0.0 :   0.0\n",
      "        120 :  None :   0.0 :  15.0\n",
      "        121 :  None :   0.0 :  30.0\n",
      "        122 :  None :   0.0 :   0.0\n",
      "        123 :  None :   0.0 :   0.0\n",
      "        124 :  None :   0.0 :   0.0\n",
      "        125 :  None :   0.0 :   0.0\n",
      "        126 :  None :   0.0 :   0.0\n",
      "        127 :  None :   0.0 :  25.0\n",
      "        128 :  None :   0.0 :   0.0\n",
      "        129 :  None :   0.0 :   0.0\n",
      "        130 :  None :   0.0 :  15.0\n",
      "        131 :  None :   0.0 :   0.0\n",
      "        132 :  None :   0.0 :  25.0\n",
      "        133 :  None :   0.0 :   0.0\n",
      "        134 :  None :   0.0 :   0.0\n",
      "        135 :  None :   0.0 :   0.0\n",
      "        136 :  None :   0.0 :   0.0\n",
      "        137 :  None :   0.0 :   0.0\n",
      "        138 :  None :   0.0 :   0.0\n",
      "        139 :  None :   0.0 :   0.0\n",
      "        140 :  None :  15.0 :  15.0\n",
      "        141 :  None :  20.0 :  30.0\n",
      "        142 :  None :   0.0 :  25.0\n",
      "        143 :  None :   0.0 :   0.0\n"
     ]
    }
   ],
   "source": [
    "modelNF.display()"
   ]
  }
 ],
 "metadata": {
  "kernelspec": {
   "display_name": "Python 3 (ipykernel)",
   "language": "python",
   "name": "python3"
  },
  "language_info": {
   "codemirror_mode": {
    "name": "ipython",
    "version": 3
   },
   "file_extension": ".py",
   "mimetype": "text/x-python",
   "name": "python",
   "nbconvert_exporter": "python",
   "pygments_lexer": "ipython3",
   "version": "3.11.7"
  }
 },
 "nbformat": 4,
 "nbformat_minor": 5
}
